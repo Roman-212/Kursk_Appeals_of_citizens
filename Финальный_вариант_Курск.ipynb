{
  "nbformat": 4,
  "nbformat_minor": 0,
  "metadata": {
    "colab": {
      "name": "Финальный вариант_Курск",
      "provenance": [],
      "collapsed_sections": [],
      "authorship_tag": "ABX9TyPKRXfHMFERucFhaNe96etV"
    },
    "kernelspec": {
      "name": "python3",
      "display_name": "Python 3"
    },
    "language_info": {
      "name": "python"
    }
  },
  "cells": [
    {
      "cell_type": "markdown",
      "source": [
        "**Загрузка необходимых для работы бибилиотек**"
      ],
      "metadata": {
        "id": "Auj6CMRoDGvu"
      }
    },
    {
      "cell_type": "code",
      "execution_count": 1,
      "metadata": {
        "id": "c_h12oBN-JHN"
      },
      "outputs": [],
      "source": [
        "from google.colab import files # Для работы с файлами \n",
        "import numpy as np # Для работы с данными \n",
        "import pandas as pd # Для работы с таблицами\n",
        "import matplotlib.pyplot as plt # Для вывода графиков\n",
        "import os # Для работы с файлами\n",
        "%matplotlib inline\n",
        "\n",
        "from tensorflow.keras import utils # Для работы с категориальными данными\n",
        "from tensorflow.keras.models import Sequential # Полносвязная модель\n",
        "from tensorflow.keras.optimizers import Adam\n",
        "from tensorflow.keras.layers import Dense, Dropout, SpatialDropout1D, BatchNormalization, Embedding, Flatten, Activation # Слои для сети\n",
        "from tensorflow.keras.preprocessing.text import Tokenizer # Методы для работы с текстами и преобразования их в последовательности\n",
        "from tensorflow.keras.preprocessing.sequence import pad_sequences # Метод для работы с последовательностями\n",
        "\n",
        "from sklearn.preprocessing import LabelEncoder # Метод кодирования тестовых лейблов\n",
        "from sklearn.model_selection import train_test_split # Для разделения выборки на тестовую и обучающую\n",
        "from google.colab import drive # Для работы с Google Drive\n",
        "import time # Импортируем библиотеку time\n",
        "from tensorflow.keras.callbacks import ModelCheckpoint # Для колбека\n",
        "from keras.models import load_model # Для сохранения и загрузки модели\n",
        "import re # Модуль работы с регулярными выражениями\n",
        "import seaborn as sns # Библиотека для визуализации данных"
      ]
    },
    {
      "cell_type": "code",
      "source": [
        "from google.colab import drive # Подключаем гугл диск\n",
        "drive.mount('/content/drive')"
      ],
      "metadata": {
        "colab": {
          "base_uri": "https://localhost:8080/"
        },
        "id": "3GcyCqjtC-ML",
        "outputId": "781147e4-98b9-4867-836d-9884ecc373b8"
      },
      "execution_count": 2,
      "outputs": [
        {
          "output_type": "stream",
          "name": "stdout",
          "text": [
            "Mounted at /content/drive\n"
          ]
        }
      ]
    },
    {
      "cell_type": "code",
      "source": [
        "# Загружаем фреймы\n",
        "df = pd.read_csv(open('/content/drive/MyDrive/Базы/Обращения граждан/train_dataset_train.csv')) # Обучающий датасет\n",
        "df_test = pd.read_csv(open('/content/drive/MyDrive/Базы/Обращения граждан/test_dataset_test.csv')) # Тестовый дата сет для сдачи\n",
        "df"
      ],
      "metadata": {
        "colab": {
          "base_uri": "https://localhost:8080/",
          "height": 424
        },
        "id": "b-TUo716Exxb",
        "outputId": "bf6731cb-e78a-4a21-8c9e-e13d3a5488e2"
      },
      "execution_count": 24,
      "outputs": [
        {
          "output_type": "execute_result",
          "data": {
            "text/plain": [
              "        id                                    Текст Сообщения  \\\n",
              "0     2246  Помогите начальник Льговского рэс не реагирует...   \n",
              "1      380  <p>По фасаду дома по адресу ул. Урицкого 22 пр...   \n",
              "2     2240  Агресивные собаки. На радуге там стая из подро...   \n",
              "3      596  <p>На пересечении &nbsp;улиц Сосновская и Бере...   \n",
              "4     1797  <p style=`text-align:justify;`><span style=`ba...   \n",
              "...    ...                                                ...   \n",
              "1995  1356  <p>22.12.21 в вечернее время появилась вонь от...   \n",
              "1996   243  <p>Добрый день! Хочу сообщить о такой проблеме...   \n",
              "1997  2350  Состоят 3 засохшие дерева (2 большие  берёзы и...   \n",
              "1998  1937  Пожалуйста роман Владимирович, в скором времен...   \n",
              "1999  1185  <p>Сдан ПЦР-тест 29.10.2021г., но результат те...   \n",
              "\n",
              "                                               Тематика  \\\n",
              "0     Нарушения, связанные с содержанием электросети...   \n",
              "1                                     Аварийные деревья   \n",
              "2                                 Безнадзорные животные   \n",
              "3     Нескошенная сорная растительность в местах общ...   \n",
              "4                                     Аварийные деревья   \n",
              "...                                                 ...   \n",
              "1995                                  Неприятные запахи   \n",
              "1996  Парковки на дорогах в границах городских округ...   \n",
              "1997                                  Аварийные деревья   \n",
              "1998  Нарушение дорожного покрытия (ямы)  на дорогах...   \n",
              "1999                         ПЦР-тест, тест на антитела   \n",
              "\n",
              "                              Ответственное лицо  Категория  \n",
              "0                Администрация Льговского района          3  \n",
              "1                    Администрация города Курска          3  \n",
              "2                    Администрация города Курска          1  \n",
              "3      Комитет дорожного хозяйства города Курска          3  \n",
              "4     Комитет городского хозяйства города Курска          3  \n",
              "...                                          ...        ...  \n",
              "1995  Комитет природных ресурсов Курской области         16  \n",
              "1996                 Администрация города Курска          0  \n",
              "1997                 Администрация города Курска          3  \n",
              "1998                 Администрация города Курска          0  \n",
              "1999     Комитет здравоохранения Курской области          4  \n",
              "\n",
              "[2000 rows x 5 columns]"
            ],
            "text/html": [
              "\n",
              "  <div id=\"df-3ad57100-6f67-4025-94b6-21dd39666567\">\n",
              "    <div class=\"colab-df-container\">\n",
              "      <div>\n",
              "<style scoped>\n",
              "    .dataframe tbody tr th:only-of-type {\n",
              "        vertical-align: middle;\n",
              "    }\n",
              "\n",
              "    .dataframe tbody tr th {\n",
              "        vertical-align: top;\n",
              "    }\n",
              "\n",
              "    .dataframe thead th {\n",
              "        text-align: right;\n",
              "    }\n",
              "</style>\n",
              "<table border=\"1\" class=\"dataframe\">\n",
              "  <thead>\n",
              "    <tr style=\"text-align: right;\">\n",
              "      <th></th>\n",
              "      <th>id</th>\n",
              "      <th>Текст Сообщения</th>\n",
              "      <th>Тематика</th>\n",
              "      <th>Ответственное лицо</th>\n",
              "      <th>Категория</th>\n",
              "    </tr>\n",
              "  </thead>\n",
              "  <tbody>\n",
              "    <tr>\n",
              "      <th>0</th>\n",
              "      <td>2246</td>\n",
              "      <td>Помогите начальник Льговского рэс не реагирует...</td>\n",
              "      <td>Нарушения, связанные с содержанием электросети...</td>\n",
              "      <td>Администрация Льговского района</td>\n",
              "      <td>3</td>\n",
              "    </tr>\n",
              "    <tr>\n",
              "      <th>1</th>\n",
              "      <td>380</td>\n",
              "      <td>&lt;p&gt;По фасаду дома по адресу ул. Урицкого 22 пр...</td>\n",
              "      <td>Аварийные деревья</td>\n",
              "      <td>Администрация города Курска</td>\n",
              "      <td>3</td>\n",
              "    </tr>\n",
              "    <tr>\n",
              "      <th>2</th>\n",
              "      <td>2240</td>\n",
              "      <td>Агресивные собаки. На радуге там стая из подро...</td>\n",
              "      <td>Безнадзорные животные</td>\n",
              "      <td>Администрация города Курска</td>\n",
              "      <td>1</td>\n",
              "    </tr>\n",
              "    <tr>\n",
              "      <th>3</th>\n",
              "      <td>596</td>\n",
              "      <td>&lt;p&gt;На пересечении &amp;nbsp;улиц Сосновская и Бере...</td>\n",
              "      <td>Нескошенная сорная растительность в местах общ...</td>\n",
              "      <td>Комитет дорожного хозяйства города Курска</td>\n",
              "      <td>3</td>\n",
              "    </tr>\n",
              "    <tr>\n",
              "      <th>4</th>\n",
              "      <td>1797</td>\n",
              "      <td>&lt;p style=`text-align:justify;`&gt;&lt;span style=`ba...</td>\n",
              "      <td>Аварийные деревья</td>\n",
              "      <td>Комитет городского хозяйства города Курска</td>\n",
              "      <td>3</td>\n",
              "    </tr>\n",
              "    <tr>\n",
              "      <th>...</th>\n",
              "      <td>...</td>\n",
              "      <td>...</td>\n",
              "      <td>...</td>\n",
              "      <td>...</td>\n",
              "      <td>...</td>\n",
              "    </tr>\n",
              "    <tr>\n",
              "      <th>1995</th>\n",
              "      <td>1356</td>\n",
              "      <td>&lt;p&gt;22.12.21 в вечернее время появилась вонь от...</td>\n",
              "      <td>Неприятные запахи</td>\n",
              "      <td>Комитет природных ресурсов Курской области</td>\n",
              "      <td>16</td>\n",
              "    </tr>\n",
              "    <tr>\n",
              "      <th>1996</th>\n",
              "      <td>243</td>\n",
              "      <td>&lt;p&gt;Добрый день! Хочу сообщить о такой проблеме...</td>\n",
              "      <td>Парковки на дорогах в границах городских округ...</td>\n",
              "      <td>Администрация города Курска</td>\n",
              "      <td>0</td>\n",
              "    </tr>\n",
              "    <tr>\n",
              "      <th>1997</th>\n",
              "      <td>2350</td>\n",
              "      <td>Состоят 3 засохшие дерева (2 большие  берёзы и...</td>\n",
              "      <td>Аварийные деревья</td>\n",
              "      <td>Администрация города Курска</td>\n",
              "      <td>3</td>\n",
              "    </tr>\n",
              "    <tr>\n",
              "      <th>1998</th>\n",
              "      <td>1937</td>\n",
              "      <td>Пожалуйста роман Владимирович, в скором времен...</td>\n",
              "      <td>Нарушение дорожного покрытия (ямы)  на дорогах...</td>\n",
              "      <td>Администрация города Курска</td>\n",
              "      <td>0</td>\n",
              "    </tr>\n",
              "    <tr>\n",
              "      <th>1999</th>\n",
              "      <td>1185</td>\n",
              "      <td>&lt;p&gt;Сдан ПЦР-тест 29.10.2021г., но результат те...</td>\n",
              "      <td>ПЦР-тест, тест на антитела</td>\n",
              "      <td>Комитет здравоохранения Курской области</td>\n",
              "      <td>4</td>\n",
              "    </tr>\n",
              "  </tbody>\n",
              "</table>\n",
              "<p>2000 rows × 5 columns</p>\n",
              "</div>\n",
              "      <button class=\"colab-df-convert\" onclick=\"convertToInteractive('df-3ad57100-6f67-4025-94b6-21dd39666567')\"\n",
              "              title=\"Convert this dataframe to an interactive table.\"\n",
              "              style=\"display:none;\">\n",
              "        \n",
              "  <svg xmlns=\"http://www.w3.org/2000/svg\" height=\"24px\"viewBox=\"0 0 24 24\"\n",
              "       width=\"24px\">\n",
              "    <path d=\"M0 0h24v24H0V0z\" fill=\"none\"/>\n",
              "    <path d=\"M18.56 5.44l.94 2.06.94-2.06 2.06-.94-2.06-.94-.94-2.06-.94 2.06-2.06.94zm-11 1L8.5 8.5l.94-2.06 2.06-.94-2.06-.94L8.5 2.5l-.94 2.06-2.06.94zm10 10l.94 2.06.94-2.06 2.06-.94-2.06-.94-.94-2.06-.94 2.06-2.06.94z\"/><path d=\"M17.41 7.96l-1.37-1.37c-.4-.4-.92-.59-1.43-.59-.52 0-1.04.2-1.43.59L10.3 9.45l-7.72 7.72c-.78.78-.78 2.05 0 2.83L4 21.41c.39.39.9.59 1.41.59.51 0 1.02-.2 1.41-.59l7.78-7.78 2.81-2.81c.8-.78.8-2.07 0-2.86zM5.41 20L4 18.59l7.72-7.72 1.47 1.35L5.41 20z\"/>\n",
              "  </svg>\n",
              "      </button>\n",
              "      \n",
              "  <style>\n",
              "    .colab-df-container {\n",
              "      display:flex;\n",
              "      flex-wrap:wrap;\n",
              "      gap: 12px;\n",
              "    }\n",
              "\n",
              "    .colab-df-convert {\n",
              "      background-color: #E8F0FE;\n",
              "      border: none;\n",
              "      border-radius: 50%;\n",
              "      cursor: pointer;\n",
              "      display: none;\n",
              "      fill: #1967D2;\n",
              "      height: 32px;\n",
              "      padding: 0 0 0 0;\n",
              "      width: 32px;\n",
              "    }\n",
              "\n",
              "    .colab-df-convert:hover {\n",
              "      background-color: #E2EBFA;\n",
              "      box-shadow: 0px 1px 2px rgba(60, 64, 67, 0.3), 0px 1px 3px 1px rgba(60, 64, 67, 0.15);\n",
              "      fill: #174EA6;\n",
              "    }\n",
              "\n",
              "    [theme=dark] .colab-df-convert {\n",
              "      background-color: #3B4455;\n",
              "      fill: #D2E3FC;\n",
              "    }\n",
              "\n",
              "    [theme=dark] .colab-df-convert:hover {\n",
              "      background-color: #434B5C;\n",
              "      box-shadow: 0px 1px 3px 1px rgba(0, 0, 0, 0.15);\n",
              "      filter: drop-shadow(0px 1px 2px rgba(0, 0, 0, 0.3));\n",
              "      fill: #FFFFFF;\n",
              "    }\n",
              "  </style>\n",
              "\n",
              "      <script>\n",
              "        const buttonEl =\n",
              "          document.querySelector('#df-3ad57100-6f67-4025-94b6-21dd39666567 button.colab-df-convert');\n",
              "        buttonEl.style.display =\n",
              "          google.colab.kernel.accessAllowed ? 'block' : 'none';\n",
              "\n",
              "        async function convertToInteractive(key) {\n",
              "          const element = document.querySelector('#df-3ad57100-6f67-4025-94b6-21dd39666567');\n",
              "          const dataTable =\n",
              "            await google.colab.kernel.invokeFunction('convertToInteractive',\n",
              "                                                     [key], {});\n",
              "          if (!dataTable) return;\n",
              "\n",
              "          const docLinkHtml = 'Like what you see? Visit the ' +\n",
              "            '<a target=\"_blank\" href=https://colab.research.google.com/notebooks/data_table.ipynb>data table notebook</a>'\n",
              "            + ' to learn more about interactive tables.';\n",
              "          element.innerHTML = '';\n",
              "          dataTable['output_type'] = 'display_data';\n",
              "          await google.colab.output.renderOutput(dataTable, element);\n",
              "          const docLink = document.createElement('div');\n",
              "          docLink.innerHTML = docLinkHtml;\n",
              "          element.appendChild(docLink);\n",
              "        }\n",
              "      </script>\n",
              "    </div>\n",
              "  </div>\n",
              "  "
            ]
          },
          "metadata": {},
          "execution_count": 24
        }
      ]
    },
    {
      "cell_type": "markdown",
      "source": [
        "**Визуализируем балансировку дата сета и подсчитываем её**"
      ],
      "metadata": {
        "id": "NdMH-JHCGaCF"
      }
    },
    {
      "cell_type": "code",
      "source": [
        "# Считаем расбалансировку \n",
        "for cl in df['Категория'].unique(): #Проходим по всем классам\n",
        "  print('Количество записей категории', cl, ':', df[df['Категория'] == cl].shape[0])\n",
        "sns.histplot(data=df.Категория) # Визуализируем расбалансировку"
      ],
      "metadata": {
        "colab": {
          "base_uri": "https://localhost:8080/",
          "height": 595
        },
        "id": "jbY9_YZ2GZLn",
        "outputId": "e72c1ed5-ff51-4f98-e39c-0ba6a1e1441f"
      },
      "execution_count": 25,
      "outputs": [
        {
          "output_type": "stream",
          "name": "stdout",
          "text": [
            "Количество записей категории 3 : 954\n",
            "Количество записей категории 1 : 25\n",
            "Количество записей категории 16 : 149\n",
            "Количество записей категории 0 : 478\n",
            "Количество записей категории 6 : 10\n",
            "Количество записей категории 8 : 139\n",
            "Количество записей категории 4 : 108\n",
            "Количество записей категории 13 : 11\n",
            "Количество записей категории 10 : 48\n",
            "Количество записей категории 11 : 19\n",
            "Количество записей категории 14 : 4\n",
            "Количество записей категории 7 : 27\n",
            "Количество записей категории 5 : 12\n",
            "Количество записей категории 15 : 7\n",
            "Количество записей категории 2 : 3\n",
            "Количество записей категории 9 : 5\n",
            "Количество записей категории 12 : 1\n"
          ]
        },
        {
          "output_type": "execute_result",
          "data": {
            "text/plain": [
              "<matplotlib.axes._subplots.AxesSubplot at 0x7ffb0004fb50>"
            ]
          },
          "metadata": {},
          "execution_count": 25
        },
        {
          "output_type": "display_data",
          "data": {
            "text/plain": [
              "<Figure size 432x288 with 1 Axes>"
            ],
            "image/png": "[encoded data removed]"
          },
          "metadata": {
            "needs_background": "light"
          }
        }
      ]
    },
    {
      "cell_type": "markdown",
      "source": [
        "**Согласно полученным данным расбалансировки, принимаем следующее решение:**\n",
        "\n",
        "- необходимо увеличить словарь слов\n",
        "- необходимо увеличить количество признаков в обращениях\n",
        "\n",
        "**Для этого необходимо объеденить все текстовые колонки и привести их к единому виду**"
      ],
      "metadata": {
        "id": "7-qPnasnHMpg"
      }
    },
    {
      "cell_type": "markdown",
      "source": [
        "**Объединяем текстовые колонки**"
      ],
      "metadata": {
        "id": "fCUFFQH-FP-l"
      }
    },
    {
      "cell_type": "code",
      "source": [
        "df[\"Текст Сообщения\"] = df[\"Текст Сообщения\"].astype(str) + \" \" + df[\"Тематика\"].astype(str) + \" \" + df[\"Ответственное лицо\"].astype(str) # Объединяем\n",
        "df.drop(df.columns[[2,3]], axis=1, inplace=True) # Удаляем объединенные колоки\n",
        "df.head(3) # Выводим первые 3 строки дата сета"
      ],
      "metadata": {
        "colab": {
          "base_uri": "https://localhost:8080/",
          "height": 143
        },
        "id": "-ePpDvdYFBbA",
        "outputId": "684c61be-eeba-4f22-c4a0-dc961ad29ab4"
      },
      "execution_count": 26,
      "outputs": [
        {
          "output_type": "execute_result",
          "data": {
            "text/plain": [
              "     id                                    Текст Сообщения  Категория\n",
              "0  2246  Помогите начальник Льговского рэс не реагирует...          3\n",
              "1   380  <p>По фасаду дома по адресу ул. Урицкого 22 пр...          3\n",
              "2  2240  Агресивные собаки. На радуге там стая из подро...          1"
            ],
            "text/html": [
              "\n",
              "  <div id=\"df-208c4b8d-ac11-4dd0-9a00-458c2d678537\">\n",
              "    <div class=\"colab-df-container\">\n",
              "      <div>\n",
              "<style scoped>\n",
              "    .dataframe tbody tr th:only-of-type {\n",
              "        vertical-align: middle;\n",
              "    }\n",
              "\n",
              "    .dataframe tbody tr th {\n",
              "        vertical-align: top;\n",
              "    }\n",
              "\n",
              "    .dataframe thead th {\n",
              "        text-align: right;\n",
              "    }\n",
              "</style>\n",
              "<table border=\"1\" class=\"dataframe\">\n",
              "  <thead>\n",
              "    <tr style=\"text-align: right;\">\n",
              "      <th></th>\n",
              "      <th>id</th>\n",
              "      <th>Текст Сообщения</th>\n",
              "      <th>Категория</th>\n",
              "    </tr>\n",
              "  </thead>\n",
              "  <tbody>\n",
              "    <tr>\n",
              "      <th>0</th>\n",
              "      <td>2246</td>\n",
              "      <td>Помогите начальник Льговского рэс не реагирует...</td>\n",
              "      <td>3</td>\n",
              "    </tr>\n",
              "    <tr>\n",
              "      <th>1</th>\n",
              "      <td>380</td>\n",
              "      <td>&lt;p&gt;По фасаду дома по адресу ул. Урицкого 22 пр...</td>\n",
              "      <td>3</td>\n",
              "    </tr>\n",
              "    <tr>\n",
              "      <th>2</th>\n",
              "      <td>2240</td>\n",
              "      <td>Агресивные собаки. На радуге там стая из подро...</td>\n",
              "      <td>1</td>\n",
              "    </tr>\n",
              "  </tbody>\n",
              "</table>\n",
              "</div>\n",
              "      <button class=\"colab-df-convert\" onclick=\"convertToInteractive('df-208c4b8d-ac11-4dd0-9a00-458c2d678537')\"\n",
              "              title=\"Convert this dataframe to an interactive table.\"\n",
              "              style=\"display:none;\">\n",
              "        \n",
              "  <svg xmlns=\"http://www.w3.org/2000/svg\" height=\"24px\"viewBox=\"0 0 24 24\"\n",
              "       width=\"24px\">\n",
              "    <path d=\"M0 0h24v24H0V0z\" fill=\"none\"/>\n",
              "    <path d=\"M18.56 5.44l.94 2.06.94-2.06 2.06-.94-2.06-.94-.94-2.06-.94 2.06-2.06.94zm-11 1L8.5 8.5l.94-2.06 2.06-.94-2.06-.94L8.5 2.5l-.94 2.06-2.06.94zm10 10l.94 2.06.94-2.06 2.06-.94-2.06-.94-.94-2.06-.94 2.06-2.06.94z\"/><path d=\"M17.41 7.96l-1.37-1.37c-.4-.4-.92-.59-1.43-.59-.52 0-1.04.2-1.43.59L10.3 9.45l-7.72 7.72c-.78.78-.78 2.05 0 2.83L4 21.41c.39.39.9.59 1.41.59.51 0 1.02-.2 1.41-.59l7.78-7.78 2.81-2.81c.8-.78.8-2.07 0-2.86zM5.41 20L4 18.59l7.72-7.72 1.47 1.35L5.41 20z\"/>\n",
              "  </svg>\n",
              "      </button>\n",
              "      \n",
              "  <style>\n",
              "    .colab-df-container {\n",
              "      display:flex;\n",
              "      flex-wrap:wrap;\n",
              "      gap: 12px;\n",
              "    }\n",
              "\n",
              "    .colab-df-convert {\n",
              "      background-color: #E8F0FE;\n",
              "      border: none;\n",
              "      border-radius: 50%;\n",
              "      cursor: pointer;\n",
              "      display: none;\n",
              "      fill: #1967D2;\n",
              "      height: 32px;\n",
              "      padding: 0 0 0 0;\n",
              "      width: 32px;\n",
              "    }\n",
              "\n",
              "    .colab-df-convert:hover {\n",
              "      background-color: #E2EBFA;\n",
              "      box-shadow: 0px 1px 2px rgba(60, 64, 67, 0.3), 0px 1px 3px 1px rgba(60, 64, 67, 0.15);\n",
              "      fill: #174EA6;\n",
              "    }\n",
              "\n",
              "    [theme=dark] .colab-df-convert {\n",
              "      background-color: #3B4455;\n",
              "      fill: #D2E3FC;\n",
              "    }\n",
              "\n",
              "    [theme=dark] .colab-df-convert:hover {\n",
              "      background-color: #434B5C;\n",
              "      box-shadow: 0px 1px 3px 1px rgba(0, 0, 0, 0.15);\n",
              "      filter: drop-shadow(0px 1px 2px rgba(0, 0, 0, 0.3));\n",
              "      fill: #FFFFFF;\n",
              "    }\n",
              "  </style>\n",
              "\n",
              "      <script>\n",
              "        const buttonEl =\n",
              "          document.querySelector('#df-208c4b8d-ac11-4dd0-9a00-458c2d678537 button.colab-df-convert');\n",
              "        buttonEl.style.display =\n",
              "          google.colab.kernel.accessAllowed ? 'block' : 'none';\n",
              "\n",
              "        async function convertToInteractive(key) {\n",
              "          const element = document.querySelector('#df-208c4b8d-ac11-4dd0-9a00-458c2d678537');\n",
              "          const dataTable =\n",
              "            await google.colab.kernel.invokeFunction('convertToInteractive',\n",
              "                                                     [key], {});\n",
              "          if (!dataTable) return;\n",
              "\n",
              "          const docLinkHtml = 'Like what you see? Visit the ' +\n",
              "            '<a target=\"_blank\" href=https://colab.research.google.com/notebooks/data_table.ipynb>data table notebook</a>'\n",
              "            + ' to learn more about interactive tables.';\n",
              "          element.innerHTML = '';\n",
              "          dataTable['output_type'] = 'display_data';\n",
              "          await google.colab.output.renderOutput(dataTable, element);\n",
              "          const docLink = document.createElement('div');\n",
              "          docLink.innerHTML = docLinkHtml;\n",
              "          element.appendChild(docLink);\n",
              "        }\n",
              "      </script>\n",
              "    </div>\n",
              "  </div>\n",
              "  "
            ]
          },
          "metadata": {},
          "execution_count": 26
        }
      ]
    },
    {
      "cell_type": "markdown",
      "source": [
        "**Предобрабатываем текстовые данные и приводим их к единому виду**"
      ],
      "metadata": {
        "id": "hNLOYXAWQUvo"
      }
    },
    {
      "cell_type": "code",
      "source": [
        "from string import punctuation  # Модуль для работы со строками\n",
        "\n",
        "# Удаление символов пунктуации\n",
        "def remove_punctuation(my_string):\n",
        "    return \"\".join([ch if ch not in punctuation else ' ' for ch in my_string]) # Замена на пробелы!!!\n",
        "\n",
        "# Удаление чисел\n",
        "def remove_numbers(my_string):\n",
        "    return ''.join([i if not i.isdigit() else ' ' for i in my_string])\n",
        "\n",
        "# Замена множественных пробелов на одинарный пробел\n",
        "import re\n",
        "def remove_multiple_spaces(my_string):\n",
        "\treturn re.sub(r'\\s+', ' ', my_string, flags=re.I)\n",
        "\n",
        "# Обработка строк + дополнительно приведение к нижнему регистру\n",
        "preproccessing = lambda text: (remove_multiple_spaces(remove_numbers(remove_punctuation(text.lower())))) \n",
        "\n",
        "# Создаем колонку в датасете для обработанного текста\n",
        "# Заменяем изначальный текст на предобработанный, без лишних знаков и приведением к нижнему регистру\n",
        "df['Текст Сообщения'] = list(map(preproccessing, df['Текст Сообщения']))\n",
        "df.head()"
      ],
      "metadata": {
        "colab": {
          "base_uri": "https://localhost:8080/",
          "height": 206
        },
        "id": "3Yx_aOr_QOCY",
        "outputId": "50dd5ac1-2e57-402e-ef28-b8b7fd02f8d9"
      },
      "execution_count": 28,
      "outputs": [
        {
          "output_type": "execute_result",
          "data": {
            "text/plain": [
              "     id                                    Текст Сообщения  Категория\n",
              "0  2246  помогите начальник льговского рэс не реагирует...          3\n",
              "1   380   p по фасаду дома по адресу ул урицкого проход...          3\n",
              "2  2240  агресивные собаки на радуге там стая из подрос...          1\n",
              "3   596   p на пересечении nbsp улиц сосновская и берег...          3\n",
              "4  1797   p style text align justify span style backgro...          3"
            ],
            "text/html": [
              "\n",
              "  <div id=\"df-3670340c-81c3-4e08-9c1b-268772da8cb0\">\n",
              "    <div class=\"colab-df-container\">\n",
              "      <div>\n",
              "<style scoped>\n",
              "    .dataframe tbody tr th:only-of-type {\n",
              "        vertical-align: middle;\n",
              "    }\n",
              "\n",
              "    .dataframe tbody tr th {\n",
              "        vertical-align: top;\n",
              "    }\n",
              "\n",
              "    .dataframe thead th {\n",
              "        text-align: right;\n",
              "    }\n",
              "</style>\n",
              "<table border=\"1\" class=\"dataframe\">\n",
              "  <thead>\n",
              "    <tr style=\"text-align: right;\">\n",
              "      <th></th>\n",
              "      <th>id</th>\n",
              "      <th>Текст Сообщения</th>\n",
              "      <th>Категория</th>\n",
              "    </tr>\n",
              "  </thead>\n",
              "  <tbody>\n",
              "    <tr>\n",
              "      <th>0</th>\n",
              "      <td>2246</td>\n",
              "      <td>помогите начальник льговского рэс не реагирует...</td>\n",
              "      <td>3</td>\n",
              "    </tr>\n",
              "    <tr>\n",
              "      <th>1</th>\n",
              "      <td>380</td>\n",
              "      <td>p по фасаду дома по адресу ул урицкого проход...</td>\n",
              "      <td>3</td>\n",
              "    </tr>\n",
              "    <tr>\n",
              "      <th>2</th>\n",
              "      <td>2240</td>\n",
              "      <td>агресивные собаки на радуге там стая из подрос...</td>\n",
              "      <td>1</td>\n",
              "    </tr>\n",
              "    <tr>\n",
              "      <th>3</th>\n",
              "      <td>596</td>\n",
              "      <td>p на пересечении nbsp улиц сосновская и берег...</td>\n",
              "      <td>3</td>\n",
              "    </tr>\n",
              "    <tr>\n",
              "      <th>4</th>\n",
              "      <td>1797</td>\n",
              "      <td>p style text align justify span style backgro...</td>\n",
              "      <td>3</td>\n",
              "    </tr>\n",
              "  </tbody>\n",
              "</table>\n",
              "</div>\n",
              "      <button class=\"colab-df-convert\" onclick=\"convertToInteractive('df-3670340c-81c3-4e08-9c1b-268772da8cb0')\"\n",
              "              title=\"Convert this dataframe to an interactive table.\"\n",
              "              style=\"display:none;\">\n",
              "        \n",
              "  <svg xmlns=\"http://www.w3.org/2000/svg\" height=\"24px\"viewBox=\"0 0 24 24\"\n",
              "       width=\"24px\">\n",
              "    <path d=\"M0 0h24v24H0V0z\" fill=\"none\"/>\n",
              "    <path d=\"M18.56 5.44l.94 2.06.94-2.06 2.06-.94-2.06-.94-.94-2.06-.94 2.06-2.06.94zm-11 1L8.5 8.5l.94-2.06 2.06-.94-2.06-.94L8.5 2.5l-.94 2.06-2.06.94zm10 10l.94 2.06.94-2.06 2.06-.94-2.06-.94-.94-2.06-.94 2.06-2.06.94z\"/><path d=\"M17.41 7.96l-1.37-1.37c-.4-.4-.92-.59-1.43-.59-.52 0-1.04.2-1.43.59L10.3 9.45l-7.72 7.72c-.78.78-.78 2.05 0 2.83L4 21.41c.39.39.9.59 1.41.59.51 0 1.02-.2 1.41-.59l7.78-7.78 2.81-2.81c.8-.78.8-2.07 0-2.86zM5.41 20L4 18.59l7.72-7.72 1.47 1.35L5.41 20z\"/>\n",
              "  </svg>\n",
              "      </button>\n",
              "      \n",
              "  <style>\n",
              "    .colab-df-container {\n",
              "      display:flex;\n",
              "      flex-wrap:wrap;\n",
              "      gap: 12px;\n",
              "    }\n",
              "\n",
              "    .colab-df-convert {\n",
              "      background-color: #E8F0FE;\n",
              "      border: none;\n",
              "      border-radius: 50%;\n",
              "      cursor: pointer;\n",
              "      display: none;\n",
              "      fill: #1967D2;\n",
              "      height: 32px;\n",
              "      padding: 0 0 0 0;\n",
              "      width: 32px;\n",
              "    }\n",
              "\n",
              "    .colab-df-convert:hover {\n",
              "      background-color: #E2EBFA;\n",
              "      box-shadow: 0px 1px 2px rgba(60, 64, 67, 0.3), 0px 1px 3px 1px rgba(60, 64, 67, 0.15);\n",
              "      fill: #174EA6;\n",
              "    }\n",
              "\n",
              "    [theme=dark] .colab-df-convert {\n",
              "      background-color: #3B4455;\n",
              "      fill: #D2E3FC;\n",
              "    }\n",
              "\n",
              "    [theme=dark] .colab-df-convert:hover {\n",
              "      background-color: #434B5C;\n",
              "      box-shadow: 0px 1px 3px 1px rgba(0, 0, 0, 0.15);\n",
              "      filter: drop-shadow(0px 1px 2px rgba(0, 0, 0, 0.3));\n",
              "      fill: #FFFFFF;\n",
              "    }\n",
              "  </style>\n",
              "\n",
              "      <script>\n",
              "        const buttonEl =\n",
              "          document.querySelector('#df-3670340c-81c3-4e08-9c1b-268772da8cb0 button.colab-df-convert');\n",
              "        buttonEl.style.display =\n",
              "          google.colab.kernel.accessAllowed ? 'block' : 'none';\n",
              "\n",
              "        async function convertToInteractive(key) {\n",
              "          const element = document.querySelector('#df-3670340c-81c3-4e08-9c1b-268772da8cb0');\n",
              "          const dataTable =\n",
              "            await google.colab.kernel.invokeFunction('convertToInteractive',\n",
              "                                                     [key], {});\n",
              "          if (!dataTable) return;\n",
              "\n",
              "          const docLinkHtml = 'Like what you see? Visit the ' +\n",
              "            '<a target=\"_blank\" href=https://colab.research.google.com/notebooks/data_table.ipynb>data table notebook</a>'\n",
              "            + ' to learn more about interactive tables.';\n",
              "          element.innerHTML = '';\n",
              "          dataTable['output_type'] = 'display_data';\n",
              "          await google.colab.output.renderOutput(dataTable, element);\n",
              "          const docLink = document.createElement('div');\n",
              "          docLink.innerHTML = docLinkHtml;\n",
              "          element.appendChild(docLink);\n",
              "        }\n",
              "      </script>\n",
              "    </div>\n",
              "  </div>\n",
              "  "
            ]
          },
          "metadata": {},
          "execution_count": 28
        }
      ]
    },
    {
      "cell_type": "markdown",
      "source": [
        "**Приводим текст обращений к словарной форме**"
      ],
      "metadata": {
        "id": "jMxza6XqRBVK"
      }
    },
    {
      "cell_type": "code",
      "source": [
        "!pip install pymorphy2            # pymorphy2 - морфологический анализатор для русского языка\n",
        "!pip install pymorphy2-dicts      # пакет со словарями\n",
        "!pip install DAWG-Python  "
      ],
      "metadata": {
        "colab": {
          "base_uri": "https://localhost:8080/"
        },
        "id": "feakJoedQ6ps",
        "outputId": "78e310ba-a1f3-48e9-d4a0-433620765b91"
      },
      "execution_count": 29,
      "outputs": [
        {
          "output_type": "stream",
          "name": "stdout",
          "text": [
            "Looking in indexes: https://pypi.org/simple, https://us-python.pkg.dev/colab-wheels/public/simple/\n",
            "Collecting pymorphy2\n",
            "  Downloading pymorphy2-0.9.1-py3-none-any.whl (55 kB)\n",
            "\u001b[K     |████████████████████████████████| 55 kB 3.0 MB/s \n",
            "\u001b[?25hCollecting dawg-python>=0.7.1\n",
            "  Downloading DAWG_Python-0.7.2-py2.py3-none-any.whl (11 kB)\n",
            "Collecting pymorphy2-dicts-ru<3.0,>=2.4\n",
            "  Downloading pymorphy2_dicts_ru-2.4.417127.4579844-py2.py3-none-any.whl (8.2 MB)\n",
            "\u001b[K     |████████████████████████████████| 8.2 MB 14.2 MB/s \n",
            "\u001b[?25hRequirement already satisfied: docopt>=0.6 in /usr/local/lib/python3.7/dist-packages (from pymorphy2) (0.6.2)\n",
            "Installing collected packages: pymorphy2-dicts-ru, dawg-python, pymorphy2\n",
            "Successfully installed dawg-python-0.7.2 pymorphy2-0.9.1 pymorphy2-dicts-ru-2.4.417127.4579844\n",
            "Looking in indexes: https://pypi.org/simple, https://us-python.pkg.dev/colab-wheels/public/simple/\n",
            "Collecting pymorphy2-dicts\n",
            "  Downloading pymorphy2_dicts-2.4.393442.3710985-py2.py3-none-any.whl (7.1 MB)\n",
            "\u001b[K     |████████████████████████████████| 7.1 MB 6.7 MB/s \n",
            "\u001b[?25hInstalling collected packages: pymorphy2-dicts\n",
            "Successfully installed pymorphy2-dicts-2.4.393442.3710985\n",
            "Looking in indexes: https://pypi.org/simple, https://us-python.pkg.dev/colab-wheels/public/simple/\n",
            "Requirement already satisfied: DAWG-Python in /usr/local/lib/python3.7/dist-packages (0.7.2)\n"
          ]
        }
      ]
    },
    {
      "cell_type": "code",
      "source": [
        "import pymorphy2\n",
        "morph = pymorphy2.MorphAnalyzer()\n",
        "# NLTK - библиотек Python для решения задач обработки естественного языка\n",
        "import nltk\n",
        "\n",
        "from nltk.stem.snowball import SnowballStemmer    # Стеммер Porter2 - новая версия стеммера Портера\n",
        "from nltk.corpus import stopwords                 # Библиотека стоп-слов\n",
        "from nltk import word_tokenize                    # Токенизатор\n",
        "\n",
        "nltk.download('stopwords')                        # Загрузка стоп-слов\n",
        "nltk.download('punkt')                            # Загрузка символов пунктуации\n",
        "stemmer = SnowballStemmer(\"russian\")              # Стеммер для русского языка\n",
        "\n",
        "russian_stopwords = stopwords.words(\"russian\")    # Список стоп-слов для русского языка\n",
        "# Расширение списка стоп-слов (см. набор данных)\n",
        "russian_stopwords.extend(['…', '«', '»', '...', 'т.д.', 'т', 'д', 'nan', 'p', '/', '\\'', '<', '>'])"
      ],
      "metadata": {
        "colab": {
          "base_uri": "https://localhost:8080/"
        },
        "id": "i-pWl54aRK9Q",
        "outputId": "d3d2d822-05b7-49b7-a599-5ee706c484ac"
      },
      "execution_count": 32,
      "outputs": [
        {
          "output_type": "stream",
          "name": "stderr",
          "text": [
            "[nltk_data] Downloading package stopwords to /root/nltk_data...\n",
            "[nltk_data]   Package stopwords is already up-to-date!\n",
            "[nltk_data] Downloading package punkt to /root/nltk_data...\n",
            "[nltk_data]   Package punkt is already up-to-date!\n"
          ]
        }
      ]
    },
    {
      "cell_type": "code",
      "source": [
        "# Провердим лемматизацию и избавляемся от стоп-слов\n",
        "lemm_texts_column = []\n",
        "for text in df['Текст Сообщения']:\n",
        "    tokens = word_tokenize(text)    \n",
        "    lemmed_tokens = [morph.parse(token)[0].normal_form for token in tokens if token not in russian_stopwords]\n",
        "    text = \" \".join(lemmed_tokens)\n",
        "    lemm_texts_column.append(text)\n",
        "    \n",
        "# Заменяем существующие тексты на лемматизированные\n",
        "df['Текст Сообщения'] = lemm_texts_column\n",
        "df['Текст Сообщения'][0] # Выводим пример первой строки дата сета"
      ],
      "metadata": {
        "colab": {
          "base_uri": "https://localhost:8080/",
          "height": 53
        },
        "id": "YGs7N1HDRT-v",
        "outputId": "e978e5b8-bb1f-4216-9cb5-625cbbbd97ad"
      },
      "execution_count": 33,
      "outputs": [
        {
          "output_type": "execute_result",
          "data": {
            "text/plain": [
              "'помочь начальник льговский рэс реагировать жалоба малый ветер сидеть свет именно деревня больший угон улица старый слобода пожалуйста помочь пускай вычистить фотоотчёт сделать нарушение связанный содержание электросеть качество энергоснабжение район частное сектор администрация льговский район'"
            ],
            "application/vnd.google.colaboratory.intrinsic+json": {
              "type": "string"
            }
          },
          "metadata": {},
          "execution_count": 33
        }
      ]
    },
    {
      "cell_type": "markdown",
      "source": [
        "**Нормализуем датасет для обучения нейронной сети**"
      ],
      "metadata": {
        "id": "OhnuoDYeNv_r"
      }
    },
    {
      "cell_type": "code",
      "source": [
        "texts = df['Текст Сообщения'].values # Извлекаем данные всех текстов из столбца 'Текст Сообщения'\n",
        "classes = list(df['Категория'].values) # Извлекаем соответствующие им значения классов (лейблов) столбца 'Текст Сообщения'\n",
        "maxWordsCount = 9000 # Зададим максимальное количество слов/индексов, учитываемое при обучении текстов\n",
        "\n",
        "print(df['Категория'].unique()) # Выводим все уникальные значения классов\n",
        "nClasses = df['Категория'].nunique() # Задаём количество классов, обращаясь к столбцу 'Категория' и оставляя уникальные значения\n",
        "print('Количество классов =', nClasses) # Посмотрим на количество классов"
      ],
      "metadata": {
        "colab": {
          "base_uri": "https://localhost:8080/"
        },
        "id": "AvODjcOdN6r_",
        "outputId": "16b3c486-cb28-4c3c-8139-c620596d9ae3"
      },
      "execution_count": 58,
      "outputs": [
        {
          "output_type": "stream",
          "name": "stdout",
          "text": [
            "[ 3  1 16  0  6  8  4 13 10 11 14  7  5 15  2  9 12]\n",
            "Количество классов = 17\n"
          ]
        }
      ]
    },
    {
      "cell_type": "code",
      "source": [
        "#Преобразовываем текстовые данные в числовые/векторные для обучения нейросетью\n",
        "#Для этого воспользуемся встроенной в Keras функцией Tokenizer для разбиения текста и превращения в матрицу числовых значений\n",
        "#num_words=maxWordsCount - определяем макс.кол-во слов/индексов, учитываемое при обучении текстов\n",
        "#filters='!\"#$%&()*+,-./:;<=>?@[\\\\]^_`{|}~\\t\\n' - избавляемся от ненужных символов\n",
        "#lower=True - приводим слова к нижнему регистру\n",
        "#split=' ' - разделяем слова по пробелу\n",
        "#char_level=False - просим токенайзер не удалять однобуквенные слова\n",
        "tokenizer = Tokenizer(num_words=maxWordsCount, filters='!\"#$%&()*+,-./:;<=>?@[\\\\]^_`{|}~\\t\\n', lower=True, split=' ', oov_token='unknown', char_level=False)#False\n",
        "\n",
        "tokenizer.fit_on_texts(texts) # Даём в обработку наши тексты, методу, который соберет словарь частотности\n",
        "\n",
        "# Формируем матрицу индексов по принципу Bag of Words\n",
        "xAll = tokenizer.texts_to_matrix(texts) # Каждое слово из текста нашло свой индекс в векторе длиной maxWordsCount и отметилось в нем единичкой \n",
        "print(xAll.shape)  # Посмотрим на форму текстов\n",
        "print(xAll[0, :20])# И отдельно на фрагмент начала вектора"
      ],
      "metadata": {
        "colab": {
          "base_uri": "https://localhost:8080/"
        },
        "id": "_M6hRCmnOOzx",
        "outputId": "82c248d8-8ce0-4390-e34d-38cdeac0b10c"
      },
      "execution_count": 38,
      "outputs": [
        {
          "output_type": "stream",
          "name": "stdout",
          "text": [
            "(2000, 9000)\n",
            "[0. 0. 0. 0. 0. 0. 0. 1. 0. 0. 0. 0. 0. 0. 0. 1. 0. 0. 1. 0.]\n"
          ]
        }
      ]
    },
    {
      "cell_type": "code",
      "source": [
        "# Посмотрим размер словаря\n",
        "print(\"Размер словаря\", len(tokenizer.word_index.items()))"
      ],
      "metadata": {
        "colab": {
          "base_uri": "https://localhost:8080/"
        },
        "id": "YpjCA8xHSmZ4",
        "outputId": "5cb2b1c1-e716-4b9f-ab6f-57e886d40367"
      },
      "execution_count": 40,
      "outputs": [
        {
          "output_type": "stream",
          "name": "stdout",
          "text": [
            "Размер словаря 8711\n"
          ]
        }
      ]
    },
    {
      "cell_type": "code",
      "source": [
        "#Преобразовываем категории в векторы\n",
        "encoder = LabelEncoder() # Вызываем метод кодирования тестовых лейблов из библиотеки sklearn\n",
        "encoder.fit(classes) # Подгружаем в него категории из нашей базы\n",
        "classesEncoded = encoder.transform(classes) # Кодируем категории\n",
        "print('Посмотрим кодированные категории', encoder.classes_) # Посмотрим кодированные категории\n",
        "print('Количество',classesEncoded.shape)\n",
        "print('Посмотрим как выглядят первые 17 категорий', classesEncoded[:17])\n",
        "\n",
        "yAll = utils.to_categorical(classesEncoded, nClasses) # И выводим каждый лейбл в виде вектора длиной 17, с 1кой в позиции соответствующего класса и нулями\n",
        "print('Форма лейблов', yAll.shape) # Посмотрим на форму лейблов категорий\n",
        "print('Первая строка лейблов',yAll[0]) # И отдельно на первую строку"
      ],
      "metadata": {
        "colab": {
          "base_uri": "https://localhost:8080/"
        },
        "id": "PeKIAqboSvTo",
        "outputId": "3abc3f67-88e7-4947-a620-6f6afabfb70f"
      },
      "execution_count": 46,
      "outputs": [
        {
          "output_type": "stream",
          "name": "stdout",
          "text": [
            "Посмотрим кодированные категории [ 0  1  2  3  4  5  6  7  8  9 10 11 12 13 14 15 16]\n",
            "Количество (2000,)\n",
            "Посмотрим как выглядят первые 17 категорий [ 3  3  1  3  3  3  3 16  3  0  0  3  3  3  0  3  3]\n",
            "Форма лейблов (2000, 17)\n",
            "Первая строка лейблов [0. 0. 0. 1. 0. 0. 0. 0. 0. 0. 0. 0. 0. 0. 0. 0. 0.]\n"
          ]
        }
      ]
    },
    {
      "cell_type": "code",
      "source": [
        "# разбиваем все данные на обучающую и тестовую выборки с помощью метода train_test_split из библиотеки sklearn\n",
        "xTrain, xVal, yTrain, yVal = train_test_split(xAll, yAll, test_size=0.2, shuffle = True) # Берем 20% на тестовую выборку и перемешиваем данные\n",
        "print(xTrain.shape) #посмотрим на форму текстов из обучающей выборки\n",
        "print(yTrain.shape) #и на форму соответсвующих им классов"
      ],
      "metadata": {
        "colab": {
          "base_uri": "https://localhost:8080/"
        },
        "id": "e-euIMvLTyAm",
        "outputId": "c51247a8-81d1-4114-c6a1-a245159e9146"
      },
      "execution_count": 47,
      "outputs": [
        {
          "output_type": "stream",
          "name": "stdout",
          "text": [
            "(1600, 9000)\n",
            "(1600, 17)\n"
          ]
        }
      ]
    },
    {
      "cell_type": "markdown",
      "source": [
        "**Сохранение весов модели для выбора наилучшей эпохи**"
      ],
      "metadata": {
        "id": "wTIBcuWlUEkS"
      }
    },
    {
      "cell_type": "code",
      "source": [
        "# Сохраняем сеть на каждой эпохе\n",
        "# {epoch:02d} - номер эпохи\n",
        "# {val_acc:.4f} - значение аккуратности на проверочном ноборе данных\n",
        "callbacks = [ModelCheckpoint('save_models/Appeals_of_citizens-{epoch:02d}-{loss:.4f}.hdf5')]\n",
        "# Сохраняем только лучший вариант сети\n",
        "#callbacks = [ModelCheckpoint('save/Kursk-text.hdf5', monitor='val_loss', save_best_only=True)]"
      ],
      "metadata": {
        "id": "fuE3DVrAUBpv"
      },
      "execution_count": 48,
      "outputs": []
    },
    {
      "cell_type": "markdown",
      "source": [
        "**Обучаем нейронную сеть**"
      ],
      "metadata": {
        "id": "38m6Zfp1UNfU"
      }
    },
    {
      "cell_type": "code",
      "source": [
        "#Создаём полносвязную сеть\n",
        "model = Sequential()\n",
        "#Входной полносвязный слой\n",
        "model.add(Dense(100, input_dim=maxWordsCount, activation=\"relu\"))\n",
        "#Слой регуляризации Dropout\n",
        "model.add(Dropout(0.2)) \n",
        "#Второй полносвязный слой\n",
        "model.add(Dense(100, activation='relu'))\n",
        "#Слой регуляризации Dropout\n",
        "model.add(Dropout(0.3))\n",
        "#Третий полносвязный слой\n",
        "model.add(Dense(100, activation='relu'))\n",
        "#Слой регуляризации Dropout\n",
        "model.add(Dropout(0.4))\n",
        "#Выходной полносвязный слой\n",
        "model.add(Dense(nClasses, activation='softmax'))#softmax, sigmoid\n",
        "time_start = [time.time()]\n",
        "\n",
        "model.compile(optimizer='adam', \n",
        "              loss='categorical_crossentropy', \n",
        "              metrics=['accuracy'])\n",
        "\n",
        "#Обучаем сеть на выборке\n",
        "history = model.fit(xTrain, \n",
        "                    yTrain, \n",
        "                    epochs=30,\n",
        "                    batch_size=64,\n",
        "                    validation_data=(xVal, yVal),\n",
        "                    verbose=2,\n",
        "                    callbacks=callbacks)\n",
        "\n",
        "plt.plot(history.history['accuracy'], \n",
        "         label='Доля верных ответов на обучающем наборе')\n",
        "plt.plot(history.history['val_accuracy'], \n",
        "         label='Доля верных ответов на проверочном наборе')\n",
        "plt.xlabel('Эпоха обучения')\n",
        "plt.ylabel('Доля верных ответов')\n",
        "plt.legend()\n",
        "plt.show()"
      ],
      "metadata": {
        "colab": {
          "base_uri": "https://localhost:8080/",
          "height": 1000
        },
        "id": "Sv4rnERzURWK",
        "outputId": "ebf5f863-332e-4cbf-91df-217362f570f5"
      },
      "execution_count": 49,
      "outputs": [
        {
          "output_type": "stream",
          "name": "stdout",
          "text": [
            "Epoch 1/30\n",
            "25/25 - 1s - loss: 2.1803 - accuracy: 0.4663 - val_loss: 1.3279 - val_accuracy: 0.6775 - 1s/epoch - 51ms/step\n",
            "Epoch 2/30\n",
            "25/25 - 0s - loss: 1.0599 - accuracy: 0.6894 - val_loss: 0.6659 - val_accuracy: 0.7975 - 359ms/epoch - 14ms/step\n",
            "Epoch 3/30\n",
            "25/25 - 1s - loss: 0.5511 - accuracy: 0.8425 - val_loss: 0.4109 - val_accuracy: 0.9025 - 513ms/epoch - 21ms/step\n",
            "Epoch 4/30\n",
            "25/25 - 1s - loss: 0.3360 - accuracy: 0.9119 - val_loss: 0.3084 - val_accuracy: 0.9200 - 650ms/epoch - 26ms/step\n",
            "Epoch 5/30\n",
            "25/25 - 1s - loss: 0.2130 - accuracy: 0.9438 - val_loss: 0.2884 - val_accuracy: 0.9250 - 574ms/epoch - 23ms/step\n",
            "Epoch 6/30\n",
            "25/25 - 1s - loss: 0.1662 - accuracy: 0.9506 - val_loss: 0.2554 - val_accuracy: 0.9325 - 667ms/epoch - 27ms/step\n",
            "Epoch 7/30\n",
            "25/25 - 1s - loss: 0.1395 - accuracy: 0.9613 - val_loss: 0.2575 - val_accuracy: 0.9425 - 824ms/epoch - 33ms/step\n",
            "Epoch 8/30\n",
            "25/25 - 1s - loss: 0.1185 - accuracy: 0.9644 - val_loss: 0.2388 - val_accuracy: 0.9450 - 690ms/epoch - 28ms/step\n",
            "Epoch 9/30\n",
            "25/25 - 1s - loss: 0.0954 - accuracy: 0.9756 - val_loss: 0.2301 - val_accuracy: 0.9475 - 590ms/epoch - 24ms/step\n",
            "Epoch 10/30\n",
            "25/25 - 1s - loss: 0.0768 - accuracy: 0.9794 - val_loss: 0.2286 - val_accuracy: 0.9500 - 671ms/epoch - 27ms/step\n",
            "Epoch 11/30\n",
            "25/25 - 1s - loss: 0.0646 - accuracy: 0.9812 - val_loss: 0.2377 - val_accuracy: 0.9525 - 599ms/epoch - 24ms/step\n",
            "Epoch 12/30\n",
            "25/25 - 1s - loss: 0.0488 - accuracy: 0.9869 - val_loss: 0.2305 - val_accuracy: 0.9525 - 616ms/epoch - 25ms/step\n",
            "Epoch 13/30\n",
            "25/25 - 0s - loss: 0.0444 - accuracy: 0.9844 - val_loss: 0.2117 - val_accuracy: 0.9575 - 347ms/epoch - 14ms/step\n",
            "Epoch 14/30\n",
            "25/25 - 0s - loss: 0.0327 - accuracy: 0.9937 - val_loss: 0.2496 - val_accuracy: 0.9500 - 362ms/epoch - 14ms/step\n",
            "Epoch 15/30\n",
            "25/25 - 0s - loss: 0.0337 - accuracy: 0.9937 - val_loss: 0.2281 - val_accuracy: 0.9525 - 348ms/epoch - 14ms/step\n",
            "Epoch 16/30\n",
            "25/25 - 0s - loss: 0.0244 - accuracy: 0.9950 - val_loss: 0.2555 - val_accuracy: 0.9575 - 339ms/epoch - 14ms/step\n",
            "Epoch 17/30\n",
            "25/25 - 0s - loss: 0.0245 - accuracy: 0.9956 - val_loss: 0.2763 - val_accuracy: 0.9525 - 345ms/epoch - 14ms/step\n",
            "Epoch 18/30\n",
            "25/25 - 0s - loss: 0.0354 - accuracy: 0.9931 - val_loss: 0.2471 - val_accuracy: 0.9575 - 329ms/epoch - 13ms/step\n",
            "Epoch 19/30\n",
            "25/25 - 0s - loss: 0.0211 - accuracy: 0.9937 - val_loss: 0.2447 - val_accuracy: 0.9625 - 366ms/epoch - 15ms/step\n",
            "Epoch 20/30\n",
            "25/25 - 0s - loss: 0.0264 - accuracy: 0.9937 - val_loss: 0.2681 - val_accuracy: 0.9575 - 339ms/epoch - 14ms/step\n",
            "Epoch 21/30\n",
            "25/25 - 0s - loss: 0.0142 - accuracy: 0.9962 - val_loss: 0.2207 - val_accuracy: 0.9650 - 337ms/epoch - 13ms/step\n",
            "Epoch 22/30\n",
            "25/25 - 0s - loss: 0.0127 - accuracy: 0.9975 - val_loss: 0.2434 - val_accuracy: 0.9650 - 332ms/epoch - 13ms/step\n",
            "Epoch 23/30\n",
            "25/25 - 0s - loss: 0.0188 - accuracy: 0.9956 - val_loss: 0.2421 - val_accuracy: 0.9650 - 335ms/epoch - 13ms/step\n",
            "Epoch 24/30\n",
            "25/25 - 0s - loss: 0.0111 - accuracy: 0.9981 - val_loss: 0.2442 - val_accuracy: 0.9625 - 335ms/epoch - 13ms/step\n",
            "Epoch 25/30\n",
            "25/25 - 0s - loss: 0.0144 - accuracy: 0.9969 - val_loss: 0.2343 - val_accuracy: 0.9650 - 443ms/epoch - 18ms/step\n",
            "Epoch 26/30\n",
            "25/25 - 0s - loss: 0.0113 - accuracy: 0.9962 - val_loss: 0.2287 - val_accuracy: 0.9625 - 348ms/epoch - 14ms/step\n",
            "Epoch 27/30\n",
            "25/25 - 0s - loss: 0.0129 - accuracy: 0.9975 - val_loss: 0.2492 - val_accuracy: 0.9625 - 349ms/epoch - 14ms/step\n",
            "Epoch 28/30\n",
            "25/25 - 0s - loss: 0.0098 - accuracy: 0.9975 - val_loss: 0.2411 - val_accuracy: 0.9625 - 349ms/epoch - 14ms/step\n",
            "Epoch 29/30\n",
            "25/25 - 0s - loss: 0.0087 - accuracy: 0.9969 - val_loss: 0.2364 - val_accuracy: 0.9625 - 355ms/epoch - 14ms/step\n",
            "Epoch 30/30\n",
            "25/25 - 0s - loss: 0.0107 - accuracy: 0.9987 - val_loss: 0.2568 - val_accuracy: 0.9575 - 373ms/epoch - 15ms/step\n"
          ]
        },
        {
          "output_type": "display_data",
          "data": {
            "text/plain": [
              "<Figure size 432x288 with 1 Axes>"
            ],
            "image/png": "[encoded data removed]"
          },
          "metadata": {
            "needs_background": "light"
          }
        }
      ]
    },
    {
      "cell_type": "code",
      "source": [
        "# 28 эпоха оказалась лучшей\n",
        "# Загружаем эпоху из дериктории\n",
        "#model = load_model('/content/save_models/Appeals_of_citizens-28-0.0098.hdf5')\n",
        "# Перезаписываем на диск\n",
        "model.save('/content/drive/MyDrive/Предобученные сети/Курск/Финальный вариант/Appeals_of_citizens-28-v_ac_0.9625.hdf5')"
      ],
      "metadata": {
        "id": "-zvDZg80Ufca"
      },
      "execution_count": 57,
      "outputs": []
    },
    {
      "cell_type": "markdown",
      "source": [
        "# **Предиктим (распознаем № категории по тексту обращения) тестовый датасет**"
      ],
      "metadata": {
        "id": "3SQ9o3uCVXdV"
      }
    },
    {
      "cell_type": "code",
      "source": [
        "# Загружаем тестовый датасет\n",
        "df_test = pd.read_csv(open('/content/drive/MyDrive/Базы/Обращения граждан/test_dataset_test.csv'))\n",
        "# Удаляем не нужные колоки \n",
        "df_test.drop(df_test.columns[[2,3]], axis=1, inplace=True)\n",
        "df_test.head(3) # Смотрим"
      ],
      "metadata": {
        "colab": {
          "base_uri": "https://localhost:8080/",
          "height": 143
        },
        "id": "VpX1rCg_VjiA",
        "outputId": "feb87786-30e2-4c42-e920-8e23b8a125a6"
      },
      "execution_count": 51,
      "outputs": [
        {
          "output_type": "execute_result",
          "data": {
            "text/plain": [
              "     id                                    Текст Сообщения\n",
              "0   843  <p>Здравствуйте. На улице Мира &nbsp;было заме...\n",
              "1  1422  <p>Уже вторую неделю не горит уличное освещени...\n",
              "2  2782  Не работает освещение во дворе дома 11а по Эне..."
            ],
            "text/html": [
              "\n",
              "  <div id=\"df-7368f8ff-463b-4da4-876e-61a6fab41fc2\">\n",
              "    <div class=\"colab-df-container\">\n",
              "      <div>\n",
              "<style scoped>\n",
              "    .dataframe tbody tr th:only-of-type {\n",
              "        vertical-align: middle;\n",
              "    }\n",
              "\n",
              "    .dataframe tbody tr th {\n",
              "        vertical-align: top;\n",
              "    }\n",
              "\n",
              "    .dataframe thead th {\n",
              "        text-align: right;\n",
              "    }\n",
              "</style>\n",
              "<table border=\"1\" class=\"dataframe\">\n",
              "  <thead>\n",
              "    <tr style=\"text-align: right;\">\n",
              "      <th></th>\n",
              "      <th>id</th>\n",
              "      <th>Текст Сообщения</th>\n",
              "    </tr>\n",
              "  </thead>\n",
              "  <tbody>\n",
              "    <tr>\n",
              "      <th>0</th>\n",
              "      <td>843</td>\n",
              "      <td>&lt;p&gt;Здравствуйте. На улице Мира &amp;nbsp;было заме...</td>\n",
              "    </tr>\n",
              "    <tr>\n",
              "      <th>1</th>\n",
              "      <td>1422</td>\n",
              "      <td>&lt;p&gt;Уже вторую неделю не горит уличное освещени...</td>\n",
              "    </tr>\n",
              "    <tr>\n",
              "      <th>2</th>\n",
              "      <td>2782</td>\n",
              "      <td>Не работает освещение во дворе дома 11а по Эне...</td>\n",
              "    </tr>\n",
              "  </tbody>\n",
              "</table>\n",
              "</div>\n",
              "      <button class=\"colab-df-convert\" onclick=\"convertToInteractive('df-7368f8ff-463b-4da4-876e-61a6fab41fc2')\"\n",
              "              title=\"Convert this dataframe to an interactive table.\"\n",
              "              style=\"display:none;\">\n",
              "        \n",
              "  <svg xmlns=\"http://www.w3.org/2000/svg\" height=\"24px\"viewBox=\"0 0 24 24\"\n",
              "       width=\"24px\">\n",
              "    <path d=\"M0 0h24v24H0V0z\" fill=\"none\"/>\n",
              "    <path d=\"M18.56 5.44l.94 2.06.94-2.06 2.06-.94-2.06-.94-.94-2.06-.94 2.06-2.06.94zm-11 1L8.5 8.5l.94-2.06 2.06-.94-2.06-.94L8.5 2.5l-.94 2.06-2.06.94zm10 10l.94 2.06.94-2.06 2.06-.94-2.06-.94-.94-2.06-.94 2.06-2.06.94z\"/><path d=\"M17.41 7.96l-1.37-1.37c-.4-.4-.92-.59-1.43-.59-.52 0-1.04.2-1.43.59L10.3 9.45l-7.72 7.72c-.78.78-.78 2.05 0 2.83L4 21.41c.39.39.9.59 1.41.59.51 0 1.02-.2 1.41-.59l7.78-7.78 2.81-2.81c.8-.78.8-2.07 0-2.86zM5.41 20L4 18.59l7.72-7.72 1.47 1.35L5.41 20z\"/>\n",
              "  </svg>\n",
              "      </button>\n",
              "      \n",
              "  <style>\n",
              "    .colab-df-container {\n",
              "      display:flex;\n",
              "      flex-wrap:wrap;\n",
              "      gap: 12px;\n",
              "    }\n",
              "\n",
              "    .colab-df-convert {\n",
              "      background-color: #E8F0FE;\n",
              "      border: none;\n",
              "      border-radius: 50%;\n",
              "      cursor: pointer;\n",
              "      display: none;\n",
              "      fill: #1967D2;\n",
              "      height: 32px;\n",
              "      padding: 0 0 0 0;\n",
              "      width: 32px;\n",
              "    }\n",
              "\n",
              "    .colab-df-convert:hover {\n",
              "      background-color: #E2EBFA;\n",
              "      box-shadow: 0px 1px 2px rgba(60, 64, 67, 0.3), 0px 1px 3px 1px rgba(60, 64, 67, 0.15);\n",
              "      fill: #174EA6;\n",
              "    }\n",
              "\n",
              "    [theme=dark] .colab-df-convert {\n",
              "      background-color: #3B4455;\n",
              "      fill: #D2E3FC;\n",
              "    }\n",
              "\n",
              "    [theme=dark] .colab-df-convert:hover {\n",
              "      background-color: #434B5C;\n",
              "      box-shadow: 0px 1px 3px 1px rgba(0, 0, 0, 0.15);\n",
              "      filter: drop-shadow(0px 1px 2px rgba(0, 0, 0, 0.3));\n",
              "      fill: #FFFFFF;\n",
              "    }\n",
              "  </style>\n",
              "\n",
              "      <script>\n",
              "        const buttonEl =\n",
              "          document.querySelector('#df-7368f8ff-463b-4da4-876e-61a6fab41fc2 button.colab-df-convert');\n",
              "        buttonEl.style.display =\n",
              "          google.colab.kernel.accessAllowed ? 'block' : 'none';\n",
              "\n",
              "        async function convertToInteractive(key) {\n",
              "          const element = document.querySelector('#df-7368f8ff-463b-4da4-876e-61a6fab41fc2');\n",
              "          const dataTable =\n",
              "            await google.colab.kernel.invokeFunction('convertToInteractive',\n",
              "                                                     [key], {});\n",
              "          if (!dataTable) return;\n",
              "\n",
              "          const docLinkHtml = 'Like what you see? Visit the ' +\n",
              "            '<a target=\"_blank\" href=https://colab.research.google.com/notebooks/data_table.ipynb>data table notebook</a>'\n",
              "            + ' to learn more about interactive tables.';\n",
              "          element.innerHTML = '';\n",
              "          dataTable['output_type'] = 'display_data';\n",
              "          await google.colab.output.renderOutput(dataTable, element);\n",
              "          const docLink = document.createElement('div');\n",
              "          docLink.innerHTML = docLinkHtml;\n",
              "          element.appendChild(docLink);\n",
              "        }\n",
              "      </script>\n",
              "    </div>\n",
              "  </div>\n",
              "  "
            ]
          },
          "metadata": {},
          "execution_count": 51
        }
      ]
    },
    {
      "cell_type": "markdown",
      "source": [
        "**Выполним такуюже пред обработку текста на которой обучалась нейронка**"
      ],
      "metadata": {
        "id": "JgvidCkVVh9b"
      }
    },
    {
      "cell_type": "code",
      "source": [
        "# Удаление символов пунктуации\n",
        "def remove_punctuation(my_string):\n",
        "    return \"\".join([ch if ch not in punctuation else ' ' for ch in my_string]) # Замена на пробелы!!!\n",
        "# Удаление чисел\n",
        "def remove_numbers(my_string):\n",
        "    return ''.join([i if not i.isdigit() else ' ' for i in my_string])\n",
        "# Замена множественных пробелов на одинарный пробел\n",
        "import re\n",
        "def remove_multiple_spaces(my_string):\n",
        "\treturn re.sub(r'\\s+', ' ', my_string, flags=re.I)\n",
        "# Обработка строк + дополнительно приведение к нижнему регистру\n",
        "preproccessing = lambda text: (remove_multiple_spaces(remove_numbers(remove_punctuation(text.lower())))) \n",
        "# Создаем колонку в датасете для обработанного текста\n",
        "df_test['Текст Сообщения'] = list(map(preproccessing, df_test['Текст Сообщения']))\n",
        "df_test.head()"
      ],
      "metadata": {
        "colab": {
          "base_uri": "https://localhost:8080/",
          "height": 206
        },
        "id": "SekXH2j_V768",
        "outputId": "cd3a1c13-c269-4e36-a72e-086071f8b0e1"
      },
      "execution_count": 52,
      "outputs": [
        {
          "output_type": "execute_result",
          "data": {
            "text/plain": [
              "     id                                    Текст Сообщения\n",
              "0   843   p здравствуйте на улице мира nbsp было замене...\n",
              "1  1422   p уже вторую неделю не горит уличное освещени...\n",
              "2  2782  не работает освещение во дворе дома а по энерг...\n",
              "3  2704  после покоса сорной растительности на газоне м...\n",
              "4     1   p прошу принять меры к водителю маршрута пос ..."
            ],
            "text/html": [
              "\n",
              "  <div id=\"df-5c7b4029-6913-4e5b-96e1-0b388ef3251d\">\n",
              "    <div class=\"colab-df-container\">\n",
              "      <div>\n",
              "<style scoped>\n",
              "    .dataframe tbody tr th:only-of-type {\n",
              "        vertical-align: middle;\n",
              "    }\n",
              "\n",
              "    .dataframe tbody tr th {\n",
              "        vertical-align: top;\n",
              "    }\n",
              "\n",
              "    .dataframe thead th {\n",
              "        text-align: right;\n",
              "    }\n",
              "</style>\n",
              "<table border=\"1\" class=\"dataframe\">\n",
              "  <thead>\n",
              "    <tr style=\"text-align: right;\">\n",
              "      <th></th>\n",
              "      <th>id</th>\n",
              "      <th>Текст Сообщения</th>\n",
              "    </tr>\n",
              "  </thead>\n",
              "  <tbody>\n",
              "    <tr>\n",
              "      <th>0</th>\n",
              "      <td>843</td>\n",
              "      <td>p здравствуйте на улице мира nbsp было замене...</td>\n",
              "    </tr>\n",
              "    <tr>\n",
              "      <th>1</th>\n",
              "      <td>1422</td>\n",
              "      <td>p уже вторую неделю не горит уличное освещени...</td>\n",
              "    </tr>\n",
              "    <tr>\n",
              "      <th>2</th>\n",
              "      <td>2782</td>\n",
              "      <td>не работает освещение во дворе дома а по энерг...</td>\n",
              "    </tr>\n",
              "    <tr>\n",
              "      <th>3</th>\n",
              "      <td>2704</td>\n",
              "      <td>после покоса сорной растительности на газоне м...</td>\n",
              "    </tr>\n",
              "    <tr>\n",
              "      <th>4</th>\n",
              "      <td>1</td>\n",
              "      <td>p прошу принять меры к водителю маршрута пос ...</td>\n",
              "    </tr>\n",
              "  </tbody>\n",
              "</table>\n",
              "</div>\n",
              "      <button class=\"colab-df-convert\" onclick=\"convertToInteractive('df-5c7b4029-6913-4e5b-96e1-0b388ef3251d')\"\n",
              "              title=\"Convert this dataframe to an interactive table.\"\n",
              "              style=\"display:none;\">\n",
              "        \n",
              "  <svg xmlns=\"http://www.w3.org/2000/svg\" height=\"24px\"viewBox=\"0 0 24 24\"\n",
              "       width=\"24px\">\n",
              "    <path d=\"M0 0h24v24H0V0z\" fill=\"none\"/>\n",
              "    <path d=\"M18.56 5.44l.94 2.06.94-2.06 2.06-.94-2.06-.94-.94-2.06-.94 2.06-2.06.94zm-11 1L8.5 8.5l.94-2.06 2.06-.94-2.06-.94L8.5 2.5l-.94 2.06-2.06.94zm10 10l.94 2.06.94-2.06 2.06-.94-2.06-.94-.94-2.06-.94 2.06-2.06.94z\"/><path d=\"M17.41 7.96l-1.37-1.37c-.4-.4-.92-.59-1.43-.59-.52 0-1.04.2-1.43.59L10.3 9.45l-7.72 7.72c-.78.78-.78 2.05 0 2.83L4 21.41c.39.39.9.59 1.41.59.51 0 1.02-.2 1.41-.59l7.78-7.78 2.81-2.81c.8-.78.8-2.07 0-2.86zM5.41 20L4 18.59l7.72-7.72 1.47 1.35L5.41 20z\"/>\n",
              "  </svg>\n",
              "      </button>\n",
              "      \n",
              "  <style>\n",
              "    .colab-df-container {\n",
              "      display:flex;\n",
              "      flex-wrap:wrap;\n",
              "      gap: 12px;\n",
              "    }\n",
              "\n",
              "    .colab-df-convert {\n",
              "      background-color: #E8F0FE;\n",
              "      border: none;\n",
              "      border-radius: 50%;\n",
              "      cursor: pointer;\n",
              "      display: none;\n",
              "      fill: #1967D2;\n",
              "      height: 32px;\n",
              "      padding: 0 0 0 0;\n",
              "      width: 32px;\n",
              "    }\n",
              "\n",
              "    .colab-df-convert:hover {\n",
              "      background-color: #E2EBFA;\n",
              "      box-shadow: 0px 1px 2px rgba(60, 64, 67, 0.3), 0px 1px 3px 1px rgba(60, 64, 67, 0.15);\n",
              "      fill: #174EA6;\n",
              "    }\n",
              "\n",
              "    [theme=dark] .colab-df-convert {\n",
              "      background-color: #3B4455;\n",
              "      fill: #D2E3FC;\n",
              "    }\n",
              "\n",
              "    [theme=dark] .colab-df-convert:hover {\n",
              "      background-color: #434B5C;\n",
              "      box-shadow: 0px 1px 3px 1px rgba(0, 0, 0, 0.15);\n",
              "      filter: drop-shadow(0px 1px 2px rgba(0, 0, 0, 0.3));\n",
              "      fill: #FFFFFF;\n",
              "    }\n",
              "  </style>\n",
              "\n",
              "      <script>\n",
              "        const buttonEl =\n",
              "          document.querySelector('#df-5c7b4029-6913-4e5b-96e1-0b388ef3251d button.colab-df-convert');\n",
              "        buttonEl.style.display =\n",
              "          google.colab.kernel.accessAllowed ? 'block' : 'none';\n",
              "\n",
              "        async function convertToInteractive(key) {\n",
              "          const element = document.querySelector('#df-5c7b4029-6913-4e5b-96e1-0b388ef3251d');\n",
              "          const dataTable =\n",
              "            await google.colab.kernel.invokeFunction('convertToInteractive',\n",
              "                                                     [key], {});\n",
              "          if (!dataTable) return;\n",
              "\n",
              "          const docLinkHtml = 'Like what you see? Visit the ' +\n",
              "            '<a target=\"_blank\" href=https://colab.research.google.com/notebooks/data_table.ipynb>data table notebook</a>'\n",
              "            + ' to learn more about interactive tables.';\n",
              "          element.innerHTML = '';\n",
              "          dataTable['output_type'] = 'display_data';\n",
              "          await google.colab.output.renderOutput(dataTable, element);\n",
              "          const docLink = document.createElement('div');\n",
              "          docLink.innerHTML = docLinkHtml;\n",
              "          element.appendChild(docLink);\n",
              "        }\n",
              "      </script>\n",
              "    </div>\n",
              "  </div>\n",
              "  "
            ]
          },
          "metadata": {},
          "execution_count": 52
        }
      ]
    },
    {
      "cell_type": "code",
      "source": [
        "# Выполним лемметизацию текста\n",
        "lemm_texts_column_test = []\n",
        "for text in df_test['Текст Сообщения']:\n",
        "    tokens = word_tokenize(text)    \n",
        "    lemmed_tokens = [morph.parse(token)[0].normal_form for token in tokens if token not in russian_stopwords]\n",
        "    text = \" \".join(lemmed_tokens)\n",
        "    lemm_texts_column_test.append(text)\n",
        "    \n",
        "# Создаем новую колонку в наборе данных\n",
        "df_test['Текст Сообщения'] = lemm_texts_column_test\n",
        "df_test['Текст Сообщения'][0]"
      ],
      "metadata": {
        "colab": {
          "base_uri": "https://localhost:8080/",
          "height": 53
        },
        "id": "iD03F37iWCzi",
        "outputId": "c4bd8e96-ce32-478d-e161-f6324ea881d1"
      },
      "execution_count": 53,
      "outputs": [
        {
          "output_type": "execute_result",
          "data": {
            "text/plain": [
              "'здравствуйте улица мир nbsp заменить наружное освещение именно заменить лампа nbsp энергосберегающий лампа протяжение несколько месяц освещение улица отсутствовать последний улица осветить это зима приблизительно каждый день человек работать часовой смена многие возвращаться очень поздно дать проблема улица посёлок nbsp'"
            ],
            "application/vnd.google.colaboratory.intrinsic+json": {
              "type": "string"
            }
          },
          "metadata": {},
          "execution_count": 53
        }
      ]
    },
    {
      "cell_type": "markdown",
      "source": [
        "**Определим категорию текста обращения и выведем её в новый столбец**"
      ],
      "metadata": {
        "id": "E-4zSoHWWRyh"
      }
    },
    {
      "cell_type": "code",
      "source": [
        "test_mess = np.array(df_test['Текст Сообщения']) # Переводим сообщения в массив\n",
        "x = tokenizer.texts_to_matrix(test_mess) # Токенизируем массив\n",
        "\n",
        "prediction = model.predict(x)\n",
        "\n",
        "for i in range(len(x)): # Циклом проходимся по токенизированному массиву\n",
        "  df_test.loc[i,'Категория'] = np.argmax(prediction[i]) # Присваеваем категорию каждому обращению \n",
        "df_test = df_test.astype({'Категория':'Int64'}) # Переводим цифры в целочисленный формат\n",
        "df_test # Смотрим что получилось"
      ],
      "metadata": {
        "colab": {
          "base_uri": "https://localhost:8080/",
          "height": 424
        },
        "id": "ttNnGECLWQvF",
        "outputId": "430444fd-7f4f-4754-c7a2-d8364d25e84a"
      },
      "execution_count": 54,
      "outputs": [
        {
          "output_type": "execute_result",
          "data": {
            "text/plain": [
              "       id                                    Текст Сообщения  Категория\n",
              "0     843  здравствуйте улица мир nbsp заменить наружное ...          3\n",
              "1    1422        второй неделя гореть уличный освещение nbsp          0\n",
              "2    2782  работать освещение двор дом энергетик световой...          3\n",
              "3    2704  покос сорный растительность газон тротуар прое...          3\n",
              "4       1  просить принять мера водитель маршрут пос севе...          8\n",
              "..    ...                                                ...        ...\n",
              "995  2619  добрый день семья житель пос волокно просыпать...         16\n",
              "996  2518  лазарев г щигры ветка тополь скоро выбить стек...          3\n",
              "997  2524           вход комитет образование курск ям дорога          0\n",
              "998  1577  добрый время сутки пол год медотвод вакцинация...          4\n",
              "999  2567  добрый день многодетный мама младший ребёнок г...         10\n",
              "\n",
              "[1000 rows x 3 columns]"
            ],
            "text/html": [
              "\n",
              "  <div id=\"df-aeea50c6-136a-43ea-8e27-12b34999ae0a\">\n",
              "    <div class=\"colab-df-container\">\n",
              "      <div>\n",
              "<style scoped>\n",
              "    .dataframe tbody tr th:only-of-type {\n",
              "        vertical-align: middle;\n",
              "    }\n",
              "\n",
              "    .dataframe tbody tr th {\n",
              "        vertical-align: top;\n",
              "    }\n",
              "\n",
              "    .dataframe thead th {\n",
              "        text-align: right;\n",
              "    }\n",
              "</style>\n",
              "<table border=\"1\" class=\"dataframe\">\n",
              "  <thead>\n",
              "    <tr style=\"text-align: right;\">\n",
              "      <th></th>\n",
              "      <th>id</th>\n",
              "      <th>Текст Сообщения</th>\n",
              "      <th>Категория</th>\n",
              "    </tr>\n",
              "  </thead>\n",
              "  <tbody>\n",
              "    <tr>\n",
              "      <th>0</th>\n",
              "      <td>843</td>\n",
              "      <td>здравствуйте улица мир nbsp заменить наружное ...</td>\n",
              "      <td>3</td>\n",
              "    </tr>\n",
              "    <tr>\n",
              "      <th>1</th>\n",
              "      <td>1422</td>\n",
              "      <td>второй неделя гореть уличный освещение nbsp</td>\n",
              "      <td>0</td>\n",
              "    </tr>\n",
              "    <tr>\n",
              "      <th>2</th>\n",
              "      <td>2782</td>\n",
              "      <td>работать освещение двор дом энергетик световой...</td>\n",
              "      <td>3</td>\n",
              "    </tr>\n",
              "    <tr>\n",
              "      <th>3</th>\n",
              "      <td>2704</td>\n",
              "      <td>покос сорный растительность газон тротуар прое...</td>\n",
              "      <td>3</td>\n",
              "    </tr>\n",
              "    <tr>\n",
              "      <th>4</th>\n",
              "      <td>1</td>\n",
              "      <td>просить принять мера водитель маршрут пос севе...</td>\n",
              "      <td>8</td>\n",
              "    </tr>\n",
              "    <tr>\n",
              "      <th>...</th>\n",
              "      <td>...</td>\n",
              "      <td>...</td>\n",
              "      <td>...</td>\n",
              "    </tr>\n",
              "    <tr>\n",
              "      <th>995</th>\n",
              "      <td>2619</td>\n",
              "      <td>добрый день семья житель пос волокно просыпать...</td>\n",
              "      <td>16</td>\n",
              "    </tr>\n",
              "    <tr>\n",
              "      <th>996</th>\n",
              "      <td>2518</td>\n",
              "      <td>лазарев г щигры ветка тополь скоро выбить стек...</td>\n",
              "      <td>3</td>\n",
              "    </tr>\n",
              "    <tr>\n",
              "      <th>997</th>\n",
              "      <td>2524</td>\n",
              "      <td>вход комитет образование курск ям дорога</td>\n",
              "      <td>0</td>\n",
              "    </tr>\n",
              "    <tr>\n",
              "      <th>998</th>\n",
              "      <td>1577</td>\n",
              "      <td>добрый время сутки пол год медотвод вакцинация...</td>\n",
              "      <td>4</td>\n",
              "    </tr>\n",
              "    <tr>\n",
              "      <th>999</th>\n",
              "      <td>2567</td>\n",
              "      <td>добрый день многодетный мама младший ребёнок г...</td>\n",
              "      <td>10</td>\n",
              "    </tr>\n",
              "  </tbody>\n",
              "</table>\n",
              "<p>1000 rows × 3 columns</p>\n",
              "</div>\n",
              "      <button class=\"colab-df-convert\" onclick=\"convertToInteractive('df-aeea50c6-136a-43ea-8e27-12b34999ae0a')\"\n",
              "              title=\"Convert this dataframe to an interactive table.\"\n",
              "              style=\"display:none;\">\n",
              "        \n",
              "  <svg xmlns=\"http://www.w3.org/2000/svg\" height=\"24px\"viewBox=\"0 0 24 24\"\n",
              "       width=\"24px\">\n",
              "    <path d=\"M0 0h24v24H0V0z\" fill=\"none\"/>\n",
              "    <path d=\"M18.56 5.44l.94 2.06.94-2.06 2.06-.94-2.06-.94-.94-2.06-.94 2.06-2.06.94zm-11 1L8.5 8.5l.94-2.06 2.06-.94-2.06-.94L8.5 2.5l-.94 2.06-2.06.94zm10 10l.94 2.06.94-2.06 2.06-.94-2.06-.94-.94-2.06-.94 2.06-2.06.94z\"/><path d=\"M17.41 7.96l-1.37-1.37c-.4-.4-.92-.59-1.43-.59-.52 0-1.04.2-1.43.59L10.3 9.45l-7.72 7.72c-.78.78-.78 2.05 0 2.83L4 21.41c.39.39.9.59 1.41.59.51 0 1.02-.2 1.41-.59l7.78-7.78 2.81-2.81c.8-.78.8-2.07 0-2.86zM5.41 20L4 18.59l7.72-7.72 1.47 1.35L5.41 20z\"/>\n",
              "  </svg>\n",
              "      </button>\n",
              "      \n",
              "  <style>\n",
              "    .colab-df-container {\n",
              "      display:flex;\n",
              "      flex-wrap:wrap;\n",
              "      gap: 12px;\n",
              "    }\n",
              "\n",
              "    .colab-df-convert {\n",
              "      background-color: #E8F0FE;\n",
              "      border: none;\n",
              "      border-radius: 50%;\n",
              "      cursor: pointer;\n",
              "      display: none;\n",
              "      fill: #1967D2;\n",
              "      height: 32px;\n",
              "      padding: 0 0 0 0;\n",
              "      width: 32px;\n",
              "    }\n",
              "\n",
              "    .colab-df-convert:hover {\n",
              "      background-color: #E2EBFA;\n",
              "      box-shadow: 0px 1px 2px rgba(60, 64, 67, 0.3), 0px 1px 3px 1px rgba(60, 64, 67, 0.15);\n",
              "      fill: #174EA6;\n",
              "    }\n",
              "\n",
              "    [theme=dark] .colab-df-convert {\n",
              "      background-color: #3B4455;\n",
              "      fill: #D2E3FC;\n",
              "    }\n",
              "\n",
              "    [theme=dark] .colab-df-convert:hover {\n",
              "      background-color: #434B5C;\n",
              "      box-shadow: 0px 1px 3px 1px rgba(0, 0, 0, 0.15);\n",
              "      filter: drop-shadow(0px 1px 2px rgba(0, 0, 0, 0.3));\n",
              "      fill: #FFFFFF;\n",
              "    }\n",
              "  </style>\n",
              "\n",
              "      <script>\n",
              "        const buttonEl =\n",
              "          document.querySelector('#df-aeea50c6-136a-43ea-8e27-12b34999ae0a button.colab-df-convert');\n",
              "        buttonEl.style.display =\n",
              "          google.colab.kernel.accessAllowed ? 'block' : 'none';\n",
              "\n",
              "        async function convertToInteractive(key) {\n",
              "          const element = document.querySelector('#df-aeea50c6-136a-43ea-8e27-12b34999ae0a');\n",
              "          const dataTable =\n",
              "            await google.colab.kernel.invokeFunction('convertToInteractive',\n",
              "                                                     [key], {});\n",
              "          if (!dataTable) return;\n",
              "\n",
              "          const docLinkHtml = 'Like what you see? Visit the ' +\n",
              "            '<a target=\"_blank\" href=https://colab.research.google.com/notebooks/data_table.ipynb>data table notebook</a>'\n",
              "            + ' to learn more about interactive tables.';\n",
              "          element.innerHTML = '';\n",
              "          dataTable['output_type'] = 'display_data';\n",
              "          await google.colab.output.renderOutput(dataTable, element);\n",
              "          const docLink = document.createElement('div');\n",
              "          docLink.innerHTML = docLinkHtml;\n",
              "          element.appendChild(docLink);\n",
              "        }\n",
              "      </script>\n",
              "    </div>\n",
              "  </div>\n",
              "  "
            ]
          },
          "metadata": {},
          "execution_count": 54
        }
      ]
    },
    {
      "cell_type": "markdown",
      "source": [
        "**Приводим тестовый набор к формату для сдачи жури**"
      ],
      "metadata": {
        "id": "G5SaldnuXNRc"
      }
    },
    {
      "cell_type": "code",
      "source": [
        "# Удаляем колонку с текстом \n",
        "df_test.drop(df_test.columns[[1]], axis=1, inplace=True)"
      ],
      "metadata": {
        "id": "1ayVusv5XCl_"
      },
      "execution_count": 55,
      "outputs": []
    },
    {
      "cell_type": "code",
      "source": [
        "# Сохраняем файл в формете .csv без индексов\n",
        "df_test.to_csv('/content/drive/MyDrive/Предобученные сети/Курск/Финальный вариант/df_test_predobr.csv', index=False)"
      ],
      "metadata": {
        "id": "JSq5wOrXXcZF"
      },
      "execution_count": 56,
      "outputs": []
    }
  ]
}