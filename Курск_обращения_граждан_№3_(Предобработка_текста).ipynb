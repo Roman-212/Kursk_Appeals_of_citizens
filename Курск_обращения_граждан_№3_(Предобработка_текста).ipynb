{
  "nbformat": 4,
  "nbformat_minor": 0,
  "metadata": {
    "colab": {
      "name": "Курск_обращения_граждан_№3 (Предобработка текста)",
      "provenance": [],
      "collapsed_sections": [
        "xdAEbQ7pbNKr",
        "xAOg8p3jbNS6",
        "QWrDylcYgFk2",
        "Bn7e71iGh1O5"
      ],
      "authorship_tag": "ABX9TyNYSGcXTQcayE7AECWuLTFc",
      "include_colab_link": true
    },
    "kernelspec": {
      "name": "python3",
      "display_name": "Python 3"
    },
    "language_info": {
      "name": "python"
    },
    "widgets": {
      "application/vnd.jupyter.widget-state+json": {
        "139774979c674fc48e827d7103ef49ce": {
          "model_module": "@jupyter-widgets/controls",
          "model_name": "HBoxModel",
          "model_module_version": "1.5.0",
          "state": {
            "_dom_classes": [],
            "_model_module": "@jupyter-widgets/controls",
            "_model_module_version": "1.5.0",
            "_model_name": "HBoxModel",
            "_view_count": null,
            "_view_module": "@jupyter-widgets/controls",
            "_view_module_version": "1.5.0",
            "_view_name": "HBoxView",
            "box_style": "",
            "children": [
              "IPY_MODEL_cefd128c56de4746a7d36b84190a4535",
              "IPY_MODEL_3598a7f41ed44a79bcf78f4ce262c8c7",
              "IPY_MODEL_3de50052e10f4c71b2d4cac7d07b24b6"
            ],
            "layout": "IPY_MODEL_d6f679f0dab041219f689c7dfabb27b9"
          }
        },
        "cefd128c56de4746a7d36b84190a4535": {
          "model_module": "@jupyter-widgets/controls",
          "model_name": "HTMLModel",
          "model_module_version": "1.5.0",
          "state": {
            "_dom_classes": [],
            "_model_module": "@jupyter-widgets/controls",
            "_model_module_version": "1.5.0",
            "_model_name": "HTMLModel",
            "_view_count": null,
            "_view_module": "@jupyter-widgets/controls",
            "_view_module_version": "1.5.0",
            "_view_name": "HTMLView",
            "description": "",
            "description_tooltip": null,
            "layout": "IPY_MODEL_0cacc71d866c4ada99070750ba954d81",
            "placeholder": "​",
            "style": "IPY_MODEL_8d6cf015b616455db91a9c0ce4546f4e",
            "value": "100%"
          }
        },
        "3598a7f41ed44a79bcf78f4ce262c8c7": {
          "model_module": "@jupyter-widgets/controls",
          "model_name": "FloatProgressModel",
          "model_module_version": "1.5.0",
          "state": {
            "_dom_classes": [],
            "_model_module": "@jupyter-widgets/controls",
            "_model_module_version": "1.5.0",
            "_model_name": "FloatProgressModel",
            "_view_count": null,
            "_view_module": "@jupyter-widgets/controls",
            "_view_module_version": "1.5.0",
            "_view_name": "ProgressView",
            "bar_style": "success",
            "description": "",
            "description_tooltip": null,
            "layout": "IPY_MODEL_74baa0f896304ef2a2472ceed9e456cd",
            "max": 2000,
            "min": 0,
            "orientation": "horizontal",
            "style": "IPY_MODEL_ab92473239e9469e84909af53839e397",
            "value": 2000
          }
        },
        "3de50052e10f4c71b2d4cac7d07b24b6": {
          "model_module": "@jupyter-widgets/controls",
          "model_name": "HTMLModel",
          "model_module_version": "1.5.0",
          "state": {
            "_dom_classes": [],
            "_model_module": "@jupyter-widgets/controls",
            "_model_module_version": "1.5.0",
            "_model_name": "HTMLModel",
            "_view_count": null,
            "_view_module": "@jupyter-widgets/controls",
            "_view_module_version": "1.5.0",
            "_view_name": "HTMLView",
            "description": "",
            "description_tooltip": null,
            "layout": "IPY_MODEL_860c1e3b72cd47e0b4dcd38762f8ad4c",
            "placeholder": "​",
            "style": "IPY_MODEL_720df76fde89426ba830815547d0009c",
            "value": " 2000/2000 [00:05&lt;00:00, 406.14it/s]"
          }
        },
        "d6f679f0dab041219f689c7dfabb27b9": {
          "model_module": "@jupyter-widgets/base",
          "model_name": "LayoutModel",
          "model_module_version": "1.2.0",
          "state": {
            "_model_module": "@jupyter-widgets/base",
            "_model_module_version": "1.2.0",
            "_model_name": "LayoutModel",
            "_view_count": null,
            "_view_module": "@jupyter-widgets/base",
            "_view_module_version": "1.2.0",
            "_view_name": "LayoutView",
            "align_content": null,
            "align_items": null,
            "align_self": null,
            "border": null,
            "bottom": null,
            "display": null,
            "flex": null,
            "flex_flow": null,
            "grid_area": null,
            "grid_auto_columns": null,
            "grid_auto_flow": null,
            "grid_auto_rows": null,
            "grid_column": null,
            "grid_gap": null,
            "grid_row": null,
            "grid_template_areas": null,
            "grid_template_columns": null,
            "grid_template_rows": null,
            "height": null,
            "justify_content": null,
            "justify_items": null,
            "left": null,
            "margin": null,
            "max_height": null,
            "max_width": null,
            "min_height": null,
            "min_width": null,
            "object_fit": null,
            "object_position": null,
            "order": null,
            "overflow": null,
            "overflow_x": null,
            "overflow_y": null,
            "padding": null,
            "right": null,
            "top": null,
            "visibility": null,
            "width": null
          }
        },
        "0cacc71d866c4ada99070750ba954d81": {
          "model_module": "@jupyter-widgets/base",
          "model_name": "LayoutModel",
          "model_module_version": "1.2.0",
          "state": {
            "_model_module": "@jupyter-widgets/base",
            "_model_module_version": "1.2.0",
            "_model_name": "LayoutModel",
            "_view_count": null,
            "_view_module": "@jupyter-widgets/base",
            "_view_module_version": "1.2.0",
            "_view_name": "LayoutView",
            "align_content": null,
            "align_items": null,
            "align_self": null,
            "border": null,
            "bottom": null,
            "display": null,
            "flex": null,
            "flex_flow": null,
            "grid_area": null,
            "grid_auto_columns": null,
            "grid_auto_flow": null,
            "grid_auto_rows": null,
            "grid_column": null,
            "grid_gap": null,
            "grid_row": null,
            "grid_template_areas": null,
            "grid_template_columns": null,
            "grid_template_rows": null,
            "height": null,
            "justify_content": null,
            "justify_items": null,
            "left": null,
            "margin": null,
            "max_height": null,
            "max_width": null,
            "min_height": null,
            "min_width": null,
            "object_fit": null,
            "object_position": null,
            "order": null,
            "overflow": null,
            "overflow_x": null,
            "overflow_y": null,
            "padding": null,
            "right": null,
            "top": null,
            "visibility": null,
            "width": null
          }
        },
        "8d6cf015b616455db91a9c0ce4546f4e": {
          "model_module": "@jupyter-widgets/controls",
          "model_name": "DescriptionStyleModel",
          "model_module_version": "1.5.0",
          "state": {
            "_model_module": "@jupyter-widgets/controls",
            "_model_module_version": "1.5.0",
            "_model_name": "DescriptionStyleModel",
            "_view_count": null,
            "_view_module": "@jupyter-widgets/base",
            "_view_module_version": "1.2.0",
            "_view_name": "StyleView",
            "description_width": ""
          }
        },
        "74baa0f896304ef2a2472ceed9e456cd": {
          "model_module": "@jupyter-widgets/base",
          "model_name": "LayoutModel",
          "model_module_version": "1.2.0",
          "state": {
            "_model_module": "@jupyter-widgets/base",
            "_model_module_version": "1.2.0",
            "_model_name": "LayoutModel",
            "_view_count": null,
            "_view_module": "@jupyter-widgets/base",
            "_view_module_version": "1.2.0",
            "_view_name": "LayoutView",
            "align_content": null,
            "align_items": null,
            "align_self": null,
            "border": null,
            "bottom": null,
            "display": null,
            "flex": null,
            "flex_flow": null,
            "grid_area": null,
            "grid_auto_columns": null,
            "grid_auto_flow": null,
            "grid_auto_rows": null,
            "grid_column": null,
            "grid_gap": null,
            "grid_row": null,
            "grid_template_areas": null,
            "grid_template_columns": null,
            "grid_template_rows": null,
            "height": null,
            "justify_content": null,
            "justify_items": null,
            "left": null,
            "margin": null,
            "max_height": null,
            "max_width": null,
            "min_height": null,
            "min_width": null,
            "object_fit": null,
            "object_position": null,
            "order": null,
            "overflow": null,
            "overflow_x": null,
            "overflow_y": null,
            "padding": null,
            "right": null,
            "top": null,
            "visibility": null,
            "width": null
          }
        },
        "ab92473239e9469e84909af53839e397": {
          "model_module": "@jupyter-widgets/controls",
          "model_name": "ProgressStyleModel",
          "model_module_version": "1.5.0",
          "state": {
            "_model_module": "@jupyter-widgets/controls",
            "_model_module_version": "1.5.0",
            "_model_name": "ProgressStyleModel",
            "_view_count": null,
            "_view_module": "@jupyter-widgets/base",
            "_view_module_version": "1.2.0",
            "_view_name": "StyleView",
            "bar_color": null,
            "description_width": ""
          }
        },
        "860c1e3b72cd47e0b4dcd38762f8ad4c": {
          "model_module": "@jupyter-widgets/base",
          "model_name": "LayoutModel",
          "model_module_version": "1.2.0",
          "state": {
            "_model_module": "@jupyter-widgets/base",
            "_model_module_version": "1.2.0",
            "_model_name": "LayoutModel",
            "_view_count": null,
            "_view_module": "@jupyter-widgets/base",
            "_view_module_version": "1.2.0",
            "_view_name": "LayoutView",
            "align_content": null,
            "align_items": null,
            "align_self": null,
            "border": null,
            "bottom": null,
            "display": null,
            "flex": null,
            "flex_flow": null,
            "grid_area": null,
            "grid_auto_columns": null,
            "grid_auto_flow": null,
            "grid_auto_rows": null,
            "grid_column": null,
            "grid_gap": null,
            "grid_row": null,
            "grid_template_areas": null,
            "grid_template_columns": null,
            "grid_template_rows": null,
            "height": null,
            "justify_content": null,
            "justify_items": null,
            "left": null,
            "margin": null,
            "max_height": null,
            "max_width": null,
            "min_height": null,
            "min_width": null,
            "object_fit": null,
            "object_position": null,
            "order": null,
            "overflow": null,
            "overflow_x": null,
            "overflow_y": null,
            "padding": null,
            "right": null,
            "top": null,
            "visibility": null,
            "width": null
          }
        },
        "720df76fde89426ba830815547d0009c": {
          "model_module": "@jupyter-widgets/controls",
          "model_name": "DescriptionStyleModel",
          "model_module_version": "1.5.0",
          "state": {
            "_model_module": "@jupyter-widgets/controls",
            "_model_module_version": "1.5.0",
            "_model_name": "DescriptionStyleModel",
            "_view_count": null,
            "_view_module": "@jupyter-widgets/base",
            "_view_module_version": "1.2.0",
            "_view_name": "StyleView",
            "description_width": ""
          }
        },
        "b9bd46705a36402099d2ea3f5e681739": {
          "model_module": "@jupyter-widgets/controls",
          "model_name": "HBoxModel",
          "model_module_version": "1.5.0",
          "state": {
            "_dom_classes": [],
            "_model_module": "@jupyter-widgets/controls",
            "_model_module_version": "1.5.0",
            "_model_name": "HBoxModel",
            "_view_count": null,
            "_view_module": "@jupyter-widgets/controls",
            "_view_module_version": "1.5.0",
            "_view_name": "HBoxView",
            "box_style": "",
            "children": [
              "IPY_MODEL_83897e4ed781497e9ecc95b58be13e10",
              "IPY_MODEL_a75c2113502249f38d4cb4a8e7dbac85",
              "IPY_MODEL_36e86fb4e0654a29a8cb2190a23818eb"
            ],
            "layout": "IPY_MODEL_f6dafdbf40e84dc5803755f8eed2fe86"
          }
        },
        "83897e4ed781497e9ecc95b58be13e10": {
          "model_module": "@jupyter-widgets/controls",
          "model_name": "HTMLModel",
          "model_module_version": "1.5.0",
          "state": {
            "_dom_classes": [],
            "_model_module": "@jupyter-widgets/controls",
            "_model_module_version": "1.5.0",
            "_model_name": "HTMLModel",
            "_view_count": null,
            "_view_module": "@jupyter-widgets/controls",
            "_view_module_version": "1.5.0",
            "_view_name": "HTMLView",
            "description": "",
            "description_tooltip": null,
            "layout": "IPY_MODEL_5cc3bbec60ec47e4b65885f447f752bc",
            "placeholder": "​",
            "style": "IPY_MODEL_d5740e3a3b1243eebfc8e8859719c6a6",
            "value": "100%"
          }
        },
        "a75c2113502249f38d4cb4a8e7dbac85": {
          "model_module": "@jupyter-widgets/controls",
          "model_name": "FloatProgressModel",
          "model_module_version": "1.5.0",
          "state": {
            "_dom_classes": [],
            "_model_module": "@jupyter-widgets/controls",
            "_model_module_version": "1.5.0",
            "_model_name": "FloatProgressModel",
            "_view_count": null,
            "_view_module": "@jupyter-widgets/controls",
            "_view_module_version": "1.5.0",
            "_view_name": "ProgressView",
            "bar_style": "success",
            "description": "",
            "description_tooltip": null,
            "layout": "IPY_MODEL_b4101dc22eff431db4008237b1fbf36e",
            "max": 2000,
            "min": 0,
            "orientation": "horizontal",
            "style": "IPY_MODEL_e7644593601e4a9088ac36b528e79610",
            "value": 2000
          }
        },
        "36e86fb4e0654a29a8cb2190a23818eb": {
          "model_module": "@jupyter-widgets/controls",
          "model_name": "HTMLModel",
          "model_module_version": "1.5.0",
          "state": {
            "_dom_classes": [],
            "_model_module": "@jupyter-widgets/controls",
            "_model_module_version": "1.5.0",
            "_model_name": "HTMLModel",
            "_view_count": null,
            "_view_module": "@jupyter-widgets/controls",
            "_view_module_version": "1.5.0",
            "_view_name": "HTMLView",
            "description": "",
            "description_tooltip": null,
            "layout": "IPY_MODEL_9efbf91f2def45adaf13dd681ed5d9d9",
            "placeholder": "​",
            "style": "IPY_MODEL_d96be28c98c44a4faa0a7f61426a109a",
            "value": " 2000/2000 [00:19&lt;00:00, 112.27it/s]"
          }
        },
        "f6dafdbf40e84dc5803755f8eed2fe86": {
          "model_module": "@jupyter-widgets/base",
          "model_name": "LayoutModel",
          "model_module_version": "1.2.0",
          "state": {
            "_model_module": "@jupyter-widgets/base",
            "_model_module_version": "1.2.0",
            "_model_name": "LayoutModel",
            "_view_count": null,
            "_view_module": "@jupyter-widgets/base",
            "_view_module_version": "1.2.0",
            "_view_name": "LayoutView",
            "align_content": null,
            "align_items": null,
            "align_self": null,
            "border": null,
            "bottom": null,
            "display": null,
            "flex": null,
            "flex_flow": null,
            "grid_area": null,
            "grid_auto_columns": null,
            "grid_auto_flow": null,
            "grid_auto_rows": null,
            "grid_column": null,
            "grid_gap": null,
            "grid_row": null,
            "grid_template_areas": null,
            "grid_template_columns": null,
            "grid_template_rows": null,
            "height": null,
            "justify_content": null,
            "justify_items": null,
            "left": null,
            "margin": null,
            "max_height": null,
            "max_width": null,
            "min_height": null,
            "min_width": null,
            "object_fit": null,
            "object_position": null,
            "order": null,
            "overflow": null,
            "overflow_x": null,
            "overflow_y": null,
            "padding": null,
            "right": null,
            "top": null,
            "visibility": null,
            "width": null
          }
        },
        "5cc3bbec60ec47e4b65885f447f752bc": {
          "model_module": "@jupyter-widgets/base",
          "model_name": "LayoutModel",
          "model_module_version": "1.2.0",
          "state": {
            "_model_module": "@jupyter-widgets/base",
            "_model_module_version": "1.2.0",
            "_model_name": "LayoutModel",
            "_view_count": null,
            "_view_module": "@jupyter-widgets/base",
            "_view_module_version": "1.2.0",
            "_view_name": "LayoutView",
            "align_content": null,
            "align_items": null,
            "align_self": null,
            "border": null,
            "bottom": null,
            "display": null,
            "flex": null,
            "flex_flow": null,
            "grid_area": null,
            "grid_auto_columns": null,
            "grid_auto_flow": null,
            "grid_auto_rows": null,
            "grid_column": null,
            "grid_gap": null,
            "grid_row": null,
            "grid_template_areas": null,
            "grid_template_columns": null,
            "grid_template_rows": null,
            "height": null,
            "justify_content": null,
            "justify_items": null,
            "left": null,
            "margin": null,
            "max_height": null,
            "max_width": null,
            "min_height": null,
            "min_width": null,
            "object_fit": null,
            "object_position": null,
            "order": null,
            "overflow": null,
            "overflow_x": null,
            "overflow_y": null,
            "padding": null,
            "right": null,
            "top": null,
            "visibility": null,
            "width": null
          }
        },
        "d5740e3a3b1243eebfc8e8859719c6a6": {
          "model_module": "@jupyter-widgets/controls",
          "model_name": "DescriptionStyleModel",
          "model_module_version": "1.5.0",
          "state": {
            "_model_module": "@jupyter-widgets/controls",
            "_model_module_version": "1.5.0",
            "_model_name": "DescriptionStyleModel",
            "_view_count": null,
            "_view_module": "@jupyter-widgets/base",
            "_view_module_version": "1.2.0",
            "_view_name": "StyleView",
            "description_width": ""
          }
        },
        "b4101dc22eff431db4008237b1fbf36e": {
          "model_module": "@jupyter-widgets/base",
          "model_name": "LayoutModel",
          "model_module_version": "1.2.0",
          "state": {
            "_model_module": "@jupyter-widgets/base",
            "_model_module_version": "1.2.0",
            "_model_name": "LayoutModel",
            "_view_count": null,
            "_view_module": "@jupyter-widgets/base",
            "_view_module_version": "1.2.0",
            "_view_name": "LayoutView",
            "align_content": null,
            "align_items": null,
            "align_self": null,
            "border": null,
            "bottom": null,
            "display": null,
            "flex": null,
            "flex_flow": null,
            "grid_area": null,
            "grid_auto_columns": null,
            "grid_auto_flow": null,
            "grid_auto_rows": null,
            "grid_column": null,
            "grid_gap": null,
            "grid_row": null,
            "grid_template_areas": null,
            "grid_template_columns": null,
            "grid_template_rows": null,
            "height": null,
            "justify_content": null,
            "justify_items": null,
            "left": null,
            "margin": null,
            "max_height": null,
            "max_width": null,
            "min_height": null,
            "min_width": null,
            "object_fit": null,
            "object_position": null,
            "order": null,
            "overflow": null,
            "overflow_x": null,
            "overflow_y": null,
            "padding": null,
            "right": null,
            "top": null,
            "visibility": null,
            "width": null
          }
        },
        "e7644593601e4a9088ac36b528e79610": {
          "model_module": "@jupyter-widgets/controls",
          "model_name": "ProgressStyleModel",
          "model_module_version": "1.5.0",
          "state": {
            "_model_module": "@jupyter-widgets/controls",
            "_model_module_version": "1.5.0",
            "_model_name": "ProgressStyleModel",
            "_view_count": null,
            "_view_module": "@jupyter-widgets/base",
            "_view_module_version": "1.2.0",
            "_view_name": "StyleView",
            "bar_color": null,
            "description_width": ""
          }
        },
        "9efbf91f2def45adaf13dd681ed5d9d9": {
          "model_module": "@jupyter-widgets/base",
          "model_name": "LayoutModel",
          "model_module_version": "1.2.0",
          "state": {
            "_model_module": "@jupyter-widgets/base",
            "_model_module_version": "1.2.0",
            "_model_name": "LayoutModel",
            "_view_count": null,
            "_view_module": "@jupyter-widgets/base",
            "_view_module_version": "1.2.0",
            "_view_name": "LayoutView",
            "align_content": null,
            "align_items": null,
            "align_self": null,
            "border": null,
            "bottom": null,
            "display": null,
            "flex": null,
            "flex_flow": null,
            "grid_area": null,
            "grid_auto_columns": null,
            "grid_auto_flow": null,
            "grid_auto_rows": null,
            "grid_column": null,
            "grid_gap": null,
            "grid_row": null,
            "grid_template_areas": null,
            "grid_template_columns": null,
            "grid_template_rows": null,
            "height": null,
            "justify_content": null,
            "justify_items": null,
            "left": null,
            "margin": null,
            "max_height": null,
            "max_width": null,
            "min_height": null,
            "min_width": null,
            "object_fit": null,
            "object_position": null,
            "order": null,
            "overflow": null,
            "overflow_x": null,
            "overflow_y": null,
            "padding": null,
            "right": null,
            "top": null,
            "visibility": null,
            "width": null
          }
        },
        "d96be28c98c44a4faa0a7f61426a109a": {
          "model_module": "@jupyter-widgets/controls",
          "model_name": "DescriptionStyleModel",
          "model_module_version": "1.5.0",
          "state": {
            "_model_module": "@jupyter-widgets/controls",
            "_model_module_version": "1.5.0",
            "_model_name": "DescriptionStyleModel",
            "_view_count": null,
            "_view_module": "@jupyter-widgets/base",
            "_view_module_version": "1.2.0",
            "_view_name": "StyleView",
            "description_width": ""
          }
        },
        "f21c94293aaf40aa8b43e37a3131f9b8": {
          "model_module": "@jupyter-widgets/controls",
          "model_name": "HBoxModel",
          "model_module_version": "1.5.0",
          "state": {
            "_dom_classes": [],
            "_model_module": "@jupyter-widgets/controls",
            "_model_module_version": "1.5.0",
            "_model_name": "HBoxModel",
            "_view_count": null,
            "_view_module": "@jupyter-widgets/controls",
            "_view_module_version": "1.5.0",
            "_view_name": "HBoxView",
            "box_style": "",
            "children": [
              "IPY_MODEL_719217f5f2c443a3a064c49b16c6eb62",
              "IPY_MODEL_fd64da6cbd104655bc79be3c2a1a1499",
              "IPY_MODEL_f48a6c891a6b41d4b416e63ada5729e1"
            ],
            "layout": "IPY_MODEL_5773cb1bc8d045b5a2d3e7279dd612c8"
          }
        },
        "719217f5f2c443a3a064c49b16c6eb62": {
          "model_module": "@jupyter-widgets/controls",
          "model_name": "HTMLModel",
          "model_module_version": "1.5.0",
          "state": {
            "_dom_classes": [],
            "_model_module": "@jupyter-widgets/controls",
            "_model_module_version": "1.5.0",
            "_model_name": "HTMLModel",
            "_view_count": null,
            "_view_module": "@jupyter-widgets/controls",
            "_view_module_version": "1.5.0",
            "_view_name": "HTMLView",
            "description": "",
            "description_tooltip": null,
            "layout": "IPY_MODEL_745b41bd492e412894db377a9e72e351",
            "placeholder": "​",
            "style": "IPY_MODEL_ce0f208ab5b7491d93dfe79de1599e52",
            "value": "100%"
          }
        },
        "fd64da6cbd104655bc79be3c2a1a1499": {
          "model_module": "@jupyter-widgets/controls",
          "model_name": "FloatProgressModel",
          "model_module_version": "1.5.0",
          "state": {
            "_dom_classes": [],
            "_model_module": "@jupyter-widgets/controls",
            "_model_module_version": "1.5.0",
            "_model_name": "FloatProgressModel",
            "_view_count": null,
            "_view_module": "@jupyter-widgets/controls",
            "_view_module_version": "1.5.0",
            "_view_name": "ProgressView",
            "bar_style": "success",
            "description": "",
            "description_tooltip": null,
            "layout": "IPY_MODEL_614a2ea74bd84724929d86d654f9a8b5",
            "max": 1000,
            "min": 0,
            "orientation": "horizontal",
            "style": "IPY_MODEL_ee370cc10805487b99634ea90886d317",
            "value": 1000
          }
        },
        "f48a6c891a6b41d4b416e63ada5729e1": {
          "model_module": "@jupyter-widgets/controls",
          "model_name": "HTMLModel",
          "model_module_version": "1.5.0",
          "state": {
            "_dom_classes": [],
            "_model_module": "@jupyter-widgets/controls",
            "_model_module_version": "1.5.0",
            "_model_name": "HTMLModel",
            "_view_count": null,
            "_view_module": "@jupyter-widgets/controls",
            "_view_module_version": "1.5.0",
            "_view_name": "HTMLView",
            "description": "",
            "description_tooltip": null,
            "layout": "IPY_MODEL_7bc77858651e43b8a779da7e97228028",
            "placeholder": "​",
            "style": "IPY_MODEL_208bf84becc64f6e9074331950552d47",
            "value": " 1000/1000 [00:02&lt;00:00, 368.78it/s]"
          }
        },
        "5773cb1bc8d045b5a2d3e7279dd612c8": {
          "model_module": "@jupyter-widgets/base",
          "model_name": "LayoutModel",
          "model_module_version": "1.2.0",
          "state": {
            "_model_module": "@jupyter-widgets/base",
            "_model_module_version": "1.2.0",
            "_model_name": "LayoutModel",
            "_view_count": null,
            "_view_module": "@jupyter-widgets/base",
            "_view_module_version": "1.2.0",
            "_view_name": "LayoutView",
            "align_content": null,
            "align_items": null,
            "align_self": null,
            "border": null,
            "bottom": null,
            "display": null,
            "flex": null,
            "flex_flow": null,
            "grid_area": null,
            "grid_auto_columns": null,
            "grid_auto_flow": null,
            "grid_auto_rows": null,
            "grid_column": null,
            "grid_gap": null,
            "grid_row": null,
            "grid_template_areas": null,
            "grid_template_columns": null,
            "grid_template_rows": null,
            "height": null,
            "justify_content": null,
            "justify_items": null,
            "left": null,
            "margin": null,
            "max_height": null,
            "max_width": null,
            "min_height": null,
            "min_width": null,
            "object_fit": null,
            "object_position": null,
            "order": null,
            "overflow": null,
            "overflow_x": null,
            "overflow_y": null,
            "padding": null,
            "right": null,
            "top": null,
            "visibility": null,
            "width": null
          }
        },
        "745b41bd492e412894db377a9e72e351": {
          "model_module": "@jupyter-widgets/base",
          "model_name": "LayoutModel",
          "model_module_version": "1.2.0",
          "state": {
            "_model_module": "@jupyter-widgets/base",
            "_model_module_version": "1.2.0",
            "_model_name": "LayoutModel",
            "_view_count": null,
            "_view_module": "@jupyter-widgets/base",
            "_view_module_version": "1.2.0",
            "_view_name": "LayoutView",
            "align_content": null,
            "align_items": null,
            "align_self": null,
            "border": null,
            "bottom": null,
            "display": null,
            "flex": null,
            "flex_flow": null,
            "grid_area": null,
            "grid_auto_columns": null,
            "grid_auto_flow": null,
            "grid_auto_rows": null,
            "grid_column": null,
            "grid_gap": null,
            "grid_row": null,
            "grid_template_areas": null,
            "grid_template_columns": null,
            "grid_template_rows": null,
            "height": null,
            "justify_content": null,
            "justify_items": null,
            "left": null,
            "margin": null,
            "max_height": null,
            "max_width": null,
            "min_height": null,
            "min_width": null,
            "object_fit": null,
            "object_position": null,
            "order": null,
            "overflow": null,
            "overflow_x": null,
            "overflow_y": null,
            "padding": null,
            "right": null,
            "top": null,
            "visibility": null,
            "width": null
          }
        },
        "ce0f208ab5b7491d93dfe79de1599e52": {
          "model_module": "@jupyter-widgets/controls",
          "model_name": "DescriptionStyleModel",
          "model_module_version": "1.5.0",
          "state": {
            "_model_module": "@jupyter-widgets/controls",
            "_model_module_version": "1.5.0",
            "_model_name": "DescriptionStyleModel",
            "_view_count": null,
            "_view_module": "@jupyter-widgets/base",
            "_view_module_version": "1.2.0",
            "_view_name": "StyleView",
            "description_width": ""
          }
        },
        "614a2ea74bd84724929d86d654f9a8b5": {
          "model_module": "@jupyter-widgets/base",
          "model_name": "LayoutModel",
          "model_module_version": "1.2.0",
          "state": {
            "_model_module": "@jupyter-widgets/base",
            "_model_module_version": "1.2.0",
            "_model_name": "LayoutModel",
            "_view_count": null,
            "_view_module": "@jupyter-widgets/base",
            "_view_module_version": "1.2.0",
            "_view_name": "LayoutView",
            "align_content": null,
            "align_items": null,
            "align_self": null,
            "border": null,
            "bottom": null,
            "display": null,
            "flex": null,
            "flex_flow": null,
            "grid_area": null,
            "grid_auto_columns": null,
            "grid_auto_flow": null,
            "grid_auto_rows": null,
            "grid_column": null,
            "grid_gap": null,
            "grid_row": null,
            "grid_template_areas": null,
            "grid_template_columns": null,
            "grid_template_rows": null,
            "height": null,
            "justify_content": null,
            "justify_items": null,
            "left": null,
            "margin": null,
            "max_height": null,
            "max_width": null,
            "min_height": null,
            "min_width": null,
            "object_fit": null,
            "object_position": null,
            "order": null,
            "overflow": null,
            "overflow_x": null,
            "overflow_y": null,
            "padding": null,
            "right": null,
            "top": null,
            "visibility": null,
            "width": null
          }
        },
        "ee370cc10805487b99634ea90886d317": {
          "model_module": "@jupyter-widgets/controls",
          "model_name": "ProgressStyleModel",
          "model_module_version": "1.5.0",
          "state": {
            "_model_module": "@jupyter-widgets/controls",
            "_model_module_version": "1.5.0",
            "_model_name": "ProgressStyleModel",
            "_view_count": null,
            "_view_module": "@jupyter-widgets/base",
            "_view_module_version": "1.2.0",
            "_view_name": "StyleView",
            "bar_color": null,
            "description_width": ""
          }
        },
        "7bc77858651e43b8a779da7e97228028": {
          "model_module": "@jupyter-widgets/base",
          "model_name": "LayoutModel",
          "model_module_version": "1.2.0",
          "state": {
            "_model_module": "@jupyter-widgets/base",
            "_model_module_version": "1.2.0",
            "_model_name": "LayoutModel",
            "_view_count": null,
            "_view_module": "@jupyter-widgets/base",
            "_view_module_version": "1.2.0",
            "_view_name": "LayoutView",
            "align_content": null,
            "align_items": null,
            "align_self": null,
            "border": null,
            "bottom": null,
            "display": null,
            "flex": null,
            "flex_flow": null,
            "grid_area": null,
            "grid_auto_columns": null,
            "grid_auto_flow": null,
            "grid_auto_rows": null,
            "grid_column": null,
            "grid_gap": null,
            "grid_row": null,
            "grid_template_areas": null,
            "grid_template_columns": null,
            "grid_template_rows": null,
            "height": null,
            "justify_content": null,
            "justify_items": null,
            "left": null,
            "margin": null,
            "max_height": null,
            "max_width": null,
            "min_height": null,
            "min_width": null,
            "object_fit": null,
            "object_position": null,
            "order": null,
            "overflow": null,
            "overflow_x": null,
            "overflow_y": null,
            "padding": null,
            "right": null,
            "top": null,
            "visibility": null,
            "width": null
          }
        },
        "208bf84becc64f6e9074331950552d47": {
          "model_module": "@jupyter-widgets/controls",
          "model_name": "DescriptionStyleModel",
          "model_module_version": "1.5.0",
          "state": {
            "_model_module": "@jupyter-widgets/controls",
            "_model_module_version": "1.5.0",
            "_model_name": "DescriptionStyleModel",
            "_view_count": null,
            "_view_module": "@jupyter-widgets/base",
            "_view_module_version": "1.2.0",
            "_view_name": "StyleView",
            "description_width": ""
          }
        },
        "75cf4f96695b467aadef75984287dd26": {
          "model_module": "@jupyter-widgets/controls",
          "model_name": "HBoxModel",
          "model_module_version": "1.5.0",
          "state": {
            "_dom_classes": [],
            "_model_module": "@jupyter-widgets/controls",
            "_model_module_version": "1.5.0",
            "_model_name": "HBoxModel",
            "_view_count": null,
            "_view_module": "@jupyter-widgets/controls",
            "_view_module_version": "1.5.0",
            "_view_name": "HBoxView",
            "box_style": "",
            "children": [
              "IPY_MODEL_0a751e9aaa284dd68a1458633b9e64a4",
              "IPY_MODEL_84ce7cacc9744e73b18e72b81c125fe3",
              "IPY_MODEL_e4f09c9efa6d4b2591cb9cb66bf51775"
            ],
            "layout": "IPY_MODEL_2e479d0df8294a1fb438be815d8a511c"
          }
        },
        "0a751e9aaa284dd68a1458633b9e64a4": {
          "model_module": "@jupyter-widgets/controls",
          "model_name": "HTMLModel",
          "model_module_version": "1.5.0",
          "state": {
            "_dom_classes": [],
            "_model_module": "@jupyter-widgets/controls",
            "_model_module_version": "1.5.0",
            "_model_name": "HTMLModel",
            "_view_count": null,
            "_view_module": "@jupyter-widgets/controls",
            "_view_module_version": "1.5.0",
            "_view_name": "HTMLView",
            "description": "",
            "description_tooltip": null,
            "layout": "IPY_MODEL_2457ba5a62a24d228b5e5e090e89a408",
            "placeholder": "​",
            "style": "IPY_MODEL_eae16192d5cf4269934d3aadd7ea201d",
            "value": "100%"
          }
        },
        "84ce7cacc9744e73b18e72b81c125fe3": {
          "model_module": "@jupyter-widgets/controls",
          "model_name": "FloatProgressModel",
          "model_module_version": "1.5.0",
          "state": {
            "_dom_classes": [],
            "_model_module": "@jupyter-widgets/controls",
            "_model_module_version": "1.5.0",
            "_model_name": "FloatProgressModel",
            "_view_count": null,
            "_view_module": "@jupyter-widgets/controls",
            "_view_module_version": "1.5.0",
            "_view_name": "ProgressView",
            "bar_style": "success",
            "description": "",
            "description_tooltip": null,
            "layout": "IPY_MODEL_f6cac059e64f443bb4578cde737de34b",
            "max": 1000,
            "min": 0,
            "orientation": "horizontal",
            "style": "IPY_MODEL_82bd3e04828e4b0e8bddac2c53558fa8",
            "value": 1000
          }
        },
        "e4f09c9efa6d4b2591cb9cb66bf51775": {
          "model_module": "@jupyter-widgets/controls",
          "model_name": "HTMLModel",
          "model_module_version": "1.5.0",
          "state": {
            "_dom_classes": [],
            "_model_module": "@jupyter-widgets/controls",
            "_model_module_version": "1.5.0",
            "_model_name": "HTMLModel",
            "_view_count": null,
            "_view_module": "@jupyter-widgets/controls",
            "_view_module_version": "1.5.0",
            "_view_name": "HTMLView",
            "description": "",
            "description_tooltip": null,
            "layout": "IPY_MODEL_815e23ed92674c5f91c5a35d0a28aee0",
            "placeholder": "​",
            "style": "IPY_MODEL_2347c49ca4be447bafd3d8ae85304c5b",
            "value": " 1000/1000 [00:09&lt;00:00, 123.53it/s]"
          }
        },
        "2e479d0df8294a1fb438be815d8a511c": {
          "model_module": "@jupyter-widgets/base",
          "model_name": "LayoutModel",
          "model_module_version": "1.2.0",
          "state": {
            "_model_module": "@jupyter-widgets/base",
            "_model_module_version": "1.2.0",
            "_model_name": "LayoutModel",
            "_view_count": null,
            "_view_module": "@jupyter-widgets/base",
            "_view_module_version": "1.2.0",
            "_view_name": "LayoutView",
            "align_content": null,
            "align_items": null,
            "align_self": null,
            "border": null,
            "bottom": null,
            "display": null,
            "flex": null,
            "flex_flow": null,
            "grid_area": null,
            "grid_auto_columns": null,
            "grid_auto_flow": null,
            "grid_auto_rows": null,
            "grid_column": null,
            "grid_gap": null,
            "grid_row": null,
            "grid_template_areas": null,
            "grid_template_columns": null,
            "grid_template_rows": null,
            "height": null,
            "justify_content": null,
            "justify_items": null,
            "left": null,
            "margin": null,
            "max_height": null,
            "max_width": null,
            "min_height": null,
            "min_width": null,
            "object_fit": null,
            "object_position": null,
            "order": null,
            "overflow": null,
            "overflow_x": null,
            "overflow_y": null,
            "padding": null,
            "right": null,
            "top": null,
            "visibility": null,
            "width": null
          }
        },
        "2457ba5a62a24d228b5e5e090e89a408": {
          "model_module": "@jupyter-widgets/base",
          "model_name": "LayoutModel",
          "model_module_version": "1.2.0",
          "state": {
            "_model_module": "@jupyter-widgets/base",
            "_model_module_version": "1.2.0",
            "_model_name": "LayoutModel",
            "_view_count": null,
            "_view_module": "@jupyter-widgets/base",
            "_view_module_version": "1.2.0",
            "_view_name": "LayoutView",
            "align_content": null,
            "align_items": null,
            "align_self": null,
            "border": null,
            "bottom": null,
            "display": null,
            "flex": null,
            "flex_flow": null,
            "grid_area": null,
            "grid_auto_columns": null,
            "grid_auto_flow": null,
            "grid_auto_rows": null,
            "grid_column": null,
            "grid_gap": null,
            "grid_row": null,
            "grid_template_areas": null,
            "grid_template_columns": null,
            "grid_template_rows": null,
            "height": null,
            "justify_content": null,
            "justify_items": null,
            "left": null,
            "margin": null,
            "max_height": null,
            "max_width": null,
            "min_height": null,
            "min_width": null,
            "object_fit": null,
            "object_position": null,
            "order": null,
            "overflow": null,
            "overflow_x": null,
            "overflow_y": null,
            "padding": null,
            "right": null,
            "top": null,
            "visibility": null,
            "width": null
          }
        },
        "eae16192d5cf4269934d3aadd7ea201d": {
          "model_module": "@jupyter-widgets/controls",
          "model_name": "DescriptionStyleModel",
          "model_module_version": "1.5.0",
          "state": {
            "_model_module": "@jupyter-widgets/controls",
            "_model_module_version": "1.5.0",
            "_model_name": "DescriptionStyleModel",
            "_view_count": null,
            "_view_module": "@jupyter-widgets/base",
            "_view_module_version": "1.2.0",
            "_view_name": "StyleView",
            "description_width": ""
          }
        },
        "f6cac059e64f443bb4578cde737de34b": {
          "model_module": "@jupyter-widgets/base",
          "model_name": "LayoutModel",
          "model_module_version": "1.2.0",
          "state": {
            "_model_module": "@jupyter-widgets/base",
            "_model_module_version": "1.2.0",
            "_model_name": "LayoutModel",
            "_view_count": null,
            "_view_module": "@jupyter-widgets/base",
            "_view_module_version": "1.2.0",
            "_view_name": "LayoutView",
            "align_content": null,
            "align_items": null,
            "align_self": null,
            "border": null,
            "bottom": null,
            "display": null,
            "flex": null,
            "flex_flow": null,
            "grid_area": null,
            "grid_auto_columns": null,
            "grid_auto_flow": null,
            "grid_auto_rows": null,
            "grid_column": null,
            "grid_gap": null,
            "grid_row": null,
            "grid_template_areas": null,
            "grid_template_columns": null,
            "grid_template_rows": null,
            "height": null,
            "justify_content": null,
            "justify_items": null,
            "left": null,
            "margin": null,
            "max_height": null,
            "max_width": null,
            "min_height": null,
            "min_width": null,
            "object_fit": null,
            "object_position": null,
            "order": null,
            "overflow": null,
            "overflow_x": null,
            "overflow_y": null,
            "padding": null,
            "right": null,
            "top": null,
            "visibility": null,
            "width": null
          }
        },
        "82bd3e04828e4b0e8bddac2c53558fa8": {
          "model_module": "@jupyter-widgets/controls",
          "model_name": "ProgressStyleModel",
          "model_module_version": "1.5.0",
          "state": {
            "_model_module": "@jupyter-widgets/controls",
            "_model_module_version": "1.5.0",
            "_model_name": "ProgressStyleModel",
            "_view_count": null,
            "_view_module": "@jupyter-widgets/base",
            "_view_module_version": "1.2.0",
            "_view_name": "StyleView",
            "bar_color": null,
            "description_width": ""
          }
        },
        "815e23ed92674c5f91c5a35d0a28aee0": {
          "model_module": "@jupyter-widgets/base",
          "model_name": "LayoutModel",
          "model_module_version": "1.2.0",
          "state": {
            "_model_module": "@jupyter-widgets/base",
            "_model_module_version": "1.2.0",
            "_model_name": "LayoutModel",
            "_view_count": null,
            "_view_module": "@jupyter-widgets/base",
            "_view_module_version": "1.2.0",
            "_view_name": "LayoutView",
            "align_content": null,
            "align_items": null,
            "align_self": null,
            "border": null,
            "bottom": null,
            "display": null,
            "flex": null,
            "flex_flow": null,
            "grid_area": null,
            "grid_auto_columns": null,
            "grid_auto_flow": null,
            "grid_auto_rows": null,
            "grid_column": null,
            "grid_gap": null,
            "grid_row": null,
            "grid_template_areas": null,
            "grid_template_columns": null,
            "grid_template_rows": null,
            "height": null,
            "justify_content": null,
            "justify_items": null,
            "left": null,
            "margin": null,
            "max_height": null,
            "max_width": null,
            "min_height": null,
            "min_width": null,
            "object_fit": null,
            "object_position": null,
            "order": null,
            "overflow": null,
            "overflow_x": null,
            "overflow_y": null,
            "padding": null,
            "right": null,
            "top": null,
            "visibility": null,
            "width": null
          }
        },
        "2347c49ca4be447bafd3d8ae85304c5b": {
          "model_module": "@jupyter-widgets/controls",
          "model_name": "DescriptionStyleModel",
          "model_module_version": "1.5.0",
          "state": {
            "_model_module": "@jupyter-widgets/controls",
            "_model_module_version": "1.5.0",
            "_model_name": "DescriptionStyleModel",
            "_view_count": null,
            "_view_module": "@jupyter-widgets/base",
            "_view_module_version": "1.2.0",
            "_view_name": "StyleView",
            "description_width": ""
          }
        }
      }
    }
  },
  "cells": [
    {
      "cell_type": "markdown",
      "metadata": {
        "id": "view-in-github",
        "colab_type": "text"
      },
      "source": [
        "<a href=\"https://colab.research.google.com/github/Roman-212/Kursk_Appeals_of_citizens/blob/main/%D0%9A%D1%83%D1%80%D1%81%D0%BA_%D0%BE%D0%B1%D1%80%D0%B0%D1%89%D0%B5%D0%BD%D0%B8%D1%8F_%D0%B3%D1%80%D0%B0%D0%B6%D0%B4%D0%B0%D0%BD_%E2%84%963_(%D0%9F%D1%80%D0%B5%D0%B4%D0%BE%D0%B1%D1%80%D0%B0%D0%B1%D0%BE%D1%82%D0%BA%D0%B0_%D1%82%D0%B5%D0%BA%D1%81%D1%82%D0%B0).ipynb\" target=\"_parent\"><img src=\"https://colab.research.google.com/assets/colab-badge.svg\" alt=\"Open In Colab\"/></a>"
      ]
    },
    {
      "cell_type": "code",
      "execution_count": 2,
      "metadata": {
        "id": "PAnUEGTeXRGb"
      },
      "outputs": [],
      "source": [
        "from google.colab import files # Для работы с файлами \n",
        "import numpy as np # Для работы с данными \n",
        "import pandas as pd # Для работы с таблицами\n",
        "import matplotlib.pyplot as plt # Для вывода графиков\n",
        "import os # Для работы с файлами\n",
        "%matplotlib inline\n",
        "\n",
        "from tensorflow.keras import utils # Для работы с категориальными данными\n",
        "from tensorflow.keras.models import Sequential # Полносвязная модель\n",
        "from tensorflow.keras.optimizers import Adam\n",
        "from tensorflow.keras.layers import Dense, Dropout, SpatialDropout1D, BatchNormalization, Embedding, Flatten, Activation # Слои для сети\n",
        "from tensorflow.keras.preprocessing.text import Tokenizer # Методы для работы с текстами и преобразования их в последовательности\n",
        "from tensorflow.keras.preprocessing.sequence import pad_sequences # Метод для работы с последовательностями\n",
        "\n",
        "from sklearn.preprocessing import LabelEncoder # Метод кодирования тестовых лейблов\n",
        "from sklearn.model_selection import train_test_split # Для разделения выборки на тестовую и обучающую\n",
        "from google.colab import drive # Для работы с Google Drive\n",
        "import time # Импортируем библиотеку time\n",
        "from tensorflow.keras.callbacks import ModelCheckpoint\n",
        "from keras.models import load_model\n",
        "import re\n",
        "import seaborn as sns "
      ]
    },
    {
      "cell_type": "code",
      "source": [
        "from google.colab import drive\n",
        "drive.mount('/content/drive')"
      ],
      "metadata": {
        "colab": {
          "base_uri": "https://localhost:8080/"
        },
        "id": "niH5ECq8XeCf",
        "outputId": "90c0c9a5-3f99-486b-d162-521785ad6e76"
      },
      "execution_count": 3,
      "outputs": [
        {
          "output_type": "stream",
          "name": "stdout",
          "text": [
            "Mounted at /content/drive\n"
          ]
        }
      ]
    },
    {
      "cell_type": "code",
      "source": [
        "# Загружаем фреймы\n",
        "df = pd.read_csv(open('/content/drive/MyDrive/Базы/Обращения граждан/train_dataset_train.csv')) \n",
        "df_test = pd.read_csv(open('/content/drive/MyDrive/Базы/Обращения граждан/test_dataset_test.csv')) \n",
        "df.drop(df.columns[[2,3]], axis=1, inplace=True)"
      ],
      "metadata": {
        "id": "A0rwayWhXmGu"
      },
      "execution_count": 4,
      "outputs": []
    },
    {
      "cell_type": "markdown",
      "source": [
        "# **Обрабатываем обучающий датасет**"
      ],
      "metadata": {
        "id": "vlN4qLctetlB"
      }
    },
    {
      "cell_type": "code",
      "source": [
        "# Подсчет соотношения часла строк к число слов в строке\n",
        "number_of_samples = len(df)\n",
        "print(\"Количество строк (объектов)\" , number_of_samples)\n",
        "\n",
        "number_of_words = 0\n",
        "for index, row in df.iterrows():\n",
        "  words = row['Текст Сообщения'].split()\n",
        "  number_of_words += len(words)\n",
        "number_of_words_per_sample = number_of_words / len(df)\n",
        "print(\"Количество cлов в строке\" , number_of_words_per_sample)\n",
        "\n",
        "ratio = number_of_samples / number_of_words_per_sample\n",
        "print(\"Соотношение: \" , ratio)\n",
        "\n",
        "# Проводим выбор метода машинного обучения (модели) на основе вычисленного показателя"
      ],
      "metadata": {
        "colab": {
          "base_uri": "https://localhost:8080/"
        },
        "id": "KmBqn56EZM1g",
        "outputId": "343deb72-79a5-448d-e8db-62893fa2619f"
      },
      "execution_count": 5,
      "outputs": [
        {
          "output_type": "stream",
          "name": "stdout",
          "text": [
            "Количество строк (объектов) 2000\n",
            "Количество cлов в строке 51.445\n",
            "Соотношение:  38.8764700165225\n"
          ]
        }
      ]
    },
    {
      "cell_type": "code",
      "source": [
        "from string import punctuation  # Модуль для работы со строками\n",
        "\n",
        "# Удаление символов пунктуации\n",
        "def remove_punctuation(my_string):\n",
        "    return \"\".join([ch if ch not in punctuation else ' ' for ch in my_string]) # Замена на пробелы!!!\n",
        "\n",
        "# Удаление чисел\n",
        "def remove_numbers(my_string):\n",
        "    return ''.join([i if not i.isdigit() else ' ' for i in my_string])\n",
        "\n",
        "# Замена множественных пробелов на одинарный пробел\n",
        "import re\n",
        "def remove_multiple_spaces(my_string):\n",
        "\treturn re.sub(r'\\s+', ' ', my_string, flags=re.I)\n",
        "\n",
        "# Обработка строк + дополнительно приведение к нижнему регистру\n",
        "preproccessing = lambda text: (remove_multiple_spaces(remove_numbers(remove_punctuation(text.lower())))) \n",
        "\n",
        "# Создаем колонку в датасете для обработанного текста\n",
        "df['Текст Сообщения_2'] = list(map(preproccessing, df['Текст Сообщения']))\n",
        "df.head()"
      ],
      "metadata": {
        "colab": {
          "base_uri": "https://localhost:8080/",
          "height": 206
        },
        "id": "CDE8ScwtZlEy",
        "outputId": "0ce017a7-fdbc-4ada-da8d-95ade5d030b6"
      },
      "execution_count": 7,
      "outputs": [
        {
          "output_type": "execute_result",
          "data": {
            "text/plain": [
              "     id                                    Текст Сообщения  Категория  \\\n",
              "0  2246  Помогите начальник Льговского рэс не реагирует...          3   \n",
              "1   380  <p>По фасаду дома по адресу ул. Урицкого 22 пр...          3   \n",
              "2  2240  Агресивные собаки. На радуге там стая из подро...          1   \n",
              "3   596  <p>На пересечении &nbsp;улиц Сосновская и Бере...          3   \n",
              "4  1797  <p style=`text-align:justify;`><span style=`ba...          3   \n",
              "\n",
              "                                   Текст Сообщения_2  \n",
              "0  помогите начальник льговского рэс не реагирует...  \n",
              "1   p по фасаду дома по адресу ул урицкого проход...  \n",
              "2  агресивные собаки на радуге там стая из подрос...  \n",
              "3   p на пересечении nbsp улиц сосновская и берег...  \n",
              "4   p style text align justify span style backgro...  "
            ],
            "text/html": [
              "\n",
              "  <div id=\"df-662d4a34-9d1a-429d-aca9-f26be508232f\">\n",
              "    <div class=\"colab-df-container\">\n",
              "      <div>\n",
              "<style scoped>\n",
              "    .dataframe tbody tr th:only-of-type {\n",
              "        vertical-align: middle;\n",
              "    }\n",
              "\n",
              "    .dataframe tbody tr th {\n",
              "        vertical-align: top;\n",
              "    }\n",
              "\n",
              "    .dataframe thead th {\n",
              "        text-align: right;\n",
              "    }\n",
              "</style>\n",
              "<table border=\"1\" class=\"dataframe\">\n",
              "  <thead>\n",
              "    <tr style=\"text-align: right;\">\n",
              "      <th></th>\n",
              "      <th>id</th>\n",
              "      <th>Текст Сообщения</th>\n",
              "      <th>Категория</th>\n",
              "      <th>Текст Сообщения_2</th>\n",
              "    </tr>\n",
              "  </thead>\n",
              "  <tbody>\n",
              "    <tr>\n",
              "      <th>0</th>\n",
              "      <td>2246</td>\n",
              "      <td>Помогите начальник Льговского рэс не реагирует...</td>\n",
              "      <td>3</td>\n",
              "      <td>помогите начальник льговского рэс не реагирует...</td>\n",
              "    </tr>\n",
              "    <tr>\n",
              "      <th>1</th>\n",
              "      <td>380</td>\n",
              "      <td>&lt;p&gt;По фасаду дома по адресу ул. Урицкого 22 пр...</td>\n",
              "      <td>3</td>\n",
              "      <td>p по фасаду дома по адресу ул урицкого проход...</td>\n",
              "    </tr>\n",
              "    <tr>\n",
              "      <th>2</th>\n",
              "      <td>2240</td>\n",
              "      <td>Агресивные собаки. На радуге там стая из подро...</td>\n",
              "      <td>1</td>\n",
              "      <td>агресивные собаки на радуге там стая из подрос...</td>\n",
              "    </tr>\n",
              "    <tr>\n",
              "      <th>3</th>\n",
              "      <td>596</td>\n",
              "      <td>&lt;p&gt;На пересечении &amp;nbsp;улиц Сосновская и Бере...</td>\n",
              "      <td>3</td>\n",
              "      <td>p на пересечении nbsp улиц сосновская и берег...</td>\n",
              "    </tr>\n",
              "    <tr>\n",
              "      <th>4</th>\n",
              "      <td>1797</td>\n",
              "      <td>&lt;p style=`text-align:justify;`&gt;&lt;span style=`ba...</td>\n",
              "      <td>3</td>\n",
              "      <td>p style text align justify span style backgro...</td>\n",
              "    </tr>\n",
              "  </tbody>\n",
              "</table>\n",
              "</div>\n",
              "      <button class=\"colab-df-convert\" onclick=\"convertToInteractive('df-662d4a34-9d1a-429d-aca9-f26be508232f')\"\n",
              "              title=\"Convert this dataframe to an interactive table.\"\n",
              "              style=\"display:none;\">\n",
              "        \n",
              "  <svg xmlns=\"http://www.w3.org/2000/svg\" height=\"24px\"viewBox=\"0 0 24 24\"\n",
              "       width=\"24px\">\n",
              "    <path d=\"M0 0h24v24H0V0z\" fill=\"none\"/>\n",
              "    <path d=\"M18.56 5.44l.94 2.06.94-2.06 2.06-.94-2.06-.94-.94-2.06-.94 2.06-2.06.94zm-11 1L8.5 8.5l.94-2.06 2.06-.94-2.06-.94L8.5 2.5l-.94 2.06-2.06.94zm10 10l.94 2.06.94-2.06 2.06-.94-2.06-.94-.94-2.06-.94 2.06-2.06.94z\"/><path d=\"M17.41 7.96l-1.37-1.37c-.4-.4-.92-.59-1.43-.59-.52 0-1.04.2-1.43.59L10.3 9.45l-7.72 7.72c-.78.78-.78 2.05 0 2.83L4 21.41c.39.39.9.59 1.41.59.51 0 1.02-.2 1.41-.59l7.78-7.78 2.81-2.81c.8-.78.8-2.07 0-2.86zM5.41 20L4 18.59l7.72-7.72 1.47 1.35L5.41 20z\"/>\n",
              "  </svg>\n",
              "      </button>\n",
              "      \n",
              "  <style>\n",
              "    .colab-df-container {\n",
              "      display:flex;\n",
              "      flex-wrap:wrap;\n",
              "      gap: 12px;\n",
              "    }\n",
              "\n",
              "    .colab-df-convert {\n",
              "      background-color: #E8F0FE;\n",
              "      border: none;\n",
              "      border-radius: 50%;\n",
              "      cursor: pointer;\n",
              "      display: none;\n",
              "      fill: #1967D2;\n",
              "      height: 32px;\n",
              "      padding: 0 0 0 0;\n",
              "      width: 32px;\n",
              "    }\n",
              "\n",
              "    .colab-df-convert:hover {\n",
              "      background-color: #E2EBFA;\n",
              "      box-shadow: 0px 1px 2px rgba(60, 64, 67, 0.3), 0px 1px 3px 1px rgba(60, 64, 67, 0.15);\n",
              "      fill: #174EA6;\n",
              "    }\n",
              "\n",
              "    [theme=dark] .colab-df-convert {\n",
              "      background-color: #3B4455;\n",
              "      fill: #D2E3FC;\n",
              "    }\n",
              "\n",
              "    [theme=dark] .colab-df-convert:hover {\n",
              "      background-color: #434B5C;\n",
              "      box-shadow: 0px 1px 3px 1px rgba(0, 0, 0, 0.15);\n",
              "      filter: drop-shadow(0px 1px 2px rgba(0, 0, 0, 0.3));\n",
              "      fill: #FFFFFF;\n",
              "    }\n",
              "  </style>\n",
              "\n",
              "      <script>\n",
              "        const buttonEl =\n",
              "          document.querySelector('#df-662d4a34-9d1a-429d-aca9-f26be508232f button.colab-df-convert');\n",
              "        buttonEl.style.display =\n",
              "          google.colab.kernel.accessAllowed ? 'block' : 'none';\n",
              "\n",
              "        async function convertToInteractive(key) {\n",
              "          const element = document.querySelector('#df-662d4a34-9d1a-429d-aca9-f26be508232f');\n",
              "          const dataTable =\n",
              "            await google.colab.kernel.invokeFunction('convertToInteractive',\n",
              "                                                     [key], {});\n",
              "          if (!dataTable) return;\n",
              "\n",
              "          const docLinkHtml = 'Like what you see? Visit the ' +\n",
              "            '<a target=\"_blank\" href=https://colab.research.google.com/notebooks/data_table.ipynb>data table notebook</a>'\n",
              "            + ' to learn more about interactive tables.';\n",
              "          element.innerHTML = '';\n",
              "          dataTable['output_type'] = 'display_data';\n",
              "          await google.colab.output.renderOutput(dataTable, element);\n",
              "          const docLink = document.createElement('div');\n",
              "          docLink.innerHTML = docLinkHtml;\n",
              "          element.appendChild(docLink);\n",
              "        }\n",
              "      </script>\n",
              "    </div>\n",
              "  </div>\n",
              "  "
            ]
          },
          "metadata": {},
          "execution_count": 7
        }
      ]
    },
    {
      "cell_type": "markdown",
      "source": [
        "## Стемминг\n",
        "\n",
        "Сте́мминг (англ. stemming — находить происхождение) — это процесс нахождения основы слова для заданного исходного слова. Основа слова не обязательно совпадает с морфологическим корнем слова. Стемминг является частью процесса нормализации текста.\n",
        "\n",
        "Конкретный способ решения задачи поиска основы слов называется алгоритм стемминга, а конкретная реализация — стеммер"
      ],
      "metadata": {
        "id": "xdAEbQ7pbNKr"
      }
    },
    {
      "cell_type": "code",
      "source": [
        "# NLTK - библиотек Python для решения задач обработки естественного языка\n",
        "import nltk\n",
        "\n",
        "from nltk.stem.snowball import SnowballStemmer    # Стеммер Porter2 - новая версия стеммера Портера\n",
        "from nltk.corpus import stopwords                 # Библиотека стоп-слов\n",
        "from nltk import word_tokenize                    # Токенизатор\n",
        "\n",
        "nltk.download('stopwords')                        # Загрузка стоп-слов\n",
        "nltk.download('punkt')                            # Загрузка символов пунктуации\n",
        "stemmer = SnowballStemmer(\"russian\")              # Стеммер для русского языка"
      ],
      "metadata": {
        "colab": {
          "base_uri": "https://localhost:8080/"
        },
        "id": "pMjuktlGc-dg",
        "outputId": "48a4216b-2f9a-4b64-c433-c8ae37685590"
      },
      "execution_count": 15,
      "outputs": [
        {
          "output_type": "stream",
          "name": "stderr",
          "text": [
            "[nltk_data] Downloading package stopwords to /root/nltk_data...\n",
            "[nltk_data]   Unzipping corpora/stopwords.zip.\n",
            "[nltk_data] Downloading package punkt to /root/nltk_data...\n",
            "[nltk_data]   Unzipping tokenizers/punkt.zip.\n"
          ]
        }
      ]
    },
    {
      "cell_type": "code",
      "source": [
        "russian_stopwords = stopwords.words(\"russian\")    # Список стоп-слов для русского языка\n",
        "# Расширение списка стоп-слов (см. набор данных)\n",
        "russian_stopwords.extend(['…', '«', '»', '...', 'т.д.', 'т', 'д', 'nan'])"
      ],
      "metadata": {
        "id": "rzvvAcaGdB80"
      },
      "execution_count": 16,
      "outputs": []
    },
    {
      "cell_type": "code",
      "source": [
        "# Провердим стемминг и избавляемся от стоп-слов\n",
        "stemmed_text_column = []\n",
        "for text in tqdm(df['Текст Сообщения_2']):\n",
        "    tokens = word_tokenize(text)    \n",
        "    stemmed_tokens = [stemmer.stem(token) for token in tokens if token not in russian_stopwords]\n",
        "    text = \" \".join(stemmed_tokens)\n",
        "    stemmed_text_column.append(text)\n",
        "\n",
        "# Создаем новую колонку в наборе данных\n",
        "df['text_stemmed'] = stemmed_text_column\n",
        "df['text_stemmed'][0]"
      ],
      "metadata": {
        "colab": {
          "base_uri": "https://localhost:8080/",
          "height": 0,
          "referenced_widgets": [
            "139774979c674fc48e827d7103ef49ce",
            "cefd128c56de4746a7d36b84190a4535",
            "3598a7f41ed44a79bcf78f4ce262c8c7",
            "3de50052e10f4c71b2d4cac7d07b24b6",
            "d6f679f0dab041219f689c7dfabb27b9",
            "0cacc71d866c4ada99070750ba954d81",
            "8d6cf015b616455db91a9c0ce4546f4e",
            "74baa0f896304ef2a2472ceed9e456cd",
            "ab92473239e9469e84909af53839e397",
            "860c1e3b72cd47e0b4dcd38762f8ad4c",
            "720df76fde89426ba830815547d0009c"
          ]
        },
        "id": "8cqGs7fpdJoy",
        "outputId": "6af28440-47b0-492d-e30e-2b8527ec1b34"
      },
      "execution_count": 17,
      "outputs": [
        {
          "output_type": "display_data",
          "data": {
            "text/plain": [
              "  0%|          | 0/2000 [00:00<?, ?it/s]"
            ],
            "application/vnd.jupyter.widget-view+json": {
              "version_major": 2,
              "version_minor": 0,
              "model_id": "139774979c674fc48e827d7103ef49ce"
            }
          },
          "metadata": {}
        },
        {
          "output_type": "execute_result",
          "data": {
            "text/plain": [
              "'помог начальник льговск рэс реагир жалоб мал ветер сид свет имен деревн больш угон улиц стар слобод пожалуйст помог пуска вычист фотоотчет сдела'"
            ],
            "application/vnd.google.colaboratory.intrinsic+json": {
              "type": "string"
            }
          },
          "metadata": {},
          "execution_count": 17
        }
      ]
    },
    {
      "cell_type": "markdown",
      "source": [
        "## Лемматизация\n",
        "\n",
        "Лемматиза́ция — процесс приведения словоформы к лемме — её нормальной (словарной) форме."
      ],
      "metadata": {
        "id": "xAOg8p3jbNS6"
      }
    },
    {
      "cell_type": "code",
      "source": [
        "!pip install pymorphy2            # pymorphy2 - морфологический анализатор для русского языка\n",
        "!pip install pymorphy2-dicts      # пакет со словарями\n",
        "!pip install DAWG-Python "
      ],
      "metadata": {
        "colab": {
          "base_uri": "https://localhost:8080/"
        },
        "id": "eEy4n6jeaesr",
        "outputId": "60eeec20-5d94-4fd8-a66e-2a269a27a61a"
      },
      "execution_count": 8,
      "outputs": [
        {
          "output_type": "stream",
          "name": "stdout",
          "text": [
            "Looking in indexes: https://pypi.org/simple, https://us-python.pkg.dev/colab-wheels/public/simple/\n",
            "Collecting pymorphy2\n",
            "  Downloading pymorphy2-0.9.1-py3-none-any.whl (55 kB)\n",
            "\u001b[K     |████████████████████████████████| 55 kB 2.1 MB/s \n",
            "\u001b[?25hRequirement already satisfied: docopt>=0.6 in /usr/local/lib/python3.7/dist-packages (from pymorphy2) (0.6.2)\n",
            "Collecting dawg-python>=0.7.1\n",
            "  Downloading DAWG_Python-0.7.2-py2.py3-none-any.whl (11 kB)\n",
            "Collecting pymorphy2-dicts-ru<3.0,>=2.4\n",
            "  Downloading pymorphy2_dicts_ru-2.4.417127.4579844-py2.py3-none-any.whl (8.2 MB)\n",
            "\u001b[K     |████████████████████████████████| 8.2 MB 8.1 MB/s \n",
            "\u001b[?25hInstalling collected packages: pymorphy2-dicts-ru, dawg-python, pymorphy2\n",
            "Successfully installed dawg-python-0.7.2 pymorphy2-0.9.1 pymorphy2-dicts-ru-2.4.417127.4579844\n",
            "Looking in indexes: https://pypi.org/simple, https://us-python.pkg.dev/colab-wheels/public/simple/\n",
            "Collecting pymorphy2-dicts\n",
            "  Downloading pymorphy2_dicts-2.4.393442.3710985-py2.py3-none-any.whl (7.1 MB)\n",
            "\u001b[K     |████████████████████████████████| 7.1 MB 5.0 MB/s \n",
            "\u001b[?25hInstalling collected packages: pymorphy2-dicts\n",
            "Successfully installed pymorphy2-dicts-2.4.393442.3710985\n",
            "Looking in indexes: https://pypi.org/simple, https://us-python.pkg.dev/colab-wheels/public/simple/\n",
            "Requirement already satisfied: DAWG-Python in /usr/local/lib/python3.7/dist-packages (0.7.2)\n"
          ]
        }
      ]
    },
    {
      "cell_type": "code",
      "source": [
        "import pymorphy2\n",
        "morph = pymorphy2.MorphAnalyzer()"
      ],
      "metadata": {
        "id": "LtINs1Tjait_"
      },
      "execution_count": 18,
      "outputs": []
    },
    {
      "cell_type": "code",
      "source": [
        "from tqdm.auto import tqdm, trange  # Tqdm — библиотека для создания индикаторов выполнения\n",
        "\n",
        "# Провердим лемматизацию и избавляемся от стоп-слов\n",
        "lemm_texts_column = []\n",
        "for text in tqdm(df['Текст Сообщения_2']):\n",
        "    tokens = word_tokenize(text)    \n",
        "    lemmed_tokens = [morph.parse(token)[0].normal_form for token in tokens if token not in russian_stopwords]\n",
        "    text = \" \".join(lemmed_tokens)\n",
        "    lemm_texts_column.append(text)\n",
        "    \n",
        "# Создаем новую колонку в наборе данных\n",
        "df['text_lemmed'] = lemm_texts_column\n",
        "\n",
        "df['text_lemmed'][0]"
      ],
      "metadata": {
        "colab": {
          "base_uri": "https://localhost:8080/",
          "height": 0,
          "referenced_widgets": [
            "b9bd46705a36402099d2ea3f5e681739",
            "83897e4ed781497e9ecc95b58be13e10",
            "a75c2113502249f38d4cb4a8e7dbac85",
            "36e86fb4e0654a29a8cb2190a23818eb",
            "f6dafdbf40e84dc5803755f8eed2fe86",
            "5cc3bbec60ec47e4b65885f447f752bc",
            "d5740e3a3b1243eebfc8e8859719c6a6",
            "b4101dc22eff431db4008237b1fbf36e",
            "e7644593601e4a9088ac36b528e79610",
            "9efbf91f2def45adaf13dd681ed5d9d9",
            "d96be28c98c44a4faa0a7f61426a109a"
          ]
        },
        "id": "QzB7XEGbamVI",
        "outputId": "8a5a8189-423a-49b6-fcee-9643f41b854c"
      },
      "execution_count": 20,
      "outputs": [
        {
          "output_type": "display_data",
          "data": {
            "text/plain": [
              "  0%|          | 0/2000 [00:00<?, ?it/s]"
            ],
            "application/vnd.jupyter.widget-view+json": {
              "version_major": 2,
              "version_minor": 0,
              "model_id": "b9bd46705a36402099d2ea3f5e681739"
            }
          },
          "metadata": {}
        },
        {
          "output_type": "execute_result",
          "data": {
            "text/plain": [
              "'помочь начальник льговский рэс реагировать жалоба малый ветер сидеть свет именно деревня больший угон улица старый слобода пожалуйста помочь пускай вычистить фотоотчёт сделать'"
            ],
            "application/vnd.google.colaboratory.intrinsic+json": {
              "type": "string"
            }
          },
          "metadata": {},
          "execution_count": 20
        }
      ]
    },
    {
      "cell_type": "code",
      "source": [
        "df.head(5)"
      ],
      "metadata": {
        "colab": {
          "base_uri": "https://localhost:8080/",
          "height": 0
        },
        "id": "fC5i592SeCSA",
        "outputId": "09f38f87-20e3-42d7-dc6b-c1e2370d00e5"
      },
      "execution_count": 22,
      "outputs": [
        {
          "output_type": "execute_result",
          "data": {
            "text/plain": [
              "     id                                    Текст Сообщения  Категория  \\\n",
              "0  2246  Помогите начальник Льговского рэс не реагирует...          3   \n",
              "1   380  <p>По фасаду дома по адресу ул. Урицкого 22 пр...          3   \n",
              "2  2240  Агресивные собаки. На радуге там стая из подро...          1   \n",
              "3   596  <p>На пересечении &nbsp;улиц Сосновская и Бере...          3   \n",
              "4  1797  <p style=`text-align:justify;`><span style=`ba...          3   \n",
              "\n",
              "                                   Текст Сообщения_2  \\\n",
              "0  помогите начальник льговского рэс не реагирует...   \n",
              "1   p по фасаду дома по адресу ул урицкого проход...   \n",
              "2  агресивные собаки на радуге там стая из подрос...   \n",
              "3   p на пересечении nbsp улиц сосновская и берег...   \n",
              "4   p style text align justify span style backgro...   \n",
              "\n",
              "                                        text_stemmed  \\\n",
              "0  помог начальник льговск рэс реагир жалоб мал в...   \n",
              "1  p фасад дом адрес ул урицк проход труб газов м...   \n",
              "2  агресивн собак радуг ста подросш щенк звросл с...   \n",
              "3  p пересечен nbsp улиц сосновск берегов nbsp за...   \n",
              "4  p style text align justify span style backgrou...   \n",
              "\n",
              "                                         text_lemmed  \n",
              "0  помочь начальник льговский рэс реагировать жал...  \n",
              "1  p фасад дом адрес ул урицкий проходить труба г...  \n",
              "2  агресивный собака радуга стая подрасти щенок з...  \n",
              "3  p пересечение nbsp улица сосновский береговой ...  \n",
              "4  p style text align justify span style backgrou...  "
            ],
            "text/html": [
              "\n",
              "  <div id=\"df-f3d36b7f-bb84-4896-9837-1190950788ab\">\n",
              "    <div class=\"colab-df-container\">\n",
              "      <div>\n",
              "<style scoped>\n",
              "    .dataframe tbody tr th:only-of-type {\n",
              "        vertical-align: middle;\n",
              "    }\n",
              "\n",
              "    .dataframe tbody tr th {\n",
              "        vertical-align: top;\n",
              "    }\n",
              "\n",
              "    .dataframe thead th {\n",
              "        text-align: right;\n",
              "    }\n",
              "</style>\n",
              "<table border=\"1\" class=\"dataframe\">\n",
              "  <thead>\n",
              "    <tr style=\"text-align: right;\">\n",
              "      <th></th>\n",
              "      <th>id</th>\n",
              "      <th>Текст Сообщения</th>\n",
              "      <th>Категория</th>\n",
              "      <th>Текст Сообщения_2</th>\n",
              "      <th>text_stemmed</th>\n",
              "      <th>text_lemmed</th>\n",
              "    </tr>\n",
              "  </thead>\n",
              "  <tbody>\n",
              "    <tr>\n",
              "      <th>0</th>\n",
              "      <td>2246</td>\n",
              "      <td>Помогите начальник Льговского рэс не реагирует...</td>\n",
              "      <td>3</td>\n",
              "      <td>помогите начальник льговского рэс не реагирует...</td>\n",
              "      <td>помог начальник льговск рэс реагир жалоб мал в...</td>\n",
              "      <td>помочь начальник льговский рэс реагировать жал...</td>\n",
              "    </tr>\n",
              "    <tr>\n",
              "      <th>1</th>\n",
              "      <td>380</td>\n",
              "      <td>&lt;p&gt;По фасаду дома по адресу ул. Урицкого 22 пр...</td>\n",
              "      <td>3</td>\n",
              "      <td>p по фасаду дома по адресу ул урицкого проход...</td>\n",
              "      <td>p фасад дом адрес ул урицк проход труб газов м...</td>\n",
              "      <td>p фасад дом адрес ул урицкий проходить труба г...</td>\n",
              "    </tr>\n",
              "    <tr>\n",
              "      <th>2</th>\n",
              "      <td>2240</td>\n",
              "      <td>Агресивные собаки. На радуге там стая из подро...</td>\n",
              "      <td>1</td>\n",
              "      <td>агресивные собаки на радуге там стая из подрос...</td>\n",
              "      <td>агресивн собак радуг ста подросш щенк звросл с...</td>\n",
              "      <td>агресивный собака радуга стая подрасти щенок з...</td>\n",
              "    </tr>\n",
              "    <tr>\n",
              "      <th>3</th>\n",
              "      <td>596</td>\n",
              "      <td>&lt;p&gt;На пересечении &amp;nbsp;улиц Сосновская и Бере...</td>\n",
              "      <td>3</td>\n",
              "      <td>p на пересечении nbsp улиц сосновская и берег...</td>\n",
              "      <td>p пересечен nbsp улиц сосновск берегов nbsp за...</td>\n",
              "      <td>p пересечение nbsp улица сосновский береговой ...</td>\n",
              "    </tr>\n",
              "    <tr>\n",
              "      <th>4</th>\n",
              "      <td>1797</td>\n",
              "      <td>&lt;p style=`text-align:justify;`&gt;&lt;span style=`ba...</td>\n",
              "      <td>3</td>\n",
              "      <td>p style text align justify span style backgro...</td>\n",
              "      <td>p style text align justify span style backgrou...</td>\n",
              "      <td>p style text align justify span style backgrou...</td>\n",
              "    </tr>\n",
              "  </tbody>\n",
              "</table>\n",
              "</div>\n",
              "      <button class=\"colab-df-convert\" onclick=\"convertToInteractive('df-f3d36b7f-bb84-4896-9837-1190950788ab')\"\n",
              "              title=\"Convert this dataframe to an interactive table.\"\n",
              "              style=\"display:none;\">\n",
              "        \n",
              "  <svg xmlns=\"http://www.w3.org/2000/svg\" height=\"24px\"viewBox=\"0 0 24 24\"\n",
              "       width=\"24px\">\n",
              "    <path d=\"M0 0h24v24H0V0z\" fill=\"none\"/>\n",
              "    <path d=\"M18.56 5.44l.94 2.06.94-2.06 2.06-.94-2.06-.94-.94-2.06-.94 2.06-2.06.94zm-11 1L8.5 8.5l.94-2.06 2.06-.94-2.06-.94L8.5 2.5l-.94 2.06-2.06.94zm10 10l.94 2.06.94-2.06 2.06-.94-2.06-.94-.94-2.06-.94 2.06-2.06.94z\"/><path d=\"M17.41 7.96l-1.37-1.37c-.4-.4-.92-.59-1.43-.59-.52 0-1.04.2-1.43.59L10.3 9.45l-7.72 7.72c-.78.78-.78 2.05 0 2.83L4 21.41c.39.39.9.59 1.41.59.51 0 1.02-.2 1.41-.59l7.78-7.78 2.81-2.81c.8-.78.8-2.07 0-2.86zM5.41 20L4 18.59l7.72-7.72 1.47 1.35L5.41 20z\"/>\n",
              "  </svg>\n",
              "      </button>\n",
              "      \n",
              "  <style>\n",
              "    .colab-df-container {\n",
              "      display:flex;\n",
              "      flex-wrap:wrap;\n",
              "      gap: 12px;\n",
              "    }\n",
              "\n",
              "    .colab-df-convert {\n",
              "      background-color: #E8F0FE;\n",
              "      border: none;\n",
              "      border-radius: 50%;\n",
              "      cursor: pointer;\n",
              "      display: none;\n",
              "      fill: #1967D2;\n",
              "      height: 32px;\n",
              "      padding: 0 0 0 0;\n",
              "      width: 32px;\n",
              "    }\n",
              "\n",
              "    .colab-df-convert:hover {\n",
              "      background-color: #E2EBFA;\n",
              "      box-shadow: 0px 1px 2px rgba(60, 64, 67, 0.3), 0px 1px 3px 1px rgba(60, 64, 67, 0.15);\n",
              "      fill: #174EA6;\n",
              "    }\n",
              "\n",
              "    [theme=dark] .colab-df-convert {\n",
              "      background-color: #3B4455;\n",
              "      fill: #D2E3FC;\n",
              "    }\n",
              "\n",
              "    [theme=dark] .colab-df-convert:hover {\n",
              "      background-color: #434B5C;\n",
              "      box-shadow: 0px 1px 3px 1px rgba(0, 0, 0, 0.15);\n",
              "      filter: drop-shadow(0px 1px 2px rgba(0, 0, 0, 0.3));\n",
              "      fill: #FFFFFF;\n",
              "    }\n",
              "  </style>\n",
              "\n",
              "      <script>\n",
              "        const buttonEl =\n",
              "          document.querySelector('#df-f3d36b7f-bb84-4896-9837-1190950788ab button.colab-df-convert');\n",
              "        buttonEl.style.display =\n",
              "          google.colab.kernel.accessAllowed ? 'block' : 'none';\n",
              "\n",
              "        async function convertToInteractive(key) {\n",
              "          const element = document.querySelector('#df-f3d36b7f-bb84-4896-9837-1190950788ab');\n",
              "          const dataTable =\n",
              "            await google.colab.kernel.invokeFunction('convertToInteractive',\n",
              "                                                     [key], {});\n",
              "          if (!dataTable) return;\n",
              "\n",
              "          const docLinkHtml = 'Like what you see? Visit the ' +\n",
              "            '<a target=\"_blank\" href=https://colab.research.google.com/notebooks/data_table.ipynb>data table notebook</a>'\n",
              "            + ' to learn more about interactive tables.';\n",
              "          element.innerHTML = '';\n",
              "          dataTable['output_type'] = 'display_data';\n",
              "          await google.colab.output.renderOutput(dataTable, element);\n",
              "          const docLink = document.createElement('div');\n",
              "          docLink.innerHTML = docLinkHtml;\n",
              "          element.appendChild(docLink);\n",
              "        }\n",
              "      </script>\n",
              "    </div>\n",
              "  </div>\n",
              "  "
            ]
          },
          "metadata": {},
          "execution_count": 22
        }
      ]
    },
    {
      "cell_type": "markdown",
      "source": [
        "# **Нормализуем данные и обучаем НС_1**\n",
        "**Для колонки \"Текст обращения_2**"
      ],
      "metadata": {
        "id": "QWrDylcYgFk2"
      }
    },
    {
      "cell_type": "code",
      "source": [
        "texts = df['Текст Сообщения_2'].values #Извлекаем данные всех текстов из столбца text\n",
        "classes = list(df['Категория'].values) #Извлекаем соответствующие им значения классов (лейблов) столбца text\n",
        "maxWordsCount = 20000 #Зададим максимальное количество слов/индексов, учитываемое при обучении текстов\n",
        "\n",
        "print(df['Категория'].unique()) #Выводим все уникальные значения классов\n",
        "nClasses = df['Категория'].nunique()#+1  #Задаём количество классов, обращаясь к столбцу category и оставляя уникальные значения\n",
        "print(nClasses) #Посмотрим на количество классов"
      ],
      "metadata": {
        "colab": {
          "base_uri": "https://localhost:8080/"
        },
        "id": "HAqotWJ0gK84",
        "outputId": "08b6d3a5-a8e8-4157-d4a3-9bd887d717fa"
      },
      "execution_count": 55,
      "outputs": [
        {
          "output_type": "stream",
          "name": "stdout",
          "text": [
            "[ 3  1 16  0  6  8  4 13 10 11 14  7  5 15  2  9 12]\n",
            "17\n"
          ]
        }
      ]
    },
    {
      "cell_type": "code",
      "source": [
        "tokenizer = Tokenizer(num_words=maxWordsCount, filters='!\"#$%&()*+,-./:;<=>?@[\\\\]^_`{|}~\\t\\n', lower=True, split=' ', oov_token='unknown', char_level=False)\n",
        "tokenizer.fit_on_texts(texts) #\"Скармливаем\" наши тексты, т.е. даём в обработку методу, который соберет словарь частотности\n",
        "#Формируем матрицу индексов по принципу Bag of Words\n",
        "xAll = tokenizer.texts_to_matrix(texts) #Каждое слово из текста нашло свой индекс в векторе длиной maxWordsCount и отметилось в нем единичкой \n",
        "print(xAll.shape)  #Посмотрим на форму текстов\n",
        "print(xAll[0, :20])#И отдельно на фрагмент начала вектора\n",
        "print(\"Размер словаря\", len(tokenizer.word_index.items()))"
      ],
      "metadata": {
        "colab": {
          "base_uri": "https://localhost:8080/"
        },
        "id": "88d7LjwwgTCF",
        "outputId": "f7862f70-1f45-4703-c0bd-75c31ff57b70"
      },
      "execution_count": 56,
      "outputs": [
        {
          "output_type": "stream",
          "name": "stdout",
          "text": [
            "(2000, 20000)\n",
            "[0. 0. 0. 1. 1. 1. 1. 0. 0. 0. 0. 1. 0. 0. 0. 0. 0. 0. 0. 1.]\n",
            "Размер словаря 17778\n"
          ]
        }
      ]
    },
    {
      "cell_type": "code",
      "source": [
        "#Преобразовываем категории в векторы\n",
        "encoder = LabelEncoder() # Вызываем метод кодирования тестовых лейблов из библиотеки sklearn\n",
        "encoder.fit(classes) # Подгружаем в него категории из нашей базы\n",
        "classesEncoded = encoder.transform(classes) # Кодируем категории\n",
        "print(encoder.classes_)\n",
        "print(classesEncoded.shape)\n",
        "print(classesEncoded[:17])"
      ],
      "metadata": {
        "colab": {
          "base_uri": "https://localhost:8080/"
        },
        "id": "BeFlfrC7gYK-",
        "outputId": "7cc33f5e-80cb-47b3-aa26-3c870e3f84e4"
      },
      "execution_count": 25,
      "outputs": [
        {
          "output_type": "stream",
          "name": "stdout",
          "text": [
            "[ 0  1  2  3  4  5  6  7  8  9 10 11 12 13 14 15 16]\n",
            "(2000,)\n",
            "[ 3  3  1  3  3  3  3 16  3  0  0  3  3  3  0  3  3]\n"
          ]
        }
      ]
    },
    {
      "cell_type": "code",
      "source": [
        "yAll = utils.to_categorical(classesEncoded, nClasses) # И выводим каждый лейбл в виде вектора длиной 17, с 1кой в позиции соответствующего класса и нулями\n",
        "print(yAll.shape) # Посмотрим на форму лейблов категорий\n",
        "print(yAll[0]) # И отдельно на первую строку"
      ],
      "metadata": {
        "colab": {
          "base_uri": "https://localhost:8080/"
        },
        "id": "YSAAnJy0gbkb",
        "outputId": "38ee04aa-a2d8-4a14-ca02-190ce50fdd97"
      },
      "execution_count": 26,
      "outputs": [
        {
          "output_type": "stream",
          "name": "stdout",
          "text": [
            "(2000, 17)\n",
            "[0. 0. 0. 1. 0. 0. 0. 0. 0. 0. 0. 0. 0. 0. 0. 0. 0.]\n"
          ]
        }
      ]
    },
    {
      "cell_type": "code",
      "source": [
        "# разбиваем все данные на обучающую и тестовую выборки с помощью метода train_test_split из библиотеки sklearn\n",
        "xTrain, xVal, yTrain, yVal = train_test_split(xAll, yAll, test_size=0.2, shuffle = True)\n",
        "print(xTrain.shape) #посмотрим на форму текстов из обучающей выборки\n",
        "print(yTrain.shape) #и на форму соответсвующих им классов"
      ],
      "metadata": {
        "colab": {
          "base_uri": "https://localhost:8080/"
        },
        "id": "DROkVKcGgeY3",
        "outputId": "94bae958-4e1e-4c3f-b78c-27c9bb317073"
      },
      "execution_count": 27,
      "outputs": [
        {
          "output_type": "stream",
          "name": "stdout",
          "text": [
            "(1600, 20000)\n",
            "(1600, 17)\n"
          ]
        }
      ]
    },
    {
      "cell_type": "code",
      "source": [
        "# Сохраняем сеть на каждой эпохе\n",
        "# {epoch:02d} - номер эпохи\n",
        "# {val_acc:.4f} - значение аккуратности на проверочном ноборе данных\n",
        "callbacks = [ModelCheckpoint('save_models/Текст_сообщения_2-{epoch:02d}-{val_loss:.4f}.hdf5')]\n",
        "# Сохраняем только лучший вариант сети\n",
        "#callbacks = [ModelCheckpoint('save/Kursk-text.hdf5', monitor='val_loss', save_best_only=True)]"
      ],
      "metadata": {
        "id": "SzFwQbZwgkGk"
      },
      "execution_count": 28,
      "outputs": []
    },
    {
      "cell_type": "code",
      "source": [
        "#Создаём полносвязную сеть\n",
        "model = Sequential()\n",
        "#Входной полносвязный слой\n",
        "model.add(Dense(100, input_dim=maxWordsCount, activation=\"relu\"))\n",
        "#Слой регуляризации Dropout\n",
        "model.add(Dropout(0.3)) \n",
        "#Второй полносвязный слой\n",
        "model.add(Dense(100, activation='relu'))\n",
        "#Слой регуляризации Dropout\n",
        "model.add(Dropout(0.3))\n",
        "#Третий полносвязный слой\n",
        "model.add(Dense(100, activation='relu'))\n",
        "#Слой регуляризации Dropout\n",
        "model.add(Dropout(0.3))\n",
        "#Выходной полносвязный слой\n",
        "model.add(Dense(nClasses, activation='softmax'))\n",
        "time_start = [time.time()]\n",
        "\n",
        "model.compile(optimizer='adam', \n",
        "              loss='categorical_crossentropy', \n",
        "              metrics=['accuracy'])\n",
        "\n",
        "#Обучаем сеть на выборке\n",
        "history = model.fit(xTrain, \n",
        "                    yTrain, \n",
        "                    epochs=30,\n",
        "                    batch_size=64,\n",
        "                    validation_data=(xVal, yVal),\n",
        "                    verbose=2) # ,\n",
        "                    #callbacks=callbacks01\n",
        "\n",
        "plt.plot(history.history['accuracy'], \n",
        "         label='Доля верных ответов на обучающем наборе')\n",
        "plt.plot(history.history['val_accuracy'], \n",
        "         label='Доля верных ответов на проверочном наборе')\n",
        "plt.xlabel('Эпоха обучения')\n",
        "plt.ylabel('Доля верных ответов')\n",
        "plt.legend()\n",
        "plt.show()"
      ],
      "metadata": {
        "colab": {
          "base_uri": "https://localhost:8080/",
          "height": 0
        },
        "id": "YS0lWlFXgzVp",
        "outputId": "a130e52c-aeb2-4525-9a0c-936b3b3ea238"
      },
      "execution_count": 29,
      "outputs": [
        {
          "output_type": "stream",
          "name": "stdout",
          "text": [
            "Epoch 1/30\n",
            "25/25 - 2s - loss: 2.4448 - accuracy: 0.4225 - val_loss: 1.8388 - val_accuracy: 0.4850 - 2s/epoch - 71ms/step\n",
            "Epoch 2/30\n",
            "25/25 - 1s - loss: 1.6315 - accuracy: 0.4762 - val_loss: 1.3542 - val_accuracy: 0.5350 - 621ms/epoch - 25ms/step\n",
            "Epoch 3/30\n",
            "25/25 - 1s - loss: 1.1214 - accuracy: 0.6169 - val_loss: 1.0976 - val_accuracy: 0.6725 - 639ms/epoch - 26ms/step\n",
            "Epoch 4/30\n",
            "25/25 - 1s - loss: 0.7426 - accuracy: 0.7656 - val_loss: 0.9538 - val_accuracy: 0.7250 - 650ms/epoch - 26ms/step\n",
            "Epoch 5/30\n",
            "25/25 - 1s - loss: 0.4942 - accuracy: 0.8556 - val_loss: 0.9419 - val_accuracy: 0.7500 - 612ms/epoch - 24ms/step\n",
            "Epoch 6/30\n",
            "25/25 - 1s - loss: 0.3510 - accuracy: 0.9019 - val_loss: 0.9262 - val_accuracy: 0.7975 - 620ms/epoch - 25ms/step\n",
            "Epoch 7/30\n",
            "25/25 - 1s - loss: 0.2608 - accuracy: 0.9287 - val_loss: 0.9415 - val_accuracy: 0.7975 - 614ms/epoch - 25ms/step\n",
            "Epoch 8/30\n",
            "25/25 - 1s - loss: 0.2171 - accuracy: 0.9394 - val_loss: 1.0197 - val_accuracy: 0.8025 - 619ms/epoch - 25ms/step\n",
            "Epoch 9/30\n",
            "25/25 - 1s - loss: 0.1825 - accuracy: 0.9513 - val_loss: 1.0345 - val_accuracy: 0.8100 - 615ms/epoch - 25ms/step\n",
            "Epoch 10/30\n",
            "25/25 - 1s - loss: 0.1541 - accuracy: 0.9519 - val_loss: 1.0452 - val_accuracy: 0.8225 - 598ms/epoch - 24ms/step\n",
            "Epoch 11/30\n",
            "25/25 - 1s - loss: 0.1322 - accuracy: 0.9644 - val_loss: 1.0967 - val_accuracy: 0.8075 - 622ms/epoch - 25ms/step\n",
            "Epoch 12/30\n",
            "25/25 - 1s - loss: 0.1167 - accuracy: 0.9656 - val_loss: 1.1192 - val_accuracy: 0.7950 - 604ms/epoch - 24ms/step\n",
            "Epoch 13/30\n",
            "25/25 - 1s - loss: 0.1022 - accuracy: 0.9700 - val_loss: 1.1181 - val_accuracy: 0.8225 - 612ms/epoch - 24ms/step\n",
            "Epoch 14/30\n",
            "25/25 - 1s - loss: 0.1045 - accuracy: 0.9694 - val_loss: 1.2038 - val_accuracy: 0.8125 - 623ms/epoch - 25ms/step\n",
            "Epoch 15/30\n",
            "25/25 - 1s - loss: 0.0896 - accuracy: 0.9762 - val_loss: 1.1685 - val_accuracy: 0.8075 - 614ms/epoch - 25ms/step\n",
            "Epoch 16/30\n",
            "25/25 - 1s - loss: 0.0733 - accuracy: 0.9775 - val_loss: 1.2313 - val_accuracy: 0.8050 - 622ms/epoch - 25ms/step\n",
            "Epoch 17/30\n",
            "25/25 - 1s - loss: 0.0746 - accuracy: 0.9819 - val_loss: 1.2285 - val_accuracy: 0.8100 - 605ms/epoch - 24ms/step\n",
            "Epoch 18/30\n",
            "25/25 - 1s - loss: 0.0660 - accuracy: 0.9831 - val_loss: 1.3132 - val_accuracy: 0.8125 - 645ms/epoch - 26ms/step\n",
            "Epoch 19/30\n",
            "25/25 - 1s - loss: 0.0630 - accuracy: 0.9819 - val_loss: 1.2613 - val_accuracy: 0.8125 - 629ms/epoch - 25ms/step\n",
            "Epoch 20/30\n",
            "25/25 - 1s - loss: 0.0610 - accuracy: 0.9812 - val_loss: 1.3660 - val_accuracy: 0.8075 - 617ms/epoch - 25ms/step\n",
            "Epoch 21/30\n",
            "25/25 - 1s - loss: 0.0521 - accuracy: 0.9837 - val_loss: 1.4391 - val_accuracy: 0.8000 - 626ms/epoch - 25ms/step\n",
            "Epoch 22/30\n",
            "25/25 - 1s - loss: 0.0410 - accuracy: 0.9894 - val_loss: 1.3589 - val_accuracy: 0.8025 - 620ms/epoch - 25ms/step\n",
            "Epoch 23/30\n",
            "25/25 - 1s - loss: 0.0413 - accuracy: 0.9906 - val_loss: 1.4133 - val_accuracy: 0.8000 - 607ms/epoch - 24ms/step\n",
            "Epoch 24/30\n",
            "25/25 - 1s - loss: 0.0436 - accuracy: 0.9875 - val_loss: 1.4553 - val_accuracy: 0.8075 - 614ms/epoch - 25ms/step\n",
            "Epoch 25/30\n",
            "25/25 - 1s - loss: 0.0362 - accuracy: 0.9894 - val_loss: 1.3793 - val_accuracy: 0.7925 - 611ms/epoch - 24ms/step\n",
            "Epoch 26/30\n",
            "25/25 - 1s - loss: 0.0470 - accuracy: 0.9887 - val_loss: 1.5116 - val_accuracy: 0.7975 - 612ms/epoch - 24ms/step\n",
            "Epoch 27/30\n",
            "25/25 - 1s - loss: 0.0345 - accuracy: 0.9906 - val_loss: 1.3331 - val_accuracy: 0.8025 - 630ms/epoch - 25ms/step\n",
            "Epoch 28/30\n",
            "25/25 - 1s - loss: 0.0368 - accuracy: 0.9875 - val_loss: 1.4175 - val_accuracy: 0.7975 - 626ms/epoch - 25ms/step\n",
            "Epoch 29/30\n",
            "25/25 - 1s - loss: 0.0322 - accuracy: 0.9925 - val_loss: 1.3629 - val_accuracy: 0.7950 - 623ms/epoch - 25ms/step\n",
            "Epoch 30/30\n",
            "25/25 - 1s - loss: 0.0213 - accuracy: 0.9956 - val_loss: 1.4157 - val_accuracy: 0.8025 - 607ms/epoch - 24ms/step\n"
          ]
        },
        {
          "output_type": "display_data",
          "data": {
            "text/plain": [
              "<Figure size 432x288 with 1 Axes>"
            ],
            "image/png": "[encoded data removed]"
          },
          "metadata": {
            "needs_background": "light"
          }
        }
      ]
    },
    {
      "cell_type": "code",
      "source": [
        "model.save('/content/drive/MyDrive/Предобученные сети/Курск/Предобработка текста/Текст_сообщения_2-Vc0.8025.hdf5')"
      ],
      "metadata": {
        "id": "uJoue-ZbhBD-"
      },
      "execution_count": 30,
      "outputs": []
    },
    {
      "cell_type": "markdown",
      "source": [
        "# **Нормальзуем данные и обучаем НС_2**\n",
        "**Для колонки 'text_stemmed'**\n"
      ],
      "metadata": {
        "id": "Bn7e71iGh1O5"
      }
    },
    {
      "cell_type": "code",
      "source": [
        "texts_st = df['text_stemmed'].values #Извлекаем данные всех текстов из столбца text\n",
        "classes_st = list(df['Категория'].values) #Извлекаем соответствующие им значения классов (лейблов) столбца text\n",
        "maxWordsCount_st = 9000 #Зададим максимальное количество слов/индексов, учитываемое при обучении текстов\n",
        "\n",
        "print(df['Категория'].unique()) #Выводим все уникальные значения классов\n",
        "nClasses_st = df['Категория'].nunique()#+1  #Задаём количество классов, обращаясь к столбцу category и оставляя уникальные значения\n",
        "print(nClasses_st) #Посмотрим на количество классов"
      ],
      "metadata": {
        "colab": {
          "base_uri": "https://localhost:8080/"
        },
        "id": "Tmfh8L66iGpT",
        "outputId": "e668451a-0f4f-41ce-a7bd-aff43a57bfc1"
      },
      "execution_count": 85,
      "outputs": [
        {
          "output_type": "stream",
          "name": "stdout",
          "text": [
            "[ 3  1 16  0  6  8  4 13 10 11 14  7  5 15  2  9 12]\n",
            "17\n"
          ]
        }
      ]
    },
    {
      "cell_type": "code",
      "source": [
        "tokenizer_st = Tokenizer(num_words=maxWordsCount_st, filters='!\"#$%&()*+,-./:;<=>?@[\\\\]^_`{|}~\\t\\n', lower=True, split=' ', oov_token='unknown', char_level=False)\n",
        "tokenizer_st.fit_on_texts(texts_st) #\"Скармливаем\" наши тексты, т.е. даём в обработку методу, который соберет словарь частотности\n",
        "#Формируем матрицу индексов по принципу Bag of Words\n",
        "xAll_st = tokenizer_st.texts_to_matrix(texts_st) #Каждое слово из текста нашло свой индекс в векторе длиной maxWordsCount и отметилось в нем единичкой \n",
        "print(xAll_st.shape)  #Посмотрим на форму текстов\n",
        "print(xAll_st[0, :20])#И отдельно на фрагмент начала вектора\n",
        "print(\"Размер словаря\", len(tokenizer_st.word_index.items()))"
      ],
      "metadata": {
        "colab": {
          "base_uri": "https://localhost:8080/"
        },
        "id": "90_xOGXViPdA",
        "outputId": "45921159-3356-4987-c510-f8e5d1d33909"
      },
      "execution_count": 80,
      "outputs": [
        {
          "output_type": "stream",
          "name": "stdout",
          "text": [
            "(2000, 9000)\n",
            "[0. 0. 0. 0. 0. 0. 0. 0. 0. 0. 1. 0. 0. 0. 0. 0. 0. 0. 0. 0.]\n",
            "Размер словаря 8505\n"
          ]
        }
      ]
    },
    {
      "cell_type": "code",
      "source": [
        "#Преобразовываем категории в векторы\n",
        "encoder_st = LabelEncoder() # Вызываем метод кодирования тестовых лейблов из библиотеки sklearn\n",
        "encoder_st.fit(classes_st) # Подгружаем в него категории из нашей базы\n",
        "classesEncoded_st = encoder_st.transform(classes_st) # Кодируем категории\n",
        "print(encoder_st.classes_)\n",
        "print(classesEncoded_st.shape)\n",
        "print(classesEncoded_st[:17])"
      ],
      "metadata": {
        "colab": {
          "base_uri": "https://localhost:8080/"
        },
        "id": "xuEwaok_iUTp",
        "outputId": "684ebffb-057e-42c7-80af-309c0b21672d"
      },
      "execution_count": 83,
      "outputs": [
        {
          "output_type": "stream",
          "name": "stdout",
          "text": [
            "[ 0  1  2  3  4  5  6  7  8  9 10 11 12 13 14 15 16]\n",
            "(2000,)\n",
            "[ 3  3  1  3  3  3  3 16  3  0  0  3  3  3  0  3  3]\n"
          ]
        }
      ]
    },
    {
      "cell_type": "code",
      "source": [
        "yAll_st = utils.to_categorical(classesEncoded_st, nClasses_st) # И выводим каждый лейбл в виде вектора длиной 17, с 1кой в позиции соответствующего класса и нулями\n",
        "print(yAll_st.shape) # Посмотрим на форму лейблов категорий\n",
        "print(yAll_st[0]) # И отдельно на первую строку"
      ],
      "metadata": {
        "colab": {
          "base_uri": "https://localhost:8080/"
        },
        "id": "z4Xv5Y8YiY3v",
        "outputId": "69545f95-be12-47aa-a441-a17e4aba3d38"
      },
      "execution_count": 86,
      "outputs": [
        {
          "output_type": "stream",
          "name": "stdout",
          "text": [
            "(2000, 17)\n",
            "[0. 0. 0. 1. 0. 0. 0. 0. 0. 0. 0. 0. 0. 0. 0. 0. 0.]\n"
          ]
        }
      ]
    },
    {
      "cell_type": "code",
      "source": [
        "# разбиваем все данные на обучающую и тестовую выборки с помощью метода train_test_split из библиотеки sklearn\n",
        "xTrain_st, xVal_st, yTrain_st, yVal_st = train_test_split(xAll_st, yAll_st, test_size=0.2, shuffle = True)\n",
        "print(xTrain_st.shape) #посмотрим на форму текстов из обучающей выборки\n",
        "print(yTrain_st.shape) #и на форму соответсвующих им классов"
      ],
      "metadata": {
        "colab": {
          "base_uri": "https://localhost:8080/"
        },
        "id": "32sUjGknifjH",
        "outputId": "48398eac-5034-4579-a11f-ed7c95954cc7"
      },
      "execution_count": 87,
      "outputs": [
        {
          "output_type": "stream",
          "name": "stdout",
          "text": [
            "(1600, 9000)\n",
            "(1600, 17)\n"
          ]
        }
      ]
    },
    {
      "cell_type": "code",
      "source": [
        "# Сохраняем сеть на каждой эпохе\n",
        "# {epoch:02d} - номер эпохи\n",
        "# {val_acc:.4f} - значение аккуратности на проверочном ноборе данных\n",
        "callbacks_st = [ModelCheckpoint('save_models_st/text_stemmed-{epoch:02d}-{val_loss:.4f}.hdf5')]\n",
        "# Сохраняем только лучший вариант сети\n",
        "#callbacks = [ModelCheckpoint('save/Kursk-text.hdf5', monitor='val_loss', save_best_only=True)]"
      ],
      "metadata": {
        "id": "bkj7ZAERijX4"
      },
      "execution_count": 89,
      "outputs": []
    },
    {
      "cell_type": "code",
      "source": [
        "#Создаём полносвязную сеть\n",
        "model_st = Sequential()\n",
        "#Входной полносвязный слой\n",
        "model_st.add(Dense(100, input_dim=maxWordsCount_st, activation=\"relu\"))\n",
        "#Слой регуляризации Dropout\n",
        "model_st.add(Dropout(0.3)) \n",
        "#Второй полносвязный слой\n",
        "model_st.add(Dense(100, activation='relu'))\n",
        "#Слой регуляризации Dropout\n",
        "model_st.add(Dropout(0.3))\n",
        "#Третий полносвязный слой\n",
        "model_st.add(Dense(100, activation='relu'))\n",
        "#Слой регуляризации Dropout\n",
        "model_st.add(Dropout(0.3))\n",
        "#Выходной полносвязный слой\n",
        "model_st.add(Dense(nClasses_st, activation='softmax'))\n",
        "time_start = [time.time()]\n",
        "\n",
        "model_st.compile(optimizer='adam', \n",
        "              loss='categorical_crossentropy', \n",
        "              metrics=['accuracy'])\n",
        "\n",
        "#Обучаем сеть на выборке\n",
        "history = model_st.fit(xTrain_st, \n",
        "                    yTrain_st, \n",
        "                    epochs=30,\n",
        "                    batch_size=64,\n",
        "                    validation_data=(xVal_st, yVal_st),\n",
        "                    verbose=2,\n",
        "                    callbacks=callbacks_st) # ,\n",
        "                    #callbacks=callbacks01\n",
        "\n",
        "plt.plot(history.history['accuracy'], \n",
        "         label='Доля верных ответов на обучающем наборе')\n",
        "plt.plot(history.history['val_accuracy'], \n",
        "         label='Доля верных ответов на проверочном наборе')\n",
        "plt.xlabel('Эпоха обучения')\n",
        "plt.ylabel('Доля верных ответов')\n",
        "plt.legend()\n",
        "plt.show()"
      ],
      "metadata": {
        "colab": {
          "base_uri": "https://localhost:8080/",
          "height": 0
        },
        "id": "DmZ8dfpIisv-",
        "outputId": "c8bd654f-5045-463a-e6c3-d6eb9fe73ae5"
      },
      "execution_count": 94,
      "outputs": [
        {
          "output_type": "stream",
          "name": "stdout",
          "text": [
            "Epoch 1/30\n",
            "25/25 - 2s - loss: 2.4331 - accuracy: 0.3944 - val_loss: 1.7684 - val_accuracy: 0.4850 - 2s/epoch - 74ms/step\n",
            "Epoch 2/30\n",
            "25/25 - 1s - loss: 1.5922 - accuracy: 0.5069 - val_loss: 1.3648 - val_accuracy: 0.5550 - 772ms/epoch - 31ms/step\n",
            "Epoch 3/30\n",
            "25/25 - 1s - loss: 1.0891 - accuracy: 0.6300 - val_loss: 1.0955 - val_accuracy: 0.6650 - 1s/epoch - 43ms/step\n",
            "Epoch 4/30\n",
            "25/25 - 0s - loss: 0.7393 - accuracy: 0.7819 - val_loss: 1.0494 - val_accuracy: 0.7150 - 448ms/epoch - 18ms/step\n",
            "Epoch 5/30\n",
            "25/25 - 0s - loss: 0.5075 - accuracy: 0.8512 - val_loss: 0.9917 - val_accuracy: 0.7350 - 390ms/epoch - 16ms/step\n",
            "Epoch 6/30\n",
            "25/25 - 0s - loss: 0.3601 - accuracy: 0.9006 - val_loss: 1.0077 - val_accuracy: 0.7350 - 405ms/epoch - 16ms/step\n",
            "Epoch 7/30\n",
            "25/25 - 0s - loss: 0.2778 - accuracy: 0.9187 - val_loss: 1.0477 - val_accuracy: 0.7525 - 440ms/epoch - 18ms/step\n",
            "Epoch 8/30\n",
            "25/25 - 0s - loss: 0.2264 - accuracy: 0.9375 - val_loss: 1.0714 - val_accuracy: 0.7600 - 428ms/epoch - 17ms/step\n",
            "Epoch 9/30\n",
            "25/25 - 0s - loss: 0.1916 - accuracy: 0.9475 - val_loss: 1.1046 - val_accuracy: 0.7550 - 414ms/epoch - 17ms/step\n",
            "Epoch 10/30\n",
            "25/25 - 0s - loss: 0.1541 - accuracy: 0.9575 - val_loss: 1.1665 - val_accuracy: 0.7575 - 406ms/epoch - 16ms/step\n",
            "Epoch 11/30\n",
            "25/25 - 0s - loss: 0.1353 - accuracy: 0.9619 - val_loss: 1.2417 - val_accuracy: 0.7550 - 452ms/epoch - 18ms/step\n",
            "Epoch 12/30\n",
            "25/25 - 0s - loss: 0.1187 - accuracy: 0.9631 - val_loss: 1.2626 - val_accuracy: 0.7550 - 412ms/epoch - 16ms/step\n",
            "Epoch 13/30\n",
            "25/25 - 0s - loss: 0.1000 - accuracy: 0.9744 - val_loss: 1.3309 - val_accuracy: 0.7625 - 419ms/epoch - 17ms/step\n",
            "Epoch 14/30\n",
            "25/25 - 0s - loss: 0.0942 - accuracy: 0.9706 - val_loss: 1.4245 - val_accuracy: 0.7600 - 412ms/epoch - 16ms/step\n",
            "Epoch 15/30\n",
            "25/25 - 0s - loss: 0.0836 - accuracy: 0.9769 - val_loss: 1.3876 - val_accuracy: 0.7475 - 405ms/epoch - 16ms/step\n",
            "Epoch 16/30\n",
            "25/25 - 0s - loss: 0.0648 - accuracy: 0.9825 - val_loss: 1.4300 - val_accuracy: 0.7450 - 410ms/epoch - 16ms/step\n",
            "Epoch 17/30\n",
            "25/25 - 0s - loss: 0.0670 - accuracy: 0.9819 - val_loss: 1.4526 - val_accuracy: 0.7550 - 418ms/epoch - 17ms/step\n",
            "Epoch 18/30\n",
            "25/25 - 0s - loss: 0.0615 - accuracy: 0.9794 - val_loss: 1.5712 - val_accuracy: 0.7475 - 400ms/epoch - 16ms/step\n",
            "Epoch 19/30\n",
            "25/25 - 0s - loss: 0.0510 - accuracy: 0.9844 - val_loss: 1.5393 - val_accuracy: 0.7400 - 393ms/epoch - 16ms/step\n",
            "Epoch 20/30\n",
            "25/25 - 0s - loss: 0.0527 - accuracy: 0.9825 - val_loss: 1.5350 - val_accuracy: 0.7575 - 396ms/epoch - 16ms/step\n",
            "Epoch 21/30\n",
            "25/25 - 0s - loss: 0.0394 - accuracy: 0.9900 - val_loss: 1.5699 - val_accuracy: 0.7475 - 418ms/epoch - 17ms/step\n",
            "Epoch 22/30\n",
            "25/25 - 0s - loss: 0.0453 - accuracy: 0.9887 - val_loss: 1.6201 - val_accuracy: 0.7450 - 390ms/epoch - 16ms/step\n",
            "Epoch 23/30\n",
            "25/25 - 0s - loss: 0.0383 - accuracy: 0.9856 - val_loss: 1.5784 - val_accuracy: 0.7550 - 391ms/epoch - 16ms/step\n",
            "Epoch 24/30\n",
            "25/25 - 1s - loss: 0.0326 - accuracy: 0.9887 - val_loss: 1.6001 - val_accuracy: 0.7475 - 542ms/epoch - 22ms/step\n",
            "Epoch 25/30\n",
            "25/25 - 0s - loss: 0.0319 - accuracy: 0.9887 - val_loss: 1.7878 - val_accuracy: 0.7575 - 399ms/epoch - 16ms/step\n",
            "Epoch 26/30\n",
            "25/25 - 0s - loss: 0.0284 - accuracy: 0.9937 - val_loss: 1.7942 - val_accuracy: 0.7300 - 427ms/epoch - 17ms/step\n",
            "Epoch 27/30\n",
            "25/25 - 0s - loss: 0.0337 - accuracy: 0.9894 - val_loss: 1.7599 - val_accuracy: 0.7425 - 448ms/epoch - 18ms/step\n",
            "Epoch 28/30\n",
            "25/25 - 0s - loss: 0.0315 - accuracy: 0.9937 - val_loss: 1.7578 - val_accuracy: 0.7375 - 398ms/epoch - 16ms/step\n",
            "Epoch 29/30\n",
            "25/25 - 0s - loss: 0.0243 - accuracy: 0.9937 - val_loss: 1.7886 - val_accuracy: 0.7450 - 400ms/epoch - 16ms/step\n",
            "Epoch 30/30\n",
            "25/25 - 0s - loss: 0.0308 - accuracy: 0.9912 - val_loss: 1.8035 - val_accuracy: 0.7375 - 377ms/epoch - 15ms/step\n"
          ]
        },
        {
          "output_type": "display_data",
          "data": {
            "text/plain": [
              "<Figure size 432x288 with 1 Axes>"
            ],
            "image/png": "[encoded data removed]"
          },
          "metadata": {
            "needs_background": "light"
          }
        }
      ]
    },
    {
      "cell_type": "code",
      "source": [
        "model_st = load_model('/content/save_models_st/text_stemmed-08-1.0714.hdf5')\n",
        "model_st.save('/content/drive/MyDrive/Предобученные сети/Курск/Предобработка текста/text_stemmed-V_ac_0.7600.hdf5')"
      ],
      "metadata": {
        "id": "JHpVqsami_tM"
      },
      "execution_count": 95,
      "outputs": []
    },
    {
      "cell_type": "markdown",
      "source": [
        "# **Нормальзуем данные и обучаем НС_3**\n",
        "**Для колонки 'text_lemmed'**\n"
      ],
      "metadata": {
        "id": "mH2JKFogj-E_"
      }
    },
    {
      "cell_type": "code",
      "source": [
        "texts_le = df['text_lemmed'].values #Извлекаем данные всех текстов из столбца text\n",
        "classes_le = list(df['Категория'].values) #Извлекаем соответствующие им значения классов (лейблов) столбца text\n",
        "maxWordsCount_le = 9000 #Зададим максимальное количество слов/индексов, учитываемое при обучении текстов\n",
        "\n",
        "print(df['Категория'].unique()) #Выводим все уникальные значения классов\n",
        "nClasses_le = df['Категория'].nunique()#+1  #Задаём количество классов, обращаясь к столбцу category и оставляя уникальные значения\n",
        "print(nClasses_le) #Посмотрим на количество классов"
      ],
      "metadata": {
        "colab": {
          "base_uri": "https://localhost:8080/"
        },
        "id": "i9NUeOlVkFXf",
        "outputId": "2e59525f-7754-42dc-a9a8-dd2e2076d57a"
      },
      "execution_count": 98,
      "outputs": [
        {
          "output_type": "stream",
          "name": "stdout",
          "text": [
            "[ 3  1 16  0  6  8  4 13 10 11 14  7  5 15  2  9 12]\n",
            "17\n"
          ]
        }
      ]
    },
    {
      "cell_type": "code",
      "source": [
        "tokenizer_le = Tokenizer(num_words=maxWordsCount_le, filters='!\"#$%&()*+,-./:;<=>?@[\\\\]^_`{|}~\\t\\n', lower=True, split=' ', oov_token='unknown', char_level=False)\n",
        "tokenizer_le.fit_on_texts(texts_le) #\"Скармливаем\" наши тексты, т.е. даём в обработку методу, который соберет словарь частотности\n",
        "#Формируем матрицу индексов по принципу Bag of Words\n",
        "xAll_le = tokenizer_le.texts_to_matrix(texts_le) #Каждое слово из текста нашло свой индекс в векторе длиной maxWordsCount и отметилось в нем единичкой \n",
        "print(xAll_le.shape)  #Посмотрим на форму текстов\n",
        "print(xAll_le[0, :20])#И отдельно на фрагмент начала вектора\n",
        "print(\"Размер словаря\", len(tokenizer_le.word_index.items()))"
      ],
      "metadata": {
        "colab": {
          "base_uri": "https://localhost:8080/"
        },
        "id": "Sm1AAj1gkQdd",
        "outputId": "f61005e3-3aca-4568-8325-780dc418557f"
      },
      "execution_count": 99,
      "outputs": [
        {
          "output_type": "stream",
          "name": "stdout",
          "text": [
            "(2000, 9000)\n",
            "[0. 0. 0. 0. 0. 0. 0. 0. 0. 1. 0. 0. 0. 0. 0. 0. 0. 0. 0. 0.]\n",
            "Размер словаря 8674\n"
          ]
        }
      ]
    },
    {
      "cell_type": "code",
      "source": [
        "#Преобразовываем категории в векторы\n",
        "encoder_le = LabelEncoder() # Вызываем метод кодирования тестовых лейблов из библиотеки sklearn\n",
        "encoder_le.fit(classes_le) # Подгружаем в него категории из нашей базы\n",
        "classesEncoded_le = encoder_le.transform(classes_le) # Кодируем категории\n",
        "print(encoder_le.classes_)\n",
        "print(classesEncoded_le.shape)\n",
        "print(classesEncoded_le[:17])"
      ],
      "metadata": {
        "colab": {
          "base_uri": "https://localhost:8080/"
        },
        "id": "I_yi6QlRkU27",
        "outputId": "cd35c253-1b92-408e-8e5d-7f50a58e16c9"
      },
      "execution_count": 100,
      "outputs": [
        {
          "output_type": "stream",
          "name": "stdout",
          "text": [
            "[ 0  1  2  3  4  5  6  7  8  9 10 11 12 13 14 15 16]\n",
            "(2000,)\n",
            "[ 3  3  1  3  3  3  3 16  3  0  0  3  3  3  0  3  3]\n"
          ]
        }
      ]
    },
    {
      "cell_type": "code",
      "source": [
        "yAll_le = utils.to_categorical(classesEncoded_le, nClasses_le) # И выводим каждый лейбл в виде вектора длиной 17, с 1кой в позиции соответствующего класса и нулями\n",
        "print(yAll_le.shape) # Посмотрим на форму лейблов категорий\n",
        "print(yAll_le[0]) # И отдельно на первую строку"
      ],
      "metadata": {
        "colab": {
          "base_uri": "https://localhost:8080/"
        },
        "id": "GsglBwGXkYsx",
        "outputId": "07f73879-1f12-410a-f63d-8f2d593d6f32"
      },
      "execution_count": 101,
      "outputs": [
        {
          "output_type": "stream",
          "name": "stdout",
          "text": [
            "(2000, 17)\n",
            "[0. 0. 0. 1. 0. 0. 0. 0. 0. 0. 0. 0. 0. 0. 0. 0. 0.]\n"
          ]
        }
      ]
    },
    {
      "cell_type": "code",
      "source": [
        "# разбиваем все данные на обучающую и тестовую выборки с помощью метода train_test_split из библиотеки sklearn\n",
        "xTrain_le, xVal_le, yTrain_le, yVal_le = train_test_split(xAll_le, yAll_le, test_size=0.2, shuffle = True)\n",
        "print(xTrain_le.shape) #посмотрим на форму текстов из обучающей выборки\n",
        "print(yTrain_le.shape) #и на форму соответсвующих им классов"
      ],
      "metadata": {
        "colab": {
          "base_uri": "https://localhost:8080/"
        },
        "id": "vlAxSdo3kiEK",
        "outputId": "f75eaf5a-7d7c-481b-c640-0fffb0e024d4"
      },
      "execution_count": 102,
      "outputs": [
        {
          "output_type": "stream",
          "name": "stdout",
          "text": [
            "(1600, 9000)\n",
            "(1600, 17)\n"
          ]
        }
      ]
    },
    {
      "cell_type": "code",
      "source": [
        "# Сохраняем сеть на каждой эпохе\n",
        "# {epoch:02d} - номер эпохи\n",
        "# {val_acc:.4f} - значение аккуратности на проверочном ноборе данных\n",
        "callbacks_le = [ModelCheckpoint('save_models/text_lemmed-{epoch:02d}-{val_loss:.4f}.hdf5')]\n",
        "# Сохраняем только лучший вариант сети\n",
        "#callbacks = [ModelCheckpoint('save/Kursk-text.hdf5', monitor='val_loss', save_best_only=True)]"
      ],
      "metadata": {
        "id": "ICL-VCrRkln3"
      },
      "execution_count": 103,
      "outputs": []
    },
    {
      "cell_type": "code",
      "source": [
        "#Создаём полносвязную сеть\n",
        "model_le = Sequential()\n",
        "#Входной полносвязный слой\n",
        "model_le.add(Dense(100, input_dim=maxWordsCount_le, activation=\"relu\"))\n",
        "#Слой регуляризации Dropout\n",
        "model_le.add(Dropout(0.3)) \n",
        "#Второй полносвязный слой\n",
        "model_le.add(Dense(100, activation='relu'))\n",
        "#Слой регуляризации Dropout\n",
        "model_le.add(Dropout(0.3))\n",
        "#Третий полносвязный слой\n",
        "model_le.add(Dense(100, activation='relu'))\n",
        "#Слой регуляризации Dropout\n",
        "model_le.add(Dropout(0.3))\n",
        "#Выходной полносвязный слой\n",
        "model_le.add(Dense(nClasses_le, activation='softmax'))\n",
        "time_start = [time.time()]\n",
        "\n",
        "model_le.compile(optimizer='adam', \n",
        "              loss='categorical_crossentropy', \n",
        "              metrics=['accuracy'])\n",
        "\n",
        "#Обучаем сеть на выборке\n",
        "history = model_le.fit(xTrain_le, \n",
        "                    yTrain_le, \n",
        "                    epochs=30,\n",
        "                    batch_size=64,\n",
        "                    validation_data=(xVal_le, yVal_le),\n",
        "                    verbose=2,\n",
        "                     callbacks=callbacks_le) # ,\n",
        "                    #callbacks=callbacks01\n",
        "\n",
        "plt.plot(history.history['accuracy'], \n",
        "         label='Доля верных ответов на обучающем наборе')\n",
        "plt.plot(history.history['val_accuracy'], \n",
        "         label='Доля верных ответов на проверочном наборе')\n",
        "plt.xlabel('Эпоха обучения')\n",
        "plt.ylabel('Доля верных ответов')\n",
        "plt.legend()\n",
        "plt.show()"
      ],
      "metadata": {
        "colab": {
          "base_uri": "https://localhost:8080/",
          "height": 1000
        },
        "id": "YdxhcKCqkuy4",
        "outputId": "31b3258c-cfca-4437-918c-a4f49e242dd0"
      },
      "execution_count": 105,
      "outputs": [
        {
          "output_type": "stream",
          "name": "stdout",
          "text": [
            "Epoch 1/30\n",
            "25/25 - 2s - loss: 2.4596 - accuracy: 0.3875 - val_loss: 1.8458 - val_accuracy: 0.4825 - 2s/epoch - 89ms/step\n",
            "Epoch 2/30\n",
            "25/25 - 1s - loss: 1.6133 - accuracy: 0.4819 - val_loss: 1.3193 - val_accuracy: 0.5350 - 768ms/epoch - 31ms/step\n",
            "Epoch 3/30\n",
            "25/25 - 1s - loss: 1.0981 - accuracy: 0.6463 - val_loss: 1.0045 - val_accuracy: 0.7025 - 685ms/epoch - 27ms/step\n",
            "Epoch 4/30\n",
            "25/25 - 1s - loss: 0.7384 - accuracy: 0.7688 - val_loss: 0.9110 - val_accuracy: 0.7250 - 629ms/epoch - 25ms/step\n",
            "Epoch 5/30\n",
            "25/25 - 0s - loss: 0.4974 - accuracy: 0.8431 - val_loss: 0.8669 - val_accuracy: 0.7925 - 437ms/epoch - 17ms/step\n",
            "Epoch 6/30\n",
            "25/25 - 0s - loss: 0.3382 - accuracy: 0.9062 - val_loss: 0.9414 - val_accuracy: 0.7950 - 489ms/epoch - 20ms/step\n",
            "Epoch 7/30\n",
            "25/25 - 0s - loss: 0.2567 - accuracy: 0.9256 - val_loss: 0.9784 - val_accuracy: 0.7975 - 403ms/epoch - 16ms/step\n",
            "Epoch 8/30\n",
            "25/25 - 0s - loss: 0.2073 - accuracy: 0.9388 - val_loss: 1.0032 - val_accuracy: 0.7900 - 426ms/epoch - 17ms/step\n",
            "Epoch 9/30\n",
            "25/25 - 0s - loss: 0.1724 - accuracy: 0.9513 - val_loss: 1.1477 - val_accuracy: 0.7825 - 414ms/epoch - 17ms/step\n",
            "Epoch 10/30\n",
            "25/25 - 0s - loss: 0.1463 - accuracy: 0.9613 - val_loss: 1.1309 - val_accuracy: 0.7950 - 432ms/epoch - 17ms/step\n",
            "Epoch 11/30\n",
            "25/25 - 0s - loss: 0.1332 - accuracy: 0.9638 - val_loss: 1.1621 - val_accuracy: 0.7975 - 395ms/epoch - 16ms/step\n",
            "Epoch 12/30\n",
            "25/25 - 0s - loss: 0.1080 - accuracy: 0.9675 - val_loss: 1.2711 - val_accuracy: 0.8050 - 376ms/epoch - 15ms/step\n",
            "Epoch 13/30\n",
            "25/25 - 0s - loss: 0.1005 - accuracy: 0.9706 - val_loss: 1.3083 - val_accuracy: 0.8000 - 415ms/epoch - 17ms/step\n",
            "Epoch 14/30\n",
            "25/25 - 0s - loss: 0.0923 - accuracy: 0.9762 - val_loss: 1.4096 - val_accuracy: 0.7925 - 392ms/epoch - 16ms/step\n",
            "Epoch 15/30\n",
            "25/25 - 0s - loss: 0.0802 - accuracy: 0.9725 - val_loss: 1.4340 - val_accuracy: 0.8025 - 421ms/epoch - 17ms/step\n",
            "Epoch 16/30\n",
            "25/25 - 1s - loss: 0.0706 - accuracy: 0.9806 - val_loss: 1.5570 - val_accuracy: 0.7925 - 525ms/epoch - 21ms/step\n",
            "Epoch 17/30\n",
            "25/25 - 0s - loss: 0.0690 - accuracy: 0.9837 - val_loss: 1.5327 - val_accuracy: 0.7925 - 439ms/epoch - 18ms/step\n",
            "Epoch 18/30\n",
            "25/25 - 0s - loss: 0.0576 - accuracy: 0.9837 - val_loss: 1.5453 - val_accuracy: 0.7925 - 438ms/epoch - 18ms/step\n",
            "Epoch 19/30\n",
            "25/25 - 0s - loss: 0.0480 - accuracy: 0.9887 - val_loss: 1.6081 - val_accuracy: 0.7925 - 438ms/epoch - 18ms/step\n",
            "Epoch 20/30\n",
            "25/25 - 0s - loss: 0.0498 - accuracy: 0.9844 - val_loss: 1.6684 - val_accuracy: 0.7975 - 422ms/epoch - 17ms/step\n",
            "Epoch 21/30\n",
            "25/25 - 0s - loss: 0.0500 - accuracy: 0.9869 - val_loss: 1.6871 - val_accuracy: 0.7975 - 408ms/epoch - 16ms/step\n",
            "Epoch 22/30\n",
            "25/25 - 0s - loss: 0.0493 - accuracy: 0.9881 - val_loss: 1.6240 - val_accuracy: 0.7900 - 427ms/epoch - 17ms/step\n",
            "Epoch 23/30\n",
            "25/25 - 0s - loss: 0.0500 - accuracy: 0.9875 - val_loss: 1.6503 - val_accuracy: 0.7975 - 407ms/epoch - 16ms/step\n",
            "Epoch 24/30\n",
            "25/25 - 0s - loss: 0.0399 - accuracy: 0.9869 - val_loss: 1.7086 - val_accuracy: 0.7950 - 421ms/epoch - 17ms/step\n",
            "Epoch 25/30\n",
            "25/25 - 0s - loss: 0.0364 - accuracy: 0.9900 - val_loss: 1.7184 - val_accuracy: 0.7900 - 405ms/epoch - 16ms/step\n",
            "Epoch 26/30\n",
            "25/25 - 0s - loss: 0.0280 - accuracy: 0.9925 - val_loss: 1.7811 - val_accuracy: 0.7875 - 384ms/epoch - 15ms/step\n",
            "Epoch 27/30\n",
            "25/25 - 0s - loss: 0.0374 - accuracy: 0.9900 - val_loss: 1.8280 - val_accuracy: 0.7875 - 427ms/epoch - 17ms/step\n",
            "Epoch 28/30\n",
            "25/25 - 0s - loss: 0.0306 - accuracy: 0.9919 - val_loss: 1.8024 - val_accuracy: 0.8050 - 418ms/epoch - 17ms/step\n",
            "Epoch 29/30\n",
            "25/25 - 1s - loss: 0.0365 - accuracy: 0.9894 - val_loss: 1.8050 - val_accuracy: 0.8000 - 559ms/epoch - 22ms/step\n",
            "Epoch 30/30\n",
            "25/25 - 0s - loss: 0.0270 - accuracy: 0.9931 - val_loss: 1.7697 - val_accuracy: 0.8025 - 414ms/epoch - 17ms/step\n"
          ]
        },
        {
          "output_type": "display_data",
          "data": {
            "text/plain": [
              "<Figure size 432x288 with 1 Axes>"
            ],
            "image/png": "[encoded data removed]"
          },
          "metadata": {
            "needs_background": "light"
          }
        }
      ]
    },
    {
      "cell_type": "code",
      "source": [
        "model_le = load_model('/content/save_models/text_lemmed-28-1.8024.hdf5')\n",
        "model_le.save('/content/drive/MyDrive/Предобученные сети/Курск/Предобработка текста/text_lemmed-V_ac_0.8050.hdf5')"
      ],
      "metadata": {
        "id": "pStgQbwClC1m"
      },
      "execution_count": 106,
      "outputs": []
    },
    {
      "cell_type": "markdown",
      "source": [
        "# **Обучим НС на проверочной выборке по колонке text_lemmed в 0,01%**"
      ],
      "metadata": {
        "id": "OoZmq0QvzabM"
      }
    },
    {
      "cell_type": "code",
      "source": [
        "# разбиваем все данные на обучающую и тестовую выборки с помощью метода train_test_split из библиотеки sklearn\n",
        "xTrain_le, xVal_le, yTrain_le, yVal_le = train_test_split(xAll_le, yAll_le, test_size=0.01, shuffle = True)\n",
        "print(xTrain_le.shape) #посмотрим на форму текстов из обучающей выборки\n",
        "print(yTrain_le.shape) #и на форму соответсвующих им классов"
      ],
      "metadata": {
        "colab": {
          "base_uri": "https://localhost:8080/"
        },
        "id": "5I-a6vAJzvAx",
        "outputId": "b97f04f0-2152-4a85-ccb5-e891cc313a96"
      },
      "execution_count": 135,
      "outputs": [
        {
          "output_type": "stream",
          "name": "stdout",
          "text": [
            "(1980, 9000)\n",
            "(1980, 17)\n"
          ]
        }
      ]
    },
    {
      "cell_type": "code",
      "source": [
        "# Сохраняем сеть на каждой эпохе\n",
        "# {epoch:02d} - номер эпохи\n",
        "# {val_acc:.4f} - значение аккуратности на проверочном ноборе данных\n",
        "callbacks_le_2 = [ModelCheckpoint('save_models_le_2/text_lemmed-{epoch:02d}-{val_loss:.4f}.hdf5')]\n",
        "# Сохраняем только лучший вариант сети\n",
        "#callbacks = [ModelCheckpoint('save/Kursk-text.hdf5', monitor='val_loss', save_best_only=True)]"
      ],
      "metadata": {
        "id": "1fy18zRmz8fA"
      },
      "execution_count": 133,
      "outputs": []
    },
    {
      "cell_type": "code",
      "source": [
        "#Создаём полносвязную сеть\n",
        "model_le_2 = Sequential()\n",
        "#Входной полносвязный слой\n",
        "model_le_2.add(Dense(100, input_dim=maxWordsCount_le, activation=\"relu\"))\n",
        "#Слой регуляризации Dropout\n",
        "model_le_2.add(Dropout(0.3)) \n",
        "#Второй полносвязный слой\n",
        "model_le_2.add(Dense(100, activation='relu'))\n",
        "#Слой регуляризации Dropout\n",
        "model_le_2.add(Dropout(0.3))\n",
        "#Третий полносвязный слой\n",
        "model_le_2.add(Dense(100, activation='relu'))\n",
        "#Слой регуляризации Dropout\n",
        "model_le_2.add(Dropout(0.3))\n",
        "#Выходной полносвязный слой\n",
        "model_le_2.add(Dense(nClasses_le, activation='softmax'))\n",
        "time_start = [time.time()]\n",
        "\n",
        "model_le_2.compile(optimizer='adam', \n",
        "              loss='categorical_crossentropy', \n",
        "              metrics=['accuracy'])\n",
        "\n",
        "#Обучаем сеть на выборке\n",
        "history = model_le_2.fit(xTrain_le, \n",
        "                    yTrain_le, \n",
        "                    epochs=30,\n",
        "                    batch_size=64,\n",
        "                    validation_data=(xVal_le, yVal_le),\n",
        "                    verbose=2,\n",
        "                     callbacks=callbacks_le_2) # ,\n",
        "                    #callbacks=callbacks01\n",
        "\n",
        "plt.plot(history.history['accuracy'], \n",
        "         label='Доля верных ответов на обучающем наборе')\n",
        "plt.plot(history.history['val_accuracy'], \n",
        "         label='Доля верных ответов на проверочном наборе')\n",
        "plt.xlabel('Эпоха обучения')\n",
        "plt.ylabel('Доля верных ответов')\n",
        "plt.legend()\n",
        "plt.show()"
      ],
      "metadata": {
        "colab": {
          "base_uri": "https://localhost:8080/",
          "height": 1000
        },
        "id": "UaFk3ong0Dnx",
        "outputId": "f2c91677-7dbc-468c-95ba-19b43a92a666"
      },
      "execution_count": 134,
      "outputs": [
        {
          "output_type": "stream",
          "name": "stdout",
          "text": [
            "Epoch 1/30\n",
            "31/31 - 1s - loss: 2.3226 - accuracy: 0.4273 - val_loss: 1.6731 - val_accuracy: 0.6000 - 1s/epoch - 35ms/step\n",
            "Epoch 2/30\n",
            "31/31 - 0s - loss: 1.4428 - accuracy: 0.5298 - val_loss: 1.0420 - val_accuracy: 0.6500 - 445ms/epoch - 14ms/step\n",
            "Epoch 3/30\n",
            "31/31 - 0s - loss: 0.9416 - accuracy: 0.6944 - val_loss: 0.7896 - val_accuracy: 0.7500 - 425ms/epoch - 14ms/step\n",
            "Epoch 4/30\n",
            "31/31 - 0s - loss: 0.5834 - accuracy: 0.8258 - val_loss: 0.5296 - val_accuracy: 0.9000 - 419ms/epoch - 14ms/step\n",
            "Epoch 5/30\n",
            "31/31 - 0s - loss: 0.3925 - accuracy: 0.8899 - val_loss: 0.5186 - val_accuracy: 0.8000 - 476ms/epoch - 15ms/step\n",
            "Epoch 6/30\n",
            "31/31 - 0s - loss: 0.2832 - accuracy: 0.9167 - val_loss: 0.5311 - val_accuracy: 0.8500 - 430ms/epoch - 14ms/step\n",
            "Epoch 7/30\n",
            "31/31 - 0s - loss: 0.2204 - accuracy: 0.9389 - val_loss: 0.5522 - val_accuracy: 0.8500 - 448ms/epoch - 14ms/step\n",
            "Epoch 8/30\n",
            "31/31 - 0s - loss: 0.1834 - accuracy: 0.9470 - val_loss: 0.7124 - val_accuracy: 0.8500 - 435ms/epoch - 14ms/step\n",
            "Epoch 9/30\n",
            "31/31 - 0s - loss: 0.1663 - accuracy: 0.9485 - val_loss: 0.9587 - val_accuracy: 0.7500 - 447ms/epoch - 14ms/step\n",
            "Epoch 10/30\n",
            "31/31 - 0s - loss: 0.1573 - accuracy: 0.9561 - val_loss: 0.8349 - val_accuracy: 0.8000 - 434ms/epoch - 14ms/step\n",
            "Epoch 11/30\n",
            "31/31 - 0s - loss: 0.1332 - accuracy: 0.9626 - val_loss: 1.2117 - val_accuracy: 0.7500 - 440ms/epoch - 14ms/step\n",
            "Epoch 12/30\n",
            "31/31 - 0s - loss: 0.1231 - accuracy: 0.9621 - val_loss: 0.9840 - val_accuracy: 0.8000 - 459ms/epoch - 15ms/step\n",
            "Epoch 13/30\n",
            "31/31 - 0s - loss: 0.1097 - accuracy: 0.9687 - val_loss: 1.0859 - val_accuracy: 0.8000 - 473ms/epoch - 15ms/step\n",
            "Epoch 14/30\n",
            "31/31 - 0s - loss: 0.0874 - accuracy: 0.9753 - val_loss: 0.9462 - val_accuracy: 0.8000 - 440ms/epoch - 14ms/step\n",
            "Epoch 15/30\n",
            "31/31 - 0s - loss: 0.0798 - accuracy: 0.9793 - val_loss: 1.0820 - val_accuracy: 0.8000 - 455ms/epoch - 15ms/step\n",
            "Epoch 16/30\n",
            "31/31 - 0s - loss: 0.0674 - accuracy: 0.9823 - val_loss: 1.2486 - val_accuracy: 0.8000 - 474ms/epoch - 15ms/step\n",
            "Epoch 17/30\n",
            "31/31 - 0s - loss: 0.0513 - accuracy: 0.9879 - val_loss: 1.1027 - val_accuracy: 0.8500 - 436ms/epoch - 14ms/step\n",
            "Epoch 18/30\n",
            "31/31 - 0s - loss: 0.0667 - accuracy: 0.9833 - val_loss: 1.4295 - val_accuracy: 0.7500 - 443ms/epoch - 14ms/step\n",
            "Epoch 19/30\n",
            "31/31 - 0s - loss: 0.0599 - accuracy: 0.9833 - val_loss: 1.1456 - val_accuracy: 0.8500 - 441ms/epoch - 14ms/step\n",
            "Epoch 20/30\n",
            "31/31 - 0s - loss: 0.0560 - accuracy: 0.9828 - val_loss: 1.2395 - val_accuracy: 0.8500 - 429ms/epoch - 14ms/step\n",
            "Epoch 21/30\n",
            "31/31 - 0s - loss: 0.0486 - accuracy: 0.9879 - val_loss: 1.2944 - val_accuracy: 0.8500 - 433ms/epoch - 14ms/step\n",
            "Epoch 22/30\n",
            "31/31 - 0s - loss: 0.0424 - accuracy: 0.9894 - val_loss: 1.1799 - val_accuracy: 0.8500 - 446ms/epoch - 14ms/step\n",
            "Epoch 23/30\n",
            "31/31 - 0s - loss: 0.0368 - accuracy: 0.9899 - val_loss: 1.4261 - val_accuracy: 0.8500 - 426ms/epoch - 14ms/step\n",
            "Epoch 24/30\n",
            "31/31 - 0s - loss: 0.0403 - accuracy: 0.9879 - val_loss: 1.6208 - val_accuracy: 0.8000 - 447ms/epoch - 14ms/step\n",
            "Epoch 25/30\n",
            "31/31 - 0s - loss: 0.0390 - accuracy: 0.9904 - val_loss: 1.4209 - val_accuracy: 0.8500 - 477ms/epoch - 15ms/step\n",
            "Epoch 26/30\n",
            "31/31 - 0s - loss: 0.0459 - accuracy: 0.9889 - val_loss: 1.4900 - val_accuracy: 0.8500 - 437ms/epoch - 14ms/step\n",
            "Epoch 27/30\n",
            "31/31 - 0s - loss: 0.0302 - accuracy: 0.9909 - val_loss: 1.3921 - val_accuracy: 0.8000 - 441ms/epoch - 14ms/step\n",
            "Epoch 28/30\n",
            "31/31 - 0s - loss: 0.0236 - accuracy: 0.9944 - val_loss: 1.5483 - val_accuracy: 0.8500 - 455ms/epoch - 15ms/step\n",
            "Epoch 29/30\n",
            "31/31 - 0s - loss: 0.0273 - accuracy: 0.9939 - val_loss: 1.3871 - val_accuracy: 0.8500 - 427ms/epoch - 14ms/step\n",
            "Epoch 30/30\n",
            "31/31 - 0s - loss: 0.0266 - accuracy: 0.9934 - val_loss: 1.3256 - val_accuracy: 0.8500 - 424ms/epoch - 14ms/step\n"
          ]
        },
        {
          "output_type": "display_data",
          "data": {
            "text/plain": [
              "<Figure size 432x288 with 1 Axes>"
            ],
            "image/png": "[encoded data removed]"
          },
          "metadata": {
            "needs_background": "light"
          }
        }
      ]
    },
    {
      "cell_type": "code",
      "source": [
        "model_le_2 = load_model('/content/save_models_le_2/text_lemmed-05-0.5186.hdf5')\n",
        "model_le_2.save('/content/drive/MyDrive/Предобученные сети/Курск/Предобработка текста/text_lemmed_2-V_ac_0.9000.hdf5')"
      ],
      "metadata": {
        "id": "sz3F3OPc1Zk7"
      },
      "execution_count": 136,
      "outputs": []
    },
    {
      "cell_type": "markdown",
      "source": [
        "# **Обрабатываем тестовый датасет**\n",
        "**под модель model_le обученную на обработанном Лемматизированом тексте**"
      ],
      "metadata": {
        "id": "zN_Z9Yyde6rs"
      }
    },
    {
      "cell_type": "code",
      "source": [
        "df_test = pd.read_csv(open('/content/drive/MyDrive/Базы/Обращения граждан/test_dataset_test.csv'))\n",
        "\n",
        "# Подсчет соотношения часла строк к число слов в строке\n",
        "number_of_samples = len(df_test)\n",
        "print(\"Количество строк (объектов)\" , number_of_samples)\n",
        "\n",
        "number_of_words_test = 0\n",
        "for index, row in df.iterrows():\n",
        "  words = row['Текст Сообщения'].split()\n",
        "  number_of_words += len(words)\n",
        "number_of_words_per_sample = number_of_words / len(df_test)\n",
        "print(\"Количество cлов в строке\" , number_of_words_per_sample)\n",
        "\n",
        "ratio = number_of_samples / number_of_words_per_sample\n",
        "print(\"Соотношение: \" , ratio)"
      ],
      "metadata": {
        "colab": {
          "base_uri": "https://localhost:8080/"
        },
        "id": "Gd7SB9mTfAe1",
        "outputId": "b91f8795-5932-4aef-d4e1-aefb1c48753b"
      },
      "execution_count": 140,
      "outputs": [
        {
          "output_type": "stream",
          "name": "stdout",
          "text": [
            "Количество строк (объектов) 1000\n",
            "Количество cлов в строке 514.45\n",
            "Соотношение:  1.9438235008261249\n"
          ]
        }
      ]
    },
    {
      "cell_type": "code",
      "source": [
        "from string import punctuation  # Модуль для работы со строками\n",
        "\n",
        "# Удаление символов пунктуации\n",
        "def remove_punctuation(my_string):\n",
        "    return \"\".join([ch if ch not in punctuation else ' ' for ch in my_string]) # Замена на пробелы!!!\n",
        "\n",
        "# Удаление чисел\n",
        "def remove_numbers(my_string):\n",
        "    return ''.join([i if not i.isdigit() else ' ' for i in my_string])\n",
        "\n",
        "# Замена множественных пробелов на одинарный пробел\n",
        "import re\n",
        "def remove_multiple_spaces(my_string):\n",
        "\treturn re.sub(r'\\s+', ' ', my_string, flags=re.I)\n",
        "\n",
        "# Обработка строк + дополнительно приведение к нижнему регистру\n",
        "preproccessing = lambda text: (remove_multiple_spaces(remove_numbers(remove_punctuation(text.lower())))) \n",
        "\n",
        "# Создаем колонку в датасете для обработанного текста\n",
        "df_test['Текст Сообщения_2'] = list(map(preproccessing, df_test['Текст Сообщения']))\n",
        "df_test.head()"
      ],
      "metadata": {
        "colab": {
          "base_uri": "https://localhost:8080/",
          "height": 337
        },
        "id": "e7u2V1iufF8f",
        "outputId": "8b86fc3e-4b99-4dba-9bc3-de314b988521"
      },
      "execution_count": 141,
      "outputs": [
        {
          "output_type": "execute_result",
          "data": {
            "text/plain": [
              "     id                                    Текст Сообщения  \\\n",
              "0   843  <p>Здравствуйте. На улице Мира &nbsp;было заме...   \n",
              "1  1422  <p>Уже вторую неделю не горит уличное освещени...   \n",
              "2  2782  Не работает освещение во дворе дома 11а по Эне...   \n",
              "3  2704  После покоса сорной растительности на газоне м...   \n",
              "4     1  <p>Прошу принять меры к водителю маршрута 263:...   \n",
              "\n",
              "                                            Тематика  \\\n",
              "0                    Неработающее наружное освещение   \n",
              "1                    Неработающее наружное освещение   \n",
              "2                    Неработающее наружное освещение   \n",
              "3       Неудовлетворительная уборка улиц и тротуаров   \n",
              "4  Неудовлетворительный внешний вид (поведение) в...   \n",
              "\n",
              "                                  Ответственное лицо  \\\n",
              "0                 Администрация Курчатовского района   \n",
              "1  Комитет жилищно-коммунального хозяйства города...   \n",
              "2  Комитет жилищно-коммунального хозяйства города...   \n",
              "3    Администрация Центрального округа города Курска   \n",
              "4                        Администрация города Курска   \n",
              "\n",
              "                                   Текст Сообщения_2  \n",
              "0   p здравствуйте на улице мира nbsp было замене...  \n",
              "1   p уже вторую неделю не горит уличное освещени...  \n",
              "2  не работает освещение во дворе дома а по энерг...  \n",
              "3  после покоса сорной растительности на газоне м...  \n",
              "4   p прошу принять меры к водителю маршрута пос ...  "
            ],
            "text/html": [
              "\n",
              "  <div id=\"df-0a61a5e7-2309-47f6-92e5-428a0356a25a\">\n",
              "    <div class=\"colab-df-container\">\n",
              "      <div>\n",
              "<style scoped>\n",
              "    .dataframe tbody tr th:only-of-type {\n",
              "        vertical-align: middle;\n",
              "    }\n",
              "\n",
              "    .dataframe tbody tr th {\n",
              "        vertical-align: top;\n",
              "    }\n",
              "\n",
              "    .dataframe thead th {\n",
              "        text-align: right;\n",
              "    }\n",
              "</style>\n",
              "<table border=\"1\" class=\"dataframe\">\n",
              "  <thead>\n",
              "    <tr style=\"text-align: right;\">\n",
              "      <th></th>\n",
              "      <th>id</th>\n",
              "      <th>Текст Сообщения</th>\n",
              "      <th>Тематика</th>\n",
              "      <th>Ответственное лицо</th>\n",
              "      <th>Текст Сообщения_2</th>\n",
              "    </tr>\n",
              "  </thead>\n",
              "  <tbody>\n",
              "    <tr>\n",
              "      <th>0</th>\n",
              "      <td>843</td>\n",
              "      <td>&lt;p&gt;Здравствуйте. На улице Мира &amp;nbsp;было заме...</td>\n",
              "      <td>Неработающее наружное освещение</td>\n",
              "      <td>Администрация Курчатовского района</td>\n",
              "      <td>p здравствуйте на улице мира nbsp было замене...</td>\n",
              "    </tr>\n",
              "    <tr>\n",
              "      <th>1</th>\n",
              "      <td>1422</td>\n",
              "      <td>&lt;p&gt;Уже вторую неделю не горит уличное освещени...</td>\n",
              "      <td>Неработающее наружное освещение</td>\n",
              "      <td>Комитет жилищно-коммунального хозяйства города...</td>\n",
              "      <td>p уже вторую неделю не горит уличное освещени...</td>\n",
              "    </tr>\n",
              "    <tr>\n",
              "      <th>2</th>\n",
              "      <td>2782</td>\n",
              "      <td>Не работает освещение во дворе дома 11а по Эне...</td>\n",
              "      <td>Неработающее наружное освещение</td>\n",
              "      <td>Комитет жилищно-коммунального хозяйства города...</td>\n",
              "      <td>не работает освещение во дворе дома а по энерг...</td>\n",
              "    </tr>\n",
              "    <tr>\n",
              "      <th>3</th>\n",
              "      <td>2704</td>\n",
              "      <td>После покоса сорной растительности на газоне м...</td>\n",
              "      <td>Неудовлетворительная уборка улиц и тротуаров</td>\n",
              "      <td>Администрация Центрального округа города Курска</td>\n",
              "      <td>после покоса сорной растительности на газоне м...</td>\n",
              "    </tr>\n",
              "    <tr>\n",
              "      <th>4</th>\n",
              "      <td>1</td>\n",
              "      <td>&lt;p&gt;Прошу принять меры к водителю маршрута 263:...</td>\n",
              "      <td>Неудовлетворительный внешний вид (поведение) в...</td>\n",
              "      <td>Администрация города Курска</td>\n",
              "      <td>p прошу принять меры к водителю маршрута пос ...</td>\n",
              "    </tr>\n",
              "  </tbody>\n",
              "</table>\n",
              "</div>\n",
              "      <button class=\"colab-df-convert\" onclick=\"convertToInteractive('df-0a61a5e7-2309-47f6-92e5-428a0356a25a')\"\n",
              "              title=\"Convert this dataframe to an interactive table.\"\n",
              "              style=\"display:none;\">\n",
              "        \n",
              "  <svg xmlns=\"http://www.w3.org/2000/svg\" height=\"24px\"viewBox=\"0 0 24 24\"\n",
              "       width=\"24px\">\n",
              "    <path d=\"M0 0h24v24H0V0z\" fill=\"none\"/>\n",
              "    <path d=\"M18.56 5.44l.94 2.06.94-2.06 2.06-.94-2.06-.94-.94-2.06-.94 2.06-2.06.94zm-11 1L8.5 8.5l.94-2.06 2.06-.94-2.06-.94L8.5 2.5l-.94 2.06-2.06.94zm10 10l.94 2.06.94-2.06 2.06-.94-2.06-.94-.94-2.06-.94 2.06-2.06.94z\"/><path d=\"M17.41 7.96l-1.37-1.37c-.4-.4-.92-.59-1.43-.59-.52 0-1.04.2-1.43.59L10.3 9.45l-7.72 7.72c-.78.78-.78 2.05 0 2.83L4 21.41c.39.39.9.59 1.41.59.51 0 1.02-.2 1.41-.59l7.78-7.78 2.81-2.81c.8-.78.8-2.07 0-2.86zM5.41 20L4 18.59l7.72-7.72 1.47 1.35L5.41 20z\"/>\n",
              "  </svg>\n",
              "      </button>\n",
              "      \n",
              "  <style>\n",
              "    .colab-df-container {\n",
              "      display:flex;\n",
              "      flex-wrap:wrap;\n",
              "      gap: 12px;\n",
              "    }\n",
              "\n",
              "    .colab-df-convert {\n",
              "      background-color: #E8F0FE;\n",
              "      border: none;\n",
              "      border-radius: 50%;\n",
              "      cursor: pointer;\n",
              "      display: none;\n",
              "      fill: #1967D2;\n",
              "      height: 32px;\n",
              "      padding: 0 0 0 0;\n",
              "      width: 32px;\n",
              "    }\n",
              "\n",
              "    .colab-df-convert:hover {\n",
              "      background-color: #E2EBFA;\n",
              "      box-shadow: 0px 1px 2px rgba(60, 64, 67, 0.3), 0px 1px 3px 1px rgba(60, 64, 67, 0.15);\n",
              "      fill: #174EA6;\n",
              "    }\n",
              "\n",
              "    [theme=dark] .colab-df-convert {\n",
              "      background-color: #3B4455;\n",
              "      fill: #D2E3FC;\n",
              "    }\n",
              "\n",
              "    [theme=dark] .colab-df-convert:hover {\n",
              "      background-color: #434B5C;\n",
              "      box-shadow: 0px 1px 3px 1px rgba(0, 0, 0, 0.15);\n",
              "      filter: drop-shadow(0px 1px 2px rgba(0, 0, 0, 0.3));\n",
              "      fill: #FFFFFF;\n",
              "    }\n",
              "  </style>\n",
              "\n",
              "      <script>\n",
              "        const buttonEl =\n",
              "          document.querySelector('#df-0a61a5e7-2309-47f6-92e5-428a0356a25a button.colab-df-convert');\n",
              "        buttonEl.style.display =\n",
              "          google.colab.kernel.accessAllowed ? 'block' : 'none';\n",
              "\n",
              "        async function convertToInteractive(key) {\n",
              "          const element = document.querySelector('#df-0a61a5e7-2309-47f6-92e5-428a0356a25a');\n",
              "          const dataTable =\n",
              "            await google.colab.kernel.invokeFunction('convertToInteractive',\n",
              "                                                     [key], {});\n",
              "          if (!dataTable) return;\n",
              "\n",
              "          const docLinkHtml = 'Like what you see? Visit the ' +\n",
              "            '<a target=\"_blank\" href=https://colab.research.google.com/notebooks/data_table.ipynb>data table notebook</a>'\n",
              "            + ' to learn more about interactive tables.';\n",
              "          element.innerHTML = '';\n",
              "          dataTable['output_type'] = 'display_data';\n",
              "          await google.colab.output.renderOutput(dataTable, element);\n",
              "          const docLink = document.createElement('div');\n",
              "          docLink.innerHTML = docLinkHtml;\n",
              "          element.appendChild(docLink);\n",
              "        }\n",
              "      </script>\n",
              "    </div>\n",
              "  </div>\n",
              "  "
            ]
          },
          "metadata": {},
          "execution_count": 141
        }
      ]
    },
    {
      "cell_type": "code",
      "source": [
        "# Провердим стемминг и избавляемся от стоп-слов\n",
        "stemmed_text_column = []\n",
        "for text in tqdm(df_test['Текст Сообщения_2']):\n",
        "    tokens = word_tokenize(text)    \n",
        "    stemmed_tokens = [stemmer.stem(token) for token in tokens if token not in russian_stopwords]\n",
        "    text = \" \".join(stemmed_tokens)\n",
        "    stemmed_text_column.append(text)\n",
        "\n",
        "# Создаем новую колонку в наборе данных\n",
        "df_test['text_stemmed'] = stemmed_text_column\n",
        "df_test['text_stemmed'][0]"
      ],
      "metadata": {
        "colab": {
          "base_uri": "https://localhost:8080/",
          "height": 85,
          "referenced_widgets": [
            "f21c94293aaf40aa8b43e37a3131f9b8",
            "719217f5f2c443a3a064c49b16c6eb62",
            "fd64da6cbd104655bc79be3c2a1a1499",
            "f48a6c891a6b41d4b416e63ada5729e1",
            "5773cb1bc8d045b5a2d3e7279dd612c8",
            "745b41bd492e412894db377a9e72e351",
            "ce0f208ab5b7491d93dfe79de1599e52",
            "614a2ea74bd84724929d86d654f9a8b5",
            "ee370cc10805487b99634ea90886d317",
            "7bc77858651e43b8a779da7e97228028",
            "208bf84becc64f6e9074331950552d47"
          ]
        },
        "id": "kiHdknD-fLCT",
        "outputId": "89e1dac1-6ce4-4994-81be-c9bb9da855ae"
      },
      "execution_count": 142,
      "outputs": [
        {
          "output_type": "display_data",
          "data": {
            "text/plain": [
              "  0%|          | 0/1000 [00:00<?, ?it/s]"
            ],
            "application/vnd.jupyter.widget-view+json": {
              "version_major": 2,
              "version_minor": 0,
              "model_id": "f21c94293aaf40aa8b43e37a3131f9b8"
            }
          },
          "metadata": {}
        },
        {
          "output_type": "execute_result",
          "data": {
            "text/plain": [
              "'p здравств улиц мир nbsp замен наружн освещен имен замен ламп nbsp энергосберега ламп протяжен нескольк месяц освещен улиц отсутств последн улиц освещ эт зим приблизительн кажд ден люд работа часов смен мног возвраща очен поздн дан проблем улиц поселк nbsp p'"
            ],
            "application/vnd.google.colaboratory.intrinsic+json": {
              "type": "string"
            }
          },
          "metadata": {},
          "execution_count": 142
        }
      ]
    },
    {
      "cell_type": "code",
      "source": [
        "from tqdm.auto import tqdm, trange  # Tqdm — библиотека для создания индикаторов выполнения\n",
        "\n",
        "# Провердим лемматизацию и избавляемся от стоп-слов\n",
        "lemm_texts_column = []\n",
        "for text in tqdm(df_test['Текст Сообщения_2']):\n",
        "    tokens = word_tokenize(text)    \n",
        "    lemmed_tokens = [morph.parse(token)[0].normal_form for token in tokens if token not in russian_stopwords]\n",
        "    text = \" \".join(lemmed_tokens)\n",
        "    lemm_texts_column.append(text)\n",
        "    \n",
        "# Создаем новую колонку в наборе данных\n",
        "df_test['text_lemmed'] = lemm_texts_column\n",
        "\n",
        "df_test['text_lemmed'][0]"
      ],
      "metadata": {
        "colab": {
          "base_uri": "https://localhost:8080/",
          "height": 85,
          "referenced_widgets": [
            "75cf4f96695b467aadef75984287dd26",
            "0a751e9aaa284dd68a1458633b9e64a4",
            "84ce7cacc9744e73b18e72b81c125fe3",
            "e4f09c9efa6d4b2591cb9cb66bf51775",
            "2e479d0df8294a1fb438be815d8a511c",
            "2457ba5a62a24d228b5e5e090e89a408",
            "eae16192d5cf4269934d3aadd7ea201d",
            "f6cac059e64f443bb4578cde737de34b",
            "82bd3e04828e4b0e8bddac2c53558fa8",
            "815e23ed92674c5f91c5a35d0a28aee0",
            "2347c49ca4be447bafd3d8ae85304c5b"
          ]
        },
        "id": "zEAYRmDpfPmh",
        "outputId": "5122c8a2-a7b8-42af-f469-b085552cf631"
      },
      "execution_count": 143,
      "outputs": [
        {
          "output_type": "display_data",
          "data": {
            "text/plain": [
              "  0%|          | 0/1000 [00:00<?, ?it/s]"
            ],
            "application/vnd.jupyter.widget-view+json": {
              "version_major": 2,
              "version_minor": 0,
              "model_id": "75cf4f96695b467aadef75984287dd26"
            }
          },
          "metadata": {}
        },
        {
          "output_type": "execute_result",
          "data": {
            "text/plain": [
              "'p здравствуйте улица мир nbsp заменить наружное освещение именно заменить лампа nbsp энергосберегающий лампа протяжение несколько месяц освещение улица отсутствовать последний улица осветить это зима приблизительно каждый день человек работать часовой смена многие возвращаться очень поздно дать проблема улица посёлок nbsp p'"
            ],
            "application/vnd.google.colaboratory.intrinsic+json": {
              "type": "string"
            }
          },
          "metadata": {},
          "execution_count": 143
        }
      ]
    },
    {
      "cell_type": "code",
      "source": [
        "df_test.drop(df_test.columns[[1,2,3,4,5]], axis=1, inplace=True)\n",
        "df_test.head(5)"
      ],
      "metadata": {
        "colab": {
          "base_uri": "https://localhost:8080/",
          "height": 206
        },
        "id": "jVkE7a1CfRV4",
        "outputId": "54fe0e27-c190-4a31-f939-396e673f5827"
      },
      "execution_count": 144,
      "outputs": [
        {
          "output_type": "execute_result",
          "data": {
            "text/plain": [
              "     id                                        text_lemmed\n",
              "0   843  p здравствуйте улица мир nbsp заменить наружно...\n",
              "1  1422  p второй неделя гореть уличный освещение p p n...\n",
              "2  2782  работать освещение двор дом энергетик световой...\n",
              "3  2704  покос сорный растительность газон тротуар прое...\n",
              "4     1  p просить принять мера водитель маршрут пос се..."
            ],
            "text/html": [
              "\n",
              "  <div id=\"df-ca3a17a6-a874-4625-99ac-dd0f92eeccfe\">\n",
              "    <div class=\"colab-df-container\">\n",
              "      <div>\n",
              "<style scoped>\n",
              "    .dataframe tbody tr th:only-of-type {\n",
              "        vertical-align: middle;\n",
              "    }\n",
              "\n",
              "    .dataframe tbody tr th {\n",
              "        vertical-align: top;\n",
              "    }\n",
              "\n",
              "    .dataframe thead th {\n",
              "        text-align: right;\n",
              "    }\n",
              "</style>\n",
              "<table border=\"1\" class=\"dataframe\">\n",
              "  <thead>\n",
              "    <tr style=\"text-align: right;\">\n",
              "      <th></th>\n",
              "      <th>id</th>\n",
              "      <th>text_lemmed</th>\n",
              "    </tr>\n",
              "  </thead>\n",
              "  <tbody>\n",
              "    <tr>\n",
              "      <th>0</th>\n",
              "      <td>843</td>\n",
              "      <td>p здравствуйте улица мир nbsp заменить наружно...</td>\n",
              "    </tr>\n",
              "    <tr>\n",
              "      <th>1</th>\n",
              "      <td>1422</td>\n",
              "      <td>p второй неделя гореть уличный освещение p p n...</td>\n",
              "    </tr>\n",
              "    <tr>\n",
              "      <th>2</th>\n",
              "      <td>2782</td>\n",
              "      <td>работать освещение двор дом энергетик световой...</td>\n",
              "    </tr>\n",
              "    <tr>\n",
              "      <th>3</th>\n",
              "      <td>2704</td>\n",
              "      <td>покос сорный растительность газон тротуар прое...</td>\n",
              "    </tr>\n",
              "    <tr>\n",
              "      <th>4</th>\n",
              "      <td>1</td>\n",
              "      <td>p просить принять мера водитель маршрут пос се...</td>\n",
              "    </tr>\n",
              "  </tbody>\n",
              "</table>\n",
              "</div>\n",
              "      <button class=\"colab-df-convert\" onclick=\"convertToInteractive('df-ca3a17a6-a874-4625-99ac-dd0f92eeccfe')\"\n",
              "              title=\"Convert this dataframe to an interactive table.\"\n",
              "              style=\"display:none;\">\n",
              "        \n",
              "  <svg xmlns=\"http://www.w3.org/2000/svg\" height=\"24px\"viewBox=\"0 0 24 24\"\n",
              "       width=\"24px\">\n",
              "    <path d=\"M0 0h24v24H0V0z\" fill=\"none\"/>\n",
              "    <path d=\"M18.56 5.44l.94 2.06.94-2.06 2.06-.94-2.06-.94-.94-2.06-.94 2.06-2.06.94zm-11 1L8.5 8.5l.94-2.06 2.06-.94-2.06-.94L8.5 2.5l-.94 2.06-2.06.94zm10 10l.94 2.06.94-2.06 2.06-.94-2.06-.94-.94-2.06-.94 2.06-2.06.94z\"/><path d=\"M17.41 7.96l-1.37-1.37c-.4-.4-.92-.59-1.43-.59-.52 0-1.04.2-1.43.59L10.3 9.45l-7.72 7.72c-.78.78-.78 2.05 0 2.83L4 21.41c.39.39.9.59 1.41.59.51 0 1.02-.2 1.41-.59l7.78-7.78 2.81-2.81c.8-.78.8-2.07 0-2.86zM5.41 20L4 18.59l7.72-7.72 1.47 1.35L5.41 20z\"/>\n",
              "  </svg>\n",
              "      </button>\n",
              "      \n",
              "  <style>\n",
              "    .colab-df-container {\n",
              "      display:flex;\n",
              "      flex-wrap:wrap;\n",
              "      gap: 12px;\n",
              "    }\n",
              "\n",
              "    .colab-df-convert {\n",
              "      background-color: #E8F0FE;\n",
              "      border: none;\n",
              "      border-radius: 50%;\n",
              "      cursor: pointer;\n",
              "      display: none;\n",
              "      fill: #1967D2;\n",
              "      height: 32px;\n",
              "      padding: 0 0 0 0;\n",
              "      width: 32px;\n",
              "    }\n",
              "\n",
              "    .colab-df-convert:hover {\n",
              "      background-color: #E2EBFA;\n",
              "      box-shadow: 0px 1px 2px rgba(60, 64, 67, 0.3), 0px 1px 3px 1px rgba(60, 64, 67, 0.15);\n",
              "      fill: #174EA6;\n",
              "    }\n",
              "\n",
              "    [theme=dark] .colab-df-convert {\n",
              "      background-color: #3B4455;\n",
              "      fill: #D2E3FC;\n",
              "    }\n",
              "\n",
              "    [theme=dark] .colab-df-convert:hover {\n",
              "      background-color: #434B5C;\n",
              "      box-shadow: 0px 1px 3px 1px rgba(0, 0, 0, 0.15);\n",
              "      filter: drop-shadow(0px 1px 2px rgba(0, 0, 0, 0.3));\n",
              "      fill: #FFFFFF;\n",
              "    }\n",
              "  </style>\n",
              "\n",
              "      <script>\n",
              "        const buttonEl =\n",
              "          document.querySelector('#df-ca3a17a6-a874-4625-99ac-dd0f92eeccfe button.colab-df-convert');\n",
              "        buttonEl.style.display =\n",
              "          google.colab.kernel.accessAllowed ? 'block' : 'none';\n",
              "\n",
              "        async function convertToInteractive(key) {\n",
              "          const element = document.querySelector('#df-ca3a17a6-a874-4625-99ac-dd0f92eeccfe');\n",
              "          const dataTable =\n",
              "            await google.colab.kernel.invokeFunction('convertToInteractive',\n",
              "                                                     [key], {});\n",
              "          if (!dataTable) return;\n",
              "\n",
              "          const docLinkHtml = 'Like what you see? Visit the ' +\n",
              "            '<a target=\"_blank\" href=https://colab.research.google.com/notebooks/data_table.ipynb>data table notebook</a>'\n",
              "            + ' to learn more about interactive tables.';\n",
              "          element.innerHTML = '';\n",
              "          dataTable['output_type'] = 'display_data';\n",
              "          await google.colab.output.renderOutput(dataTable, element);\n",
              "          const docLink = document.createElement('div');\n",
              "          docLink.innerHTML = docLinkHtml;\n",
              "          element.appendChild(docLink);\n",
              "        }\n",
              "      </script>\n",
              "    </div>\n",
              "  </div>\n",
              "  "
            ]
          },
          "metadata": {},
          "execution_count": 144
        }
      ]
    },
    {
      "cell_type": "code",
      "source": [
        ""
      ],
      "metadata": {
        "id": "QUCYs5P2mNPV"
      },
      "execution_count": null,
      "outputs": []
    },
    {
      "cell_type": "code",
      "source": [
        "#model = load_model('/content/drive/MyDrive/Предобученные сети/Курск/Предобработка текста/Текст_сообщения_2-Vc0.8025.hdf5')\n",
        "model_le_2 = load_model('/content/drive/MyDrive/Предобученные сети/Курск/Предобработка текста/text_lemmed_2-V_ac_0.9000.hdf5')\n",
        "test_mess = np.array(df_test['text_lemmed']) # Переводим сообщения в массив\n",
        "x = tokenizer_le.texts_to_matrix(test_mess) # Токенизируем массив\n",
        "\n",
        "prediction = model_le_2.predict(x)\n",
        "\n",
        "for i in range(len(x)): \n",
        "  df_test.loc[i,'Категория'] = np.argmax(prediction[i])\n",
        "#df_test = df_test.replace({'Категория':{0:3,1:20}})\n",
        "df_test"
      ],
      "metadata": {
        "colab": {
          "base_uri": "https://localhost:8080/",
          "height": 424
        },
        "id": "zdWeP9dQmI8m",
        "outputId": "7a6c419a-3d17-439d-ae80-6a124170792c"
      },
      "execution_count": 145,
      "outputs": [
        {
          "output_type": "execute_result",
          "data": {
            "text/plain": [
              "       id                                        text_lemmed  Категория\n",
              "0     843  p здравствуйте улица мир nbsp заменить наружно...        3.0\n",
              "1    1422  p второй неделя гореть уличный освещение p p n...        3.0\n",
              "2    2782  работать освещение двор дом энергетик световой...        3.0\n",
              "3    2704  покос сорный растительность газон тротуар прое...        3.0\n",
              "4       1  p просить принять мера водитель маршрут пос се...        8.0\n",
              "..    ...                                                ...        ...\n",
              "995  2619  добрый день семья житель пос волокно просыпать...        0.0\n",
              "996  2518  лазарев г щигры ветка тополь скоро выбить стек...        3.0\n",
              "997  2524           вход комитет образование курск ям дорога        0.0\n",
              "998  1577  p добрый время сутки p p пол год медотвод вакц...        4.0\n",
              "999  2567  добрый день многодетный мама младший ребёнок г...       10.0\n",
              "\n",
              "[1000 rows x 3 columns]"
            ],
            "text/html": [
              "\n",
              "  <div id=\"df-0597a726-a629-40f4-8fe3-07f1a86f7321\">\n",
              "    <div class=\"colab-df-container\">\n",
              "      <div>\n",
              "<style scoped>\n",
              "    .dataframe tbody tr th:only-of-type {\n",
              "        vertical-align: middle;\n",
              "    }\n",
              "\n",
              "    .dataframe tbody tr th {\n",
              "        vertical-align: top;\n",
              "    }\n",
              "\n",
              "    .dataframe thead th {\n",
              "        text-align: right;\n",
              "    }\n",
              "</style>\n",
              "<table border=\"1\" class=\"dataframe\">\n",
              "  <thead>\n",
              "    <tr style=\"text-align: right;\">\n",
              "      <th></th>\n",
              "      <th>id</th>\n",
              "      <th>text_lemmed</th>\n",
              "      <th>Категория</th>\n",
              "    </tr>\n",
              "  </thead>\n",
              "  <tbody>\n",
              "    <tr>\n",
              "      <th>0</th>\n",
              "      <td>843</td>\n",
              "      <td>p здравствуйте улица мир nbsp заменить наружно...</td>\n",
              "      <td>3.0</td>\n",
              "    </tr>\n",
              "    <tr>\n",
              "      <th>1</th>\n",
              "      <td>1422</td>\n",
              "      <td>p второй неделя гореть уличный освещение p p n...</td>\n",
              "      <td>3.0</td>\n",
              "    </tr>\n",
              "    <tr>\n",
              "      <th>2</th>\n",
              "      <td>2782</td>\n",
              "      <td>работать освещение двор дом энергетик световой...</td>\n",
              "      <td>3.0</td>\n",
              "    </tr>\n",
              "    <tr>\n",
              "      <th>3</th>\n",
              "      <td>2704</td>\n",
              "      <td>покос сорный растительность газон тротуар прое...</td>\n",
              "      <td>3.0</td>\n",
              "    </tr>\n",
              "    <tr>\n",
              "      <th>4</th>\n",
              "      <td>1</td>\n",
              "      <td>p просить принять мера водитель маршрут пос се...</td>\n",
              "      <td>8.0</td>\n",
              "    </tr>\n",
              "    <tr>\n",
              "      <th>...</th>\n",
              "      <td>...</td>\n",
              "      <td>...</td>\n",
              "      <td>...</td>\n",
              "    </tr>\n",
              "    <tr>\n",
              "      <th>995</th>\n",
              "      <td>2619</td>\n",
              "      <td>добрый день семья житель пос волокно просыпать...</td>\n",
              "      <td>0.0</td>\n",
              "    </tr>\n",
              "    <tr>\n",
              "      <th>996</th>\n",
              "      <td>2518</td>\n",
              "      <td>лазарев г щигры ветка тополь скоро выбить стек...</td>\n",
              "      <td>3.0</td>\n",
              "    </tr>\n",
              "    <tr>\n",
              "      <th>997</th>\n",
              "      <td>2524</td>\n",
              "      <td>вход комитет образование курск ям дорога</td>\n",
              "      <td>0.0</td>\n",
              "    </tr>\n",
              "    <tr>\n",
              "      <th>998</th>\n",
              "      <td>1577</td>\n",
              "      <td>p добрый время сутки p p пол год медотвод вакц...</td>\n",
              "      <td>4.0</td>\n",
              "    </tr>\n",
              "    <tr>\n",
              "      <th>999</th>\n",
              "      <td>2567</td>\n",
              "      <td>добрый день многодетный мама младший ребёнок г...</td>\n",
              "      <td>10.0</td>\n",
              "    </tr>\n",
              "  </tbody>\n",
              "</table>\n",
              "<p>1000 rows × 3 columns</p>\n",
              "</div>\n",
              "      <button class=\"colab-df-convert\" onclick=\"convertToInteractive('df-0597a726-a629-40f4-8fe3-07f1a86f7321')\"\n",
              "              title=\"Convert this dataframe to an interactive table.\"\n",
              "              style=\"display:none;\">\n",
              "        \n",
              "  <svg xmlns=\"http://www.w3.org/2000/svg\" height=\"24px\"viewBox=\"0 0 24 24\"\n",
              "       width=\"24px\">\n",
              "    <path d=\"M0 0h24v24H0V0z\" fill=\"none\"/>\n",
              "    <path d=\"M18.56 5.44l.94 2.06.94-2.06 2.06-.94-2.06-.94-.94-2.06-.94 2.06-2.06.94zm-11 1L8.5 8.5l.94-2.06 2.06-.94-2.06-.94L8.5 2.5l-.94 2.06-2.06.94zm10 10l.94 2.06.94-2.06 2.06-.94-2.06-.94-.94-2.06-.94 2.06-2.06.94z\"/><path d=\"M17.41 7.96l-1.37-1.37c-.4-.4-.92-.59-1.43-.59-.52 0-1.04.2-1.43.59L10.3 9.45l-7.72 7.72c-.78.78-.78 2.05 0 2.83L4 21.41c.39.39.9.59 1.41.59.51 0 1.02-.2 1.41-.59l7.78-7.78 2.81-2.81c.8-.78.8-2.07 0-2.86zM5.41 20L4 18.59l7.72-7.72 1.47 1.35L5.41 20z\"/>\n",
              "  </svg>\n",
              "      </button>\n",
              "      \n",
              "  <style>\n",
              "    .colab-df-container {\n",
              "      display:flex;\n",
              "      flex-wrap:wrap;\n",
              "      gap: 12px;\n",
              "    }\n",
              "\n",
              "    .colab-df-convert {\n",
              "      background-color: #E8F0FE;\n",
              "      border: none;\n",
              "      border-radius: 50%;\n",
              "      cursor: pointer;\n",
              "      display: none;\n",
              "      fill: #1967D2;\n",
              "      height: 32px;\n",
              "      padding: 0 0 0 0;\n",
              "      width: 32px;\n",
              "    }\n",
              "\n",
              "    .colab-df-convert:hover {\n",
              "      background-color: #E2EBFA;\n",
              "      box-shadow: 0px 1px 2px rgba(60, 64, 67, 0.3), 0px 1px 3px 1px rgba(60, 64, 67, 0.15);\n",
              "      fill: #174EA6;\n",
              "    }\n",
              "\n",
              "    [theme=dark] .colab-df-convert {\n",
              "      background-color: #3B4455;\n",
              "      fill: #D2E3FC;\n",
              "    }\n",
              "\n",
              "    [theme=dark] .colab-df-convert:hover {\n",
              "      background-color: #434B5C;\n",
              "      box-shadow: 0px 1px 3px 1px rgba(0, 0, 0, 0.15);\n",
              "      filter: drop-shadow(0px 1px 2px rgba(0, 0, 0, 0.3));\n",
              "      fill: #FFFFFF;\n",
              "    }\n",
              "  </style>\n",
              "\n",
              "      <script>\n",
              "        const buttonEl =\n",
              "          document.querySelector('#df-0597a726-a629-40f4-8fe3-07f1a86f7321 button.colab-df-convert');\n",
              "        buttonEl.style.display =\n",
              "          google.colab.kernel.accessAllowed ? 'block' : 'none';\n",
              "\n",
              "        async function convertToInteractive(key) {\n",
              "          const element = document.querySelector('#df-0597a726-a629-40f4-8fe3-07f1a86f7321');\n",
              "          const dataTable =\n",
              "            await google.colab.kernel.invokeFunction('convertToInteractive',\n",
              "                                                     [key], {});\n",
              "          if (!dataTable) return;\n",
              "\n",
              "          const docLinkHtml = 'Like what you see? Visit the ' +\n",
              "            '<a target=\"_blank\" href=https://colab.research.google.com/notebooks/data_table.ipynb>data table notebook</a>'\n",
              "            + ' to learn more about interactive tables.';\n",
              "          element.innerHTML = '';\n",
              "          dataTable['output_type'] = 'display_data';\n",
              "          await google.colab.output.renderOutput(dataTable, element);\n",
              "          const docLink = document.createElement('div');\n",
              "          docLink.innerHTML = docLinkHtml;\n",
              "          element.appendChild(docLink);\n",
              "        }\n",
              "      </script>\n",
              "    </div>\n",
              "  </div>\n",
              "  "
            ]
          },
          "metadata": {},
          "execution_count": 145
        }
      ]
    },
    {
      "cell_type": "code",
      "source": [
        "df_test.drop(df_test.columns[[1]], axis=1, inplace=True)"
      ],
      "metadata": {
        "id": "TiBZj5BjnBZy"
      },
      "execution_count": 146,
      "outputs": []
    },
    {
      "cell_type": "code",
      "source": [
        "df_test"
      ],
      "metadata": {
        "colab": {
          "base_uri": "https://localhost:8080/",
          "height": 424
        },
        "id": "fN6uznZOt-e4",
        "outputId": "4bfee60c-ebec-4b9f-9566-7db4ee83cc0f"
      },
      "execution_count": 147,
      "outputs": [
        {
          "output_type": "execute_result",
          "data": {
            "text/plain": [
              "       id  Категория\n",
              "0     843        3.0\n",
              "1    1422        3.0\n",
              "2    2782        3.0\n",
              "3    2704        3.0\n",
              "4       1        8.0\n",
              "..    ...        ...\n",
              "995  2619        0.0\n",
              "996  2518        3.0\n",
              "997  2524        0.0\n",
              "998  1577        4.0\n",
              "999  2567       10.0\n",
              "\n",
              "[1000 rows x 2 columns]"
            ],
            "text/html": [
              "\n",
              "  <div id=\"df-117af8e5-39b7-4740-a260-a4819131954c\">\n",
              "    <div class=\"colab-df-container\">\n",
              "      <div>\n",
              "<style scoped>\n",
              "    .dataframe tbody tr th:only-of-type {\n",
              "        vertical-align: middle;\n",
              "    }\n",
              "\n",
              "    .dataframe tbody tr th {\n",
              "        vertical-align: top;\n",
              "    }\n",
              "\n",
              "    .dataframe thead th {\n",
              "        text-align: right;\n",
              "    }\n",
              "</style>\n",
              "<table border=\"1\" class=\"dataframe\">\n",
              "  <thead>\n",
              "    <tr style=\"text-align: right;\">\n",
              "      <th></th>\n",
              "      <th>id</th>\n",
              "      <th>Категория</th>\n",
              "    </tr>\n",
              "  </thead>\n",
              "  <tbody>\n",
              "    <tr>\n",
              "      <th>0</th>\n",
              "      <td>843</td>\n",
              "      <td>3.0</td>\n",
              "    </tr>\n",
              "    <tr>\n",
              "      <th>1</th>\n",
              "      <td>1422</td>\n",
              "      <td>3.0</td>\n",
              "    </tr>\n",
              "    <tr>\n",
              "      <th>2</th>\n",
              "      <td>2782</td>\n",
              "      <td>3.0</td>\n",
              "    </tr>\n",
              "    <tr>\n",
              "      <th>3</th>\n",
              "      <td>2704</td>\n",
              "      <td>3.0</td>\n",
              "    </tr>\n",
              "    <tr>\n",
              "      <th>4</th>\n",
              "      <td>1</td>\n",
              "      <td>8.0</td>\n",
              "    </tr>\n",
              "    <tr>\n",
              "      <th>...</th>\n",
              "      <td>...</td>\n",
              "      <td>...</td>\n",
              "    </tr>\n",
              "    <tr>\n",
              "      <th>995</th>\n",
              "      <td>2619</td>\n",
              "      <td>0.0</td>\n",
              "    </tr>\n",
              "    <tr>\n",
              "      <th>996</th>\n",
              "      <td>2518</td>\n",
              "      <td>3.0</td>\n",
              "    </tr>\n",
              "    <tr>\n",
              "      <th>997</th>\n",
              "      <td>2524</td>\n",
              "      <td>0.0</td>\n",
              "    </tr>\n",
              "    <tr>\n",
              "      <th>998</th>\n",
              "      <td>1577</td>\n",
              "      <td>4.0</td>\n",
              "    </tr>\n",
              "    <tr>\n",
              "      <th>999</th>\n",
              "      <td>2567</td>\n",
              "      <td>10.0</td>\n",
              "    </tr>\n",
              "  </tbody>\n",
              "</table>\n",
              "<p>1000 rows × 2 columns</p>\n",
              "</div>\n",
              "      <button class=\"colab-df-convert\" onclick=\"convertToInteractive('df-117af8e5-39b7-4740-a260-a4819131954c')\"\n",
              "              title=\"Convert this dataframe to an interactive table.\"\n",
              "              style=\"display:none;\">\n",
              "        \n",
              "  <svg xmlns=\"http://www.w3.org/2000/svg\" height=\"24px\"viewBox=\"0 0 24 24\"\n",
              "       width=\"24px\">\n",
              "    <path d=\"M0 0h24v24H0V0z\" fill=\"none\"/>\n",
              "    <path d=\"M18.56 5.44l.94 2.06.94-2.06 2.06-.94-2.06-.94-.94-2.06-.94 2.06-2.06.94zm-11 1L8.5 8.5l.94-2.06 2.06-.94-2.06-.94L8.5 2.5l-.94 2.06-2.06.94zm10 10l.94 2.06.94-2.06 2.06-.94-2.06-.94-.94-2.06-.94 2.06-2.06.94z\"/><path d=\"M17.41 7.96l-1.37-1.37c-.4-.4-.92-.59-1.43-.59-.52 0-1.04.2-1.43.59L10.3 9.45l-7.72 7.72c-.78.78-.78 2.05 0 2.83L4 21.41c.39.39.9.59 1.41.59.51 0 1.02-.2 1.41-.59l7.78-7.78 2.81-2.81c.8-.78.8-2.07 0-2.86zM5.41 20L4 18.59l7.72-7.72 1.47 1.35L5.41 20z\"/>\n",
              "  </svg>\n",
              "      </button>\n",
              "      \n",
              "  <style>\n",
              "    .colab-df-container {\n",
              "      display:flex;\n",
              "      flex-wrap:wrap;\n",
              "      gap: 12px;\n",
              "    }\n",
              "\n",
              "    .colab-df-convert {\n",
              "      background-color: #E8F0FE;\n",
              "      border: none;\n",
              "      border-radius: 50%;\n",
              "      cursor: pointer;\n",
              "      display: none;\n",
              "      fill: #1967D2;\n",
              "      height: 32px;\n",
              "      padding: 0 0 0 0;\n",
              "      width: 32px;\n",
              "    }\n",
              "\n",
              "    .colab-df-convert:hover {\n",
              "      background-color: #E2EBFA;\n",
              "      box-shadow: 0px 1px 2px rgba(60, 64, 67, 0.3), 0px 1px 3px 1px rgba(60, 64, 67, 0.15);\n",
              "      fill: #174EA6;\n",
              "    }\n",
              "\n",
              "    [theme=dark] .colab-df-convert {\n",
              "      background-color: #3B4455;\n",
              "      fill: #D2E3FC;\n",
              "    }\n",
              "\n",
              "    [theme=dark] .colab-df-convert:hover {\n",
              "      background-color: #434B5C;\n",
              "      box-shadow: 0px 1px 3px 1px rgba(0, 0, 0, 0.15);\n",
              "      filter: drop-shadow(0px 1px 2px rgba(0, 0, 0, 0.3));\n",
              "      fill: #FFFFFF;\n",
              "    }\n",
              "  </style>\n",
              "\n",
              "      <script>\n",
              "        const buttonEl =\n",
              "          document.querySelector('#df-117af8e5-39b7-4740-a260-a4819131954c button.colab-df-convert');\n",
              "        buttonEl.style.display =\n",
              "          google.colab.kernel.accessAllowed ? 'block' : 'none';\n",
              "\n",
              "        async function convertToInteractive(key) {\n",
              "          const element = document.querySelector('#df-117af8e5-39b7-4740-a260-a4819131954c');\n",
              "          const dataTable =\n",
              "            await google.colab.kernel.invokeFunction('convertToInteractive',\n",
              "                                                     [key], {});\n",
              "          if (!dataTable) return;\n",
              "\n",
              "          const docLinkHtml = 'Like what you see? Visit the ' +\n",
              "            '<a target=\"_blank\" href=https://colab.research.google.com/notebooks/data_table.ipynb>data table notebook</a>'\n",
              "            + ' to learn more about interactive tables.';\n",
              "          element.innerHTML = '';\n",
              "          dataTable['output_type'] = 'display_data';\n",
              "          await google.colab.output.renderOutput(dataTable, element);\n",
              "          const docLink = document.createElement('div');\n",
              "          docLink.innerHTML = docLinkHtml;\n",
              "          element.appendChild(docLink);\n",
              "        }\n",
              "      </script>\n",
              "    </div>\n",
              "  </div>\n",
              "  "
            ]
          },
          "metadata": {},
          "execution_count": 147
        }
      ]
    },
    {
      "cell_type": "code",
      "source": [
        "df_test = df_test.astype({'Категория':'Int64'})"
      ],
      "metadata": {
        "id": "wJiWj9dgxIpC"
      },
      "execution_count": 148,
      "outputs": []
    },
    {
      "cell_type": "code",
      "source": [
        "df_test.to_csv('/content/drive/MyDrive/Предобученные сети/Курск/Предобработка текста/df_messenge_lemmed_2.csv', index=False)"
      ],
      "metadata": {
        "id": "Tprn1X5FnOeY"
      },
      "execution_count": 149,
      "outputs": []
    },
    {
      "cell_type": "markdown",
      "source": [
        "**Итог: на сайте показало Score = 0.651588**"
      ],
      "metadata": {
        "id": "PrPvy9EYyoCB"
      }
    },
    {
      "cell_type": "code",
      "source": [
        "model1 = load_model('/content/drive/MyDrive/Предобученные сети/Курск/Предобработка текста/Текст_сообщения_2-Vc0.8025.hdf5')\n",
        "test_mess = np.array(df_test['Текст Сообщения_2']) # Переводим сообщения в массив\n",
        "x = tokenizer.texts_to_matrix(test_mess) # Токенизируем массив\n",
        "\n",
        "prediction = model.predict(x)\n",
        "\n",
        "for i in range(len(x)): \n",
        "  df_test.loc[i,'Категория'] = np.argmax(prediction[i])\n",
        "#df_test = df_test.replace({'Категория':{0:3,1:20}})\n",
        "df_test"
      ],
      "metadata": {
        "id": "XqDQdNwpnzfl"
      },
      "execution_count": null,
      "outputs": []
    }
  ]
}